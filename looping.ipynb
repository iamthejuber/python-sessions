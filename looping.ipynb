{
 "cells": [
  {
   "cell_type": "code",
   "execution_count": 1,
   "id": "fccd01ad",
   "metadata": {},
   "outputs": [
    {
     "name": "stdout",
     "output_type": "stream",
     "text": [
      "0\n",
      "1\n",
      "2\n",
      "3\n",
      "4\n",
      "5\n",
      "6\n",
      "7\n",
      "8\n",
      "9\n"
     ]
    }
   ],
   "source": [
    "for i in range(10):\n",
    "    print(i)"
   ]
  },
  {
   "cell_type": "code",
   "execution_count": 2,
   "id": "53f6796b",
   "metadata": {},
   "outputs": [
    {
     "name": "stdout",
     "output_type": "stream",
     "text": [
      "0\n",
      "1\n",
      "2\n",
      "3\n",
      "4\n",
      "5\n",
      "6\n",
      "7\n",
      "8\n",
      "9\n",
      "10\n",
      "11\n",
      "12\n",
      "13\n",
      "14\n",
      "15\n",
      "16\n",
      "17\n",
      "18\n",
      "19\n"
     ]
    }
   ],
   "source": [
    "for i in range(20):\n",
    "    print(i)"
   ]
  },
  {
   "cell_type": "code",
   "execution_count": 4,
   "id": "8430056a",
   "metadata": {},
   "outputs": [
    {
     "name": "stdout",
     "output_type": "stream",
     "text": [
      "0 1 2 3 4 5 6 7 8 9 10 11 12 13 14 15 16 17 18 19 "
     ]
    }
   ],
   "source": [
    "for i in range(20):\n",
    "    print(i,end=\" \")"
   ]
  },
  {
   "cell_type": "code",
   "execution_count": 5,
   "id": "ca5e3bd9",
   "metadata": {},
   "outputs": [
    {
     "name": "stdout",
     "output_type": "stream",
     "text": [
      "10 11 12 13 14 15 16 17 18 19 "
     ]
    }
   ],
   "source": [
    "#pattern=2#\n",
    "\n",
    "for i in range(10,20):\n",
    "    print(i,end=\" \")"
   ]
  },
  {
   "cell_type": "code",
   "execution_count": 10,
   "id": "42fd30da",
   "metadata": {},
   "outputs": [
    {
     "name": "stdout",
     "output_type": "stream",
     "text": [
      "5 8 "
     ]
    }
   ],
   "source": [
    "#pattern=3#\n",
    "\n",
    "for i in range(5,10,3):\n",
    "    print(i,end=\" \")"
   ]
  },
  {
   "cell_type": "code",
   "execution_count": 8,
   "id": "362af612",
   "metadata": {},
   "outputs": [
    {
     "name": "stdout",
     "output_type": "stream",
     "text": [
      "5 8 11 14 17 "
     ]
    }
   ],
   "source": [
    "for i in range(5,20,3):\n",
    "    print(i,end=\" \")"
   ]
  },
  {
   "cell_type": "code",
   "execution_count": 11,
   "id": "335eb744",
   "metadata": {},
   "outputs": [],
   "source": [
    "for i in range(5,20,-3):\n",
    "    print(i,end=\" \")"
   ]
  },
  {
   "cell_type": "code",
   "execution_count": 12,
   "id": "8ddea766",
   "metadata": {},
   "outputs": [
    {
     "name": "stdout",
     "output_type": "stream",
     "text": [
      "5 8 11 14 17 "
     ]
    }
   ],
   "source": [
    "for i in range(5,20,3):\n",
    "    print(i,end=\" \")"
   ]
  },
  {
   "cell_type": "code",
   "execution_count": 13,
   "id": "f1da6619",
   "metadata": {},
   "outputs": [
    {
     "name": "stdout",
     "output_type": "stream",
     "text": [
      "-5 -8 -11 -14 -17 "
     ]
    }
   ],
   "source": [
    "for i in range(-5,-20,-3):\n",
    "    print(i,end=\" \")"
   ]
  },
  {
   "cell_type": "code",
   "execution_count": 14,
   "id": "63b33561",
   "metadata": {},
   "outputs": [],
   "source": [
    "for i in range(5,20,-3):\n",
    "    print(i,end=\" \") # no ans/no error"
   ]
  },
  {
   "cell_type": "code",
   "execution_count": 16,
   "id": "f0eef4a7",
   "metadata": {},
   "outputs": [
    {
     "name": "stdout",
     "output_type": "stream",
     "text": [
      "10 13 16 19 22 25 28 "
     ]
    }
   ],
   "source": [
    "for i in range(10,30,3):\n",
    "    print(i,end=\" \")"
   ]
  },
  {
   "cell_type": "code",
   "execution_count": 17,
   "id": "f664e4fe",
   "metadata": {},
   "outputs": [],
   "source": [
    "for i in range(10,30,-3):\n",
    "    print(i,end=\" \")"
   ]
  },
  {
   "cell_type": "code",
   "execution_count": 18,
   "id": "31595d73",
   "metadata": {},
   "outputs": [
    {
     "name": "stdout",
     "output_type": "stream",
     "text": [
      "40 37 34 31 28 25 22 "
     ]
    }
   ],
   "source": [
    "for i in range(40,20,-3):\n",
    "    print(i,end=\" \")"
   ]
  },
  {
   "cell_type": "code",
   "execution_count": 19,
   "id": "16f1850f",
   "metadata": {},
   "outputs": [
    {
     "name": "stdout",
     "output_type": "stream",
     "text": [
      "-20 -17 -14 -11 "
     ]
    }
   ],
   "source": [
    "for i in range(-20,-10,3):\n",
    "    print(i,end=\" \")"
   ]
  },
  {
   "cell_type": "code",
   "execution_count": 20,
   "id": "0ed1a2cd",
   "metadata": {},
   "outputs": [],
   "source": [
    "for i in range(-20,10,-3):\n",
    "    print(i,end=\" \") # not possible"
   ]
  },
  {
   "cell_type": "code",
   "execution_count": null,
   "id": "76016360",
   "metadata": {},
   "outputs": [],
   "source": []
  },
  {
   "cell_type": "code",
   "execution_count": 23,
   "id": "10f84af1",
   "metadata": {},
   "outputs": [
    {
     "name": "stdout",
     "output_type": "stream",
     "text": [
      "0 1 4 9 16 25 36 49 64 81 "
     ]
    }
   ],
   "source": [
    "for i in range(10):\n",
    "    print(i**2,end=\" \")"
   ]
  },
  {
   "cell_type": "code",
   "execution_count": 27,
   "id": "f2635660",
   "metadata": {},
   "outputs": [
    {
     "name": "stdout",
     "output_type": "stream",
     "text": [
      " the 7*1 is 7\n",
      " the 7*2 is 14\n",
      " the 7*3 is 21\n",
      " the 7*4 is 28\n",
      " the 7*5 is 35\n",
      " the 7*6 is 42\n",
      " the 7*7 is 49\n",
      " the 7*8 is 56\n",
      " the 7*9 is 63\n",
      " the 7*10 is 70\n"
     ]
    }
   ],
   "source": [
    "for i in range(1,11):\n",
    "    print(\" the 7*{} is {}\".format(i,7*i))"
   ]
  },
  {
   "cell_type": "code",
   "execution_count": 30,
   "id": "0ff4aefb",
   "metadata": {},
   "outputs": [
    {
     "data": {
      "text/plain": [
       "256"
      ]
     },
     "execution_count": 30,
     "metadata": {},
     "output_type": "execute_result"
    }
   ],
   "source": [
    "import random\n",
    "num=random.randint(1,100)\n",
    "square_num=num*num\n",
    "square_num"
   ]
  },
  {
   "cell_type": "code",
   "execution_count": 31,
   "id": "f53da915",
   "metadata": {},
   "outputs": [
    {
     "name": "stdout",
     "output_type": "stream",
     "text": [
      "3364\n",
      "4356\n",
      "100\n",
      "2116\n",
      "9801\n"
     ]
    }
   ],
   "source": [
    "import random\n",
    "for num in range(5):\n",
    "    num=random.randint(1,100)\n",
    "    print(num*num)"
   ]
  },
  {
   "cell_type": "code",
   "execution_count": 32,
   "id": "f998a18b",
   "metadata": {},
   "outputs": [],
   "source": [
    "try:\n",
    "    def with_out_argument():\n",
    "        import random\n",
    "        for num in range(10):\n",
    "            num=random.randint(1,100)\n",
    "            print(num*num)\n",
    "except Exception as e:\n",
    "    print(e)"
   ]
  },
  {
   "cell_type": "code",
   "execution_count": 33,
   "id": "fb3c9a08",
   "metadata": {},
   "outputs": [
    {
     "name": "stdout",
     "output_type": "stream",
     "text": [
      "5929\n",
      "5476\n",
      "7921\n",
      "36\n",
      "4624\n",
      "9216\n",
      "1024\n",
      "3844\n",
      "7744\n",
      "1849\n"
     ]
    }
   ],
   "source": [
    "with_out_argument()"
   ]
  },
  {
   "cell_type": "code",
   "execution_count": 34,
   "id": "a6afc089",
   "metadata": {},
   "outputs": [],
   "source": [
    "try:\n",
    "    def with_argument(a,b):\n",
    "        import random\n",
    "        for num in range(10):\n",
    "            num=random.randint(1,100)\n",
    "            print(num*num)\n",
    "except Exception as e:\n",
    "    print(e)"
   ]
  },
  {
   "cell_type": "code",
   "execution_count": 35,
   "id": "51bb8ee6",
   "metadata": {},
   "outputs": [
    {
     "name": "stdout",
     "output_type": "stream",
     "text": [
      "6084\n",
      "1024\n",
      "6084\n",
      "10000\n",
      "5476\n",
      "361\n",
      "8100\n",
      "2116\n",
      "10000\n",
      "9025\n"
     ]
    }
   ],
   "source": [
    "with_argument(10,20)"
   ]
  },
  {
   "cell_type": "code",
   "execution_count": 36,
   "id": "d989a1d5",
   "metadata": {},
   "outputs": [],
   "source": [
    "try:\n",
    "    def with_out_argument():\n",
    "        import random\n",
    "        for num in range(10):\n",
    "            num=random.randint(1,100)\n",
    "            print(num*num)\n",
    "            return(num)\n",
    "except Exception as e:\n",
    "    print(e)"
   ]
  },
  {
   "cell_type": "code",
   "execution_count": 37,
   "id": "e4e9dd05",
   "metadata": {},
   "outputs": [
    {
     "name": "stdout",
     "output_type": "stream",
     "text": [
      "8281\n"
     ]
    },
    {
     "data": {
      "text/plain": [
       "91"
      ]
     },
     "execution_count": 37,
     "metadata": {},
     "output_type": "execute_result"
    }
   ],
   "source": [
    "with_out_argument()"
   ]
  },
  {
   "cell_type": "code",
   "execution_count": 38,
   "id": "a32c03d2",
   "metadata": {},
   "outputs": [
    {
     "name": "stdout",
     "output_type": "stream",
     "text": [
      "99\n"
     ]
    }
   ],
   "source": [
    "print(num)"
   ]
  },
  {
   "cell_type": "code",
   "execution_count": 39,
   "id": "e3124cb9",
   "metadata": {},
   "outputs": [
    {
     "name": "stdout",
     "output_type": "stream",
     "text": [
      "the square of 10 is 100\n",
      "the square of 66 is 4356\n",
      "the square of 71 is 5041\n",
      "the square of 58 is 3364\n",
      "the square of 65 is 4225\n"
     ]
    }
   ],
   "source": [
    "for i in range (5):\n",
    "    num=random.randint(1,100)\n",
    "    print(\"the square of {} is {}\".format(num,num*num))"
   ]
  },
  {
   "cell_type": "code",
   "execution_count": 42,
   "id": "ec5e22ed",
   "metadata": {},
   "outputs": [
    {
     "name": "stdout",
     "output_type": "stream",
     "text": [
      "10 it is even number\n",
      "11 it is odd number\n",
      "12 it is even number\n",
      "13 it is odd number\n",
      "14 it is even number\n",
      "15 it is odd number\n",
      "16 it is even number\n",
      "17 it is odd number\n",
      "18 it is even number\n",
      "19 it is odd number\n",
      "20 it is even number\n",
      "21 it is odd number\n",
      "22 it is even number\n",
      "23 it is odd number\n",
      "24 it is even number\n",
      "25 it is odd number\n",
      "26 it is even number\n",
      "27 it is odd number\n",
      "28 it is even number\n",
      "29 it is odd number\n",
      "30 it is even number\n",
      "31 it is odd number\n",
      "32 it is even number\n",
      "33 it is odd number\n",
      "34 it is even number\n",
      "35 it is odd number\n",
      "36 it is even number\n",
      "37 it is odd number\n",
      "38 it is even number\n",
      "39 it is odd number\n"
     ]
    }
   ],
   "source": [
    "for i in range (10,40):\n",
    "    if i%2==0:\n",
    "        print(\"{} it is even number\".format(i))\n",
    "    else:\n",
    "        print(\"{} it is odd number\".format(i))"
   ]
  },
  {
   "cell_type": "code",
   "execution_count": 45,
   "id": "77d71d85",
   "metadata": {},
   "outputs": [
    {
     "name": "stdout",
     "output_type": "stream",
     "text": [
      "enter the number: 11\n",
      "you lost\n",
      "enter the number: 19\n",
      "you lost\n",
      "enter the number: 7\n",
      "you lost\n"
     ]
    }
   ],
   "source": [
    "import random\n",
    "num1=random.randint(1,20)\n",
    "for i in range(3):\n",
    "    num2=eval(input(\"enter the number: \"))\n",
    "    if num1==num2:\n",
    "        print(\"You won\")\n",
    "    else:\n",
    "        print('you lost')"
   ]
  },
  {
   "cell_type": "code",
   "execution_count": 46,
   "id": "0bff64fa",
   "metadata": {},
   "outputs": [
    {
     "name": "stdout",
     "output_type": "stream",
     "text": [
      "7\n",
      "enter the number: 7\n",
      "You won\n"
     ]
    }
   ],
   "source": [
    "import random\n",
    "num1=random.randint(1,20)\n",
    "print(num1)\n",
    "for i in range(3):\n",
    "    num2=eval(input(\"enter the number: \"))\n",
    "    if num1==num2:\n",
    "        print(\"You won\")\n",
    "        break\n",
    "    else:\n",
    "        print('you lost')"
   ]
  },
  {
   "cell_type": "code",
   "execution_count": 3,
   "id": "db4c3cdf",
   "metadata": {},
   "outputs": [
    {
     "name": "stdout",
     "output_type": "stream",
     "text": [
      "7\n",
      "You lost\n",
      "you have 0 chances left\n",
      "num1 is: 6\n",
      "6\n",
      "You won\n"
     ]
    }
   ],
   "source": [
    "import random\n",
    "num1=random.randint(1,20)\n",
    "for i in range(3):\n",
    "    num2=eval(input())\n",
    "    if num2==num1:\n",
    "        print(\"You won\")\n",
    "        break\n",
    "    else:\n",
    "        print(\"You lost\")\n",
    "        print(\"you have {} chances left\".format(i))\n",
    "        print(\"num1 is:\",num1)"
   ]
  },
  {
   "cell_type": "code",
   "execution_count": 4,
   "id": "038ad3ab",
   "metadata": {
    "scrolled": true
   },
   "outputs": [
    {
     "name": "stdout",
     "output_type": "stream",
     "text": [
      "enter the number of chances:7\n",
      "Enter the Number:7\n",
      "11 is not equal to 7 and YOU LOST\n",
      " 6 is left \n",
      "Enter the Number:6\n",
      "4 is not equal to 6 and YOU LOST\n",
      " 5 is left \n",
      "Enter the Number:5\n",
      "15 is not equal to 5 and YOU LOST\n",
      " 4 is left \n",
      "Enter the Number:4\n",
      "8 is not equal to 4 and YOU LOST\n",
      " 3 is left \n",
      "Enter the Number:3\n",
      "15 is not equal to 3 and YOU LOST\n",
      " 2 is left \n",
      "Enter the Number:14\n",
      "6 is not equal to 14 and YOU LOST\n",
      " 1 is left \n",
      "Enter the Number:7\n",
      "15 is not equal to 7 and YOU LOST\n",
      " 0 is left \n"
     ]
    }
   ],
   "source": [
    "import random\n",
    "chances=eval(input(\"enter the number of chances:\"))\n",
    "for i in range(chances):\n",
    "    num1=random.randint(1,15)\n",
    "    num2=eval(input(\"Enter the Number:\"))\n",
    "    if num1==num2:\n",
    "        print(\"{} is equal to {} and YOU WON\".format(num1,num2))\n",
    "        break\n",
    "    else:\n",
    "        print(\"{} is not equal to {} and YOU LOST\".format(num1,num2))\n",
    "        print(\" {} is left \".format(chances-1-i)) # 3-1-0 =2"
   ]
  },
  {
   "cell_type": "code",
   "execution_count": 7,
   "id": "6064bdbc",
   "metadata": {},
   "outputs": [
    {
     "name": "stdout",
     "output_type": "stream",
     "text": [
      "enter a number:5\n",
      "25 "
     ]
    }
   ],
   "source": [
    "number=eval(input(\"enter a number:\"))\n",
    "m=number*number\n",
    "print(m,end=\" \")"
   ]
  },
  {
   "cell_type": "code",
   "execution_count": null,
   "id": "21400f60",
   "metadata": {},
   "outputs": [],
   "source": [
    "#game guessing\n",
    "import random\n",
    "num1=random.randint(1,20)\n",
    "for i in range(3):\n",
    "    num2=eval(input(\"enter a number:\"))\n",
    "    if num1==num2:\n",
    "        print(\"you won\")\n",
    "    else:\n",
    "        print(\"you lost\")A\n"
   ]
  },
  {
   "cell_type": "code",
   "execution_count": null,
   "id": "69c60178",
   "metadata": {},
   "outputs": [],
   "source": []
  },
  {
   "cell_type": "code",
   "execution_count": null,
   "id": "516cc498",
   "metadata": {},
   "outputs": [],
   "source": [
    "num=10\n",
    "for i in range(10):\n",
    "    num=num+i\n",
    "    print(num)"
   ]
  },
  {
   "cell_type": "code",
   "execution_count": null,
   "id": "b57721e3",
   "metadata": {},
   "outputs": [],
   "source": [
    "name=input(\"enter your name:\")\n",
    "count=0\n",
    "for i in name:\n",
    "    if i==\"a\":\n",
    "        count=count+1\n",
    "        \n"
   ]
  },
  {
   "cell_type": "code",
   "execution_count": null,
   "id": "6fab8bfb",
   "metadata": {},
   "outputs": [],
   "source": []
  },
  {
   "cell_type": "code",
   "execution_count": null,
   "id": "f95f49e9",
   "metadata": {},
   "outputs": [],
   "source": [
    "while loop"
   ]
  },
  {
   "cell_type": "code",
   "execution_count": null,
   "id": "37ec5db7",
   "metadata": {},
   "outputs": [],
   "source": []
  },
  {
   "cell_type": "code",
   "execution_count": 1,
   "id": "176c2481",
   "metadata": {},
   "outputs": [
    {
     "name": "stdout",
     "output_type": "stream",
     "text": [
      "0 1 2 3 4 5 6 7 8 9 10 "
     ]
    }
   ],
   "source": [
    "i=0\n",
    "while i<=10:\n",
    "    print(i,end=\" \")\n",
    "    i=i+1"
   ]
  },
  {
   "cell_type": "code",
   "execution_count": 2,
   "id": "4d10771c",
   "metadata": {},
   "outputs": [
    {
     "name": "stdout",
     "output_type": "stream",
     "text": [
      "-1 -2 -3 -4 -5 -6 -7 -8 -9 -10 "
     ]
    }
   ],
   "source": [
    "for i in range(-1,-11,-1):\n",
    "    print(i,end=\" \")"
   ]
  },
  {
   "cell_type": "code",
   "execution_count": 8,
   "id": "01d67312",
   "metadata": {},
   "outputs": [
    {
     "name": "stdout",
     "output_type": "stream",
     "text": [
      "-1 -2 -3 -4 -5 -6 -7 -8 -9 -10 -11 "
     ]
    }
   ],
   "source": [
    "i=-1\n",
    "while -11<=i:\n",
    "    print(i,end=\" \")\n",
    "    i=i-1"
   ]
  },
  {
   "cell_type": "code",
   "execution_count": 13,
   "id": "385fc3e7",
   "metadata": {},
   "outputs": [
    {
     "name": "stdout",
     "output_type": "stream",
     "text": [
      "-10 -9 -8 -7 -6 -5 -4 -3 -2 -1 0 "
     ]
    }
   ],
   "source": [
    "i=-10\n",
    "while i<=0:\n",
    "    print(i,end=\" \")\n",
    "    i=i+1"
   ]
  },
  {
   "cell_type": "code",
   "execution_count": 21,
   "id": "8697754f",
   "metadata": {},
   "outputs": [
    {
     "name": "stdout",
     "output_type": "stream",
     "text": [
      "-1 0 1 2 3 4 5 6 7 8 9 10 "
     ]
    }
   ],
   "source": [
    "i=-1\n",
    "while i<=10:\n",
    "    print(i,end=\" \")\n",
    "    i=i+1"
   ]
  },
  {
   "cell_type": "code",
   "execution_count": 22,
   "id": "cfc82842",
   "metadata": {},
   "outputs": [
    {
     "name": "stdout",
     "output_type": "stream",
     "text": [
      "-1 -2 -3 -4 -5 -6 -7 -8 -9 -10 "
     ]
    }
   ],
   "source": [
    "i=-1\n",
    "while -10<=i:\n",
    "    print(i,end=\" \")\n",
    "    i=i-1"
   ]
  },
  {
   "cell_type": "code",
   "execution_count": null,
   "id": "b403fac3",
   "metadata": {},
   "outputs": [],
   "source": [
    "i=-10\n",
    "while i<=-10:\n",
    "    print(i,end=\" \")\n",
    "    i=i+1"
   ]
  },
  {
   "cell_type": "code",
   "execution_count": null,
   "id": "8c4f776a",
   "metadata": {},
   "outputs": [],
   "source": [
    "#share sir whatsapp \n",
    "i=-1\n",
    "while i<-11:\n",
    "    print(i,end=\" \")\n",
    "    i=i+1"
   ]
  },
  {
   "cell_type": "code",
   "execution_count": 6,
   "id": "e06211d7",
   "metadata": {},
   "outputs": [
    {
     "name": "stdout",
     "output_type": "stream",
     "text": [
      "-1 -2 -3 -4 -5 -6 -7 -8 -9 -10 "
     ]
    }
   ],
   "source": [
    "#practise\n",
    "\n",
    "for i in range(-1,-11,-1):\n",
    "    print(i,end=\" \")"
   ]
  },
  {
   "cell_type": "code",
   "execution_count": 24,
   "id": "5e042f44",
   "metadata": {},
   "outputs": [
    {
     "name": "stdout",
     "output_type": "stream",
     "text": [
      "-1 -2 -3 -4 -5 -6 -7 -8 -9 -10 -11 "
     ]
    }
   ],
   "source": [
    "i=-1\n",
    "while -11<=i:\n",
    "    print(i,end=\" \")\n",
    "    i=i-1"
   ]
  },
  {
   "cell_type": "code",
   "execution_count": 10,
   "id": "1f5aa3fd",
   "metadata": {},
   "outputs": [
    {
     "name": "stdout",
     "output_type": "stream",
     "text": [
      "-10 -9 -8 -7 -6 -5 -4 -3 -2 -1 "
     ]
    }
   ],
   "source": [
    "for i in range(-10,0,1):\n",
    "    print(i,end=\" \")"
   ]
  },
  {
   "cell_type": "code",
   "execution_count": 25,
   "id": "26f010c6",
   "metadata": {},
   "outputs": [
    {
     "name": "stdout",
     "output_type": "stream",
     "text": [
      "-10 -9 -8 -7 -6 -5 -4 -3 -2 -1 0 "
     ]
    }
   ],
   "source": [
    "i=-10\n",
    "while i<=0:\n",
    "    print(i,end=\" \")\n",
    "    i=i+1"
   ]
  },
  {
   "cell_type": "code",
   "execution_count": 38,
   "id": "95142d36",
   "metadata": {},
   "outputs": [],
   "source": [
    "for i in range(-10,0,-1):\n",
    "    print(i,end=\" \")"
   ]
  },
  {
   "cell_type": "code",
   "execution_count": null,
   "id": "b43604cc",
   "metadata": {},
   "outputs": [],
   "source": [
    "i=0\n",
    "while 10>=i:\n",
    "    print(i,end=\" \")\n",
    "    i=i+1"
   ]
  },
  {
   "cell_type": "code",
   "execution_count": 52,
   "id": "fa766a37",
   "metadata": {},
   "outputs": [
    {
     "name": "stdout",
     "output_type": "stream",
     "text": [
      "33 ! 34 \" 35 # 36 $ 37 % 38 & 39 ' 40 ( 41 ) 42 * 43 + 44 , 45 - 46 . 47 / 48 0 49 1 50 2 51 3 52 4 53 5 54 6 55 7 56 8 57 9 58 : 59 ; 60 < 61 = 62 > 63 ? 64 @ 65 A 66 B 67 C 68 D 69 E 70 F 71 G 72 H 73 I 74 J 75 K 76 L 77 M 78 N 79 O 80 P 81 Q 82 R 83 S 84 T 85 U 86 V 87 W 88 X 89 Y 90 Z 91 [ 92 \\ 93 ] 94 ^ 95 _ 96 ` 97 a 98 b 99 c 100 d 101 e 102 f 103 g 104 h 105 i 106 j 107 k 108 l 109 m 110 n 111 o 112 p 113 q 114 r 115 s 116 t 117 u 118 v 119 w 120 x 121 y 122 z 123 { 124 | 125 } 126 ~ "
     ]
    }
   ],
   "source": [
    "for i in range(33,127):\n",
    "    print(i,chr(i),end=\" \")"
   ]
  },
  {
   "cell_type": "code",
   "execution_count": 59,
   "id": "2ee9f424",
   "metadata": {},
   "outputs": [
    {
     "name": "stdout",
     "output_type": "stream",
     "text": [
      "7 8 9 10 11 12 13 14 15 16 17 18 19 20 "
     ]
    }
   ],
   "source": [
    "for i in range(7,21):\n",
    "    print(i,end=\" \")"
   ]
  },
  {
   "cell_type": "code",
   "execution_count": 61,
   "id": "b09cc4d7",
   "metadata": {},
   "outputs": [],
   "source": [
    "i=7\n",
    "while i>=19:\n",
    "    print(i,end=\" \")\n",
    "    i=i+1"
   ]
  },
  {
   "cell_type": "code",
   "execution_count": 62,
   "id": "5c2dc318",
   "metadata": {},
   "outputs": [
    {
     "name": "stdout",
     "output_type": "stream",
     "text": [
      "juber\n",
      "juber\n",
      "juber\n",
      "juber\n",
      "juber\n"
     ]
    }
   ],
   "source": [
    "i=1\n",
    "while i<=5:\n",
    "    print(\"juber\")\n",
    "    i=i+1"
   ]
  },
  {
   "cell_type": "code",
   "execution_count": 63,
   "id": "84212960",
   "metadata": {},
   "outputs": [
    {
     "name": "stdout",
     "output_type": "stream",
     "text": [
      "juber\n",
      "juber\n",
      "juber\n",
      "juber\n",
      "juber\n"
     ]
    }
   ],
   "source": [
    "i=5\n",
    "while i>=1:\n",
    "    print(\"juber\")\n",
    "    i=i-1"
   ]
  },
  {
   "cell_type": "code",
   "execution_count": 67,
   "id": "805cc2e1",
   "metadata": {},
   "outputs": [
    {
     "name": "stdout",
     "output_type": "stream",
     "text": [
      "-1\n",
      "0\n",
      "1\n",
      "2\n",
      "3\n",
      "4\n",
      "5\n",
      "6\n",
      "7\n",
      "8\n",
      "9\n",
      "10\n"
     ]
    }
   ],
   "source": [
    "i=-1\n",
    "while i<=10:\n",
    "    print(i)\n",
    "    i=i+1"
   ]
  },
  {
   "cell_type": "code",
   "execution_count": 69,
   "id": "9b30a0d5",
   "metadata": {},
   "outputs": [
    {
     "name": "stdout",
     "output_type": "stream",
     "text": [
      "9\n",
      "8\n",
      "7\n",
      "6\n",
      "5\n",
      "4\n",
      "3\n",
      "2\n",
      "1\n",
      "0\n",
      "-1\n"
     ]
    }
   ],
   "source": [
    "i=9\n",
    "while i>=-1:\n",
    "    print(i)\n",
    "    i=i-1"
   ]
  },
  {
   "cell_type": "code",
   "execution_count": null,
   "id": "2bf355c4",
   "metadata": {},
   "outputs": [],
   "source": []
  }
 ],
 "metadata": {
  "kernelspec": {
   "display_name": "Python 3 (ipykernel)",
   "language": "python",
   "name": "python3"
  },
  "language_info": {
   "codemirror_mode": {
    "name": "ipython",
    "version": 3
   },
   "file_extension": ".py",
   "mimetype": "text/x-python",
   "name": "python",
   "nbconvert_exporter": "python",
   "pygments_lexer": "ipython3",
   "version": "3.11.5"
  }
 },
 "nbformat": 4,
 "nbformat_minor": 5
}
