{
 "cells": [
  {
   "cell_type": "code",
   "execution_count": null,
   "id": "12dd61a8",
   "metadata": {},
   "outputs": [],
   "source": [
    "- strings\n",
    "- List\n",
    "- dictionary\n",
    "- tuple/set\n",
    "- lambda functions\n",
    "- file handling\n"
   ]
  },
  {
   "cell_type": "markdown",
   "id": "1de44d64",
   "metadata": {},
   "source": [
    "$Dictionary$"
   ]
  },
  {
   "cell_type": "code",
   "execution_count": 96,
   "id": "d129d86a",
   "metadata": {},
   "outputs": [
    {
     "name": "stdout",
     "output_type": "stream",
     "text": [
      "the Ram age is 25:\n",
      "the Raheem age is 30:\n",
      "the Robert age is 35:\n"
     ]
    }
   ],
   "source": [
    "names=['Ram','Raheem','Robert']\n",
    "ages=[25,30,35]\n",
    "for i,j in zip(names,ages):\n",
    "    print('the {} age is {}:'.format(i,j))"
   ]
  },
  {
   "cell_type": "markdown",
   "id": "f345ce32",
   "metadata": {},
   "source": [
    "#### key- value pair concept"
   ]
  },
  {
   "cell_type": "markdown",
   "id": "f4a55f9c",
   "metadata": {},
   "source": [
    "${key:value}$\n",
    "*key words:*\n",
    "-len\n",
    "-type\n",
    "-max\n",
    "-min"
   ]
  },
  {
   "cell_type": "code",
   "execution_count": 97,
   "id": "5fcc378a",
   "metadata": {},
   "outputs": [
    {
     "data": {
      "text/plain": [
       "{'Ram': 25, 'Raheem': 30, 'Robert': 35}"
      ]
     },
     "execution_count": 97,
     "metadata": {},
     "output_type": "execute_result"
    }
   ],
   "source": [
    "dictionary={'Ram':25,'Raheem':30,'Robert':35}\n",
    "dictionary"
   ]
  },
  {
   "cell_type": "code",
   "execution_count": 98,
   "id": "48117f4c",
   "metadata": {},
   "outputs": [
    {
     "data": {
      "text/plain": [
       "dict"
      ]
     },
     "execution_count": 98,
     "metadata": {},
     "output_type": "execute_result"
    }
   ],
   "source": [
    "type(dictionary)"
   ]
  },
  {
   "cell_type": "code",
   "execution_count": 99,
   "id": "88b62465",
   "metadata": {},
   "outputs": [
    {
     "data": {
      "text/plain": [
       "3"
      ]
     },
     "execution_count": 99,
     "metadata": {},
     "output_type": "execute_result"
    }
   ],
   "source": [
    "len(dictionary)"
   ]
  },
  {
   "cell_type": "code",
   "execution_count": 100,
   "id": "982a4532",
   "metadata": {},
   "outputs": [
    {
     "data": {
      "text/plain": [
       "'Robert'"
      ]
     },
     "execution_count": 100,
     "metadata": {},
     "output_type": "execute_result"
    }
   ],
   "source": [
    "max(dictionary)"
   ]
  },
  {
   "cell_type": "code",
   "execution_count": 101,
   "id": "f24e4a2d",
   "metadata": {},
   "outputs": [
    {
     "data": {
      "text/plain": [
       "'Raheem'"
      ]
     },
     "execution_count": 101,
     "metadata": {},
     "output_type": "execute_result"
    }
   ],
   "source": [
    "min(dictionary)"
   ]
  },
  {
   "cell_type": "markdown",
   "id": "816e383f",
   "metadata": {},
   "source": [
    "- max values and min values based on keys only"
   ]
  },
  {
   "cell_type": "code",
   "execution_count": 102,
   "id": "9b48481a",
   "metadata": {},
   "outputs": [
    {
     "data": {
      "text/plain": [
       "{'names': ['Ram', 'Raheem', 'Robert'], 'ages': [25, 30, 35]}"
      ]
     },
     "execution_count": 102,
     "metadata": {},
     "output_type": "execute_result"
    }
   ],
   "source": [
    "d1={'Ram':25,'Raheem':30,'Robert':35}\n",
    "d2={'names':[\"Ram\",\"Raheem\",\"Robert\"],'ages':[25,30,35]}\n",
    "d2"
   ]
  },
  {
   "cell_type": "code",
   "execution_count": 103,
   "id": "a565739c",
   "metadata": {},
   "outputs": [
    {
     "data": {
      "text/plain": [
       "{25: 'Ram'}"
      ]
     },
     "execution_count": 103,
     "metadata": {},
     "output_type": "execute_result"
    }
   ],
   "source": [
    "d3={25:'Ram'}\n",
    "d3"
   ]
  },
  {
   "cell_type": "code",
   "execution_count": 104,
   "id": "b70f12ed",
   "metadata": {},
   "outputs": [
    {
     "ename": "SyntaxError",
     "evalue": "invalid syntax (848916059.py, line 1)",
     "output_type": "error",
     "traceback": [
      "\u001b[1;36m  Cell \u001b[1;32mIn[104], line 1\u001b[1;36m\u001b[0m\n\u001b[1;33m    d4=\u001b[0m\n\u001b[1;37m       ^\u001b[0m\n\u001b[1;31mSyntaxError\u001b[0m\u001b[1;31m:\u001b[0m invalid syntax\n"
     ]
    }
   ],
   "source": [
    "d4="
   ]
  },
  {
   "cell_type": "code",
   "execution_count": 105,
   "id": "d424030f",
   "metadata": {},
   "outputs": [
    {
     "data": {
      "text/plain": [
       "{25, 30}"
      ]
     },
     "execution_count": 105,
     "metadata": {},
     "output_type": "execute_result"
    }
   ],
   "source": [
    "d5={25,30}\n",
    "d5"
   ]
  },
  {
   "cell_type": "code",
   "execution_count": 106,
   "id": "381ed664",
   "metadata": {},
   "outputs": [
    {
     "data": {
      "text/plain": [
       "{'A': 'Apple', 'B': 10.5, 'C': (10+5j), 12: ['A', 'B', 'C']}"
      ]
     },
     "execution_count": 106,
     "metadata": {},
     "output_type": "execute_result"
    }
   ],
   "source": [
    "d6={'A':'Apple','B':10.5,\"C\":10+5j,12:['A','B','C']}\n",
    "d6"
   ]
  },
  {
   "cell_type": "code",
   "execution_count": 107,
   "id": "8e3fdac9",
   "metadata": {},
   "outputs": [
    {
     "data": {
      "text/plain": [
       "{'Fruits': {'like': ['Apple', 'Cherry']}}"
      ]
     },
     "execution_count": 107,
     "metadata": {},
     "output_type": "execute_result"
    }
   ],
   "source": [
    "d7={'Fruits':{\"like\":['Apple','Cherry']}}   #json file types\n",
    "d7"
   ]
  },
  {
   "cell_type": "code",
   "execution_count": 108,
   "id": "d39a132f",
   "metadata": {},
   "outputs": [
    {
     "data": {
      "text/plain": [
       "[{'like': ['Apple', 'Cherry']}]"
      ]
     },
     "execution_count": 108,
     "metadata": {},
     "output_type": "execute_result"
    }
   ],
   "source": [
    "list1=[{'like':['Apple','Cherry']}]\n",
    "list1"
   ]
  },
  {
   "cell_type": "markdown",
   "id": "b23372e8",
   "metadata": {},
   "source": [
    "- if you provide values "
   ]
  },
  {
   "cell_type": "code",
   "execution_count": 109,
   "id": "a878d942",
   "metadata": {},
   "outputs": [
    {
     "data": {
      "text/plain": [
       "{'Mobin': 'Amazon'}"
      ]
     },
     "execution_count": 109,
     "metadata": {},
     "output_type": "execute_result"
    }
   ],
   "source": [
    "d8={'Mobin':'Amazon','Mobin':'Amazon'}\n",
    "d8                   # Duplicates are not allowed"
   ]
  },
  {
   "cell_type": "code",
   "execution_count": null,
   "id": "844188a5",
   "metadata": {},
   "outputs": [],
   "source": []
  },
  {
   "cell_type": "code",
   "execution_count": 110,
   "id": "85db2416",
   "metadata": {},
   "outputs": [
    {
     "data": {
      "text/plain": [
       "{'Ravi': 35}"
      ]
     },
     "execution_count": 110,
     "metadata": {},
     "output_type": "execute_result"
    }
   ],
   "source": [
    "d9={'Ravi':25,'Ravi':35}\n",
    "d9                        # if keys are same the last value will taken"
   ]
  },
  {
   "cell_type": "code",
   "execution_count": 111,
   "id": "d6e4c40a",
   "metadata": {},
   "outputs": [
    {
     "data": {
      "text/plain": [
       "{'Ram': 25, 'Raheem': 30, 'Robert': 35}"
      ]
     },
     "execution_count": 111,
     "metadata": {},
     "output_type": "execute_result"
    }
   ],
   "source": [
    "dictionary"
   ]
  },
  {
   "cell_type": "markdown",
   "id": "1e231946",
   "metadata": {},
   "source": [
    "- Keys are Important"
   ]
  },
  {
   "cell_type": "code",
   "execution_count": 112,
   "id": "a0e863e2",
   "metadata": {},
   "outputs": [
    {
     "data": {
      "text/plain": [
       "True"
      ]
     },
     "execution_count": 112,
     "metadata": {},
     "output_type": "execute_result"
    }
   ],
   "source": [
    "'Ram' in dictionary"
   ]
  },
  {
   "cell_type": "code",
   "execution_count": 113,
   "id": "70cc8581",
   "metadata": {},
   "outputs": [
    {
     "data": {
      "text/plain": [
       "True"
      ]
     },
     "execution_count": 113,
     "metadata": {},
     "output_type": "execute_result"
    }
   ],
   "source": [
    "'Raheem' in dictionary"
   ]
  },
  {
   "cell_type": "code",
   "execution_count": 114,
   "id": "8be85ef4",
   "metadata": {},
   "outputs": [
    {
     "data": {
      "text/plain": [
       "True"
      ]
     },
     "execution_count": 114,
     "metadata": {},
     "output_type": "execute_result"
    }
   ],
   "source": [
    "'Robert' in dictionary"
   ]
  },
  {
   "cell_type": "code",
   "execution_count": 115,
   "id": "29a8f36c",
   "metadata": {},
   "outputs": [],
   "source": [
    "# i in dictionary"
   ]
  },
  {
   "cell_type": "code",
   "execution_count": 116,
   "id": "0270aa8d",
   "metadata": {},
   "outputs": [
    {
     "name": "stdout",
     "output_type": "stream",
     "text": [
      "Ram\n",
      "Raheem\n",
      "Robert\n"
     ]
    }
   ],
   "source": [
    "for i in dictionary:\n",
    "    print(i)        # very very important"
   ]
  },
  {
   "cell_type": "markdown",
   "id": "97ee3976",
   "metadata": {},
   "source": [
    "$index$"
   ]
  },
  {
   "cell_type": "markdown",
   "id": "251be616",
   "metadata": {},
   "source": [
    "- dictionary index keys value retrive based on keys only"
   ]
  },
  {
   "cell_type": "code",
   "execution_count": 117,
   "id": "067f2690",
   "metadata": {},
   "outputs": [
    {
     "data": {
      "text/plain": [
       "{'Ram': 25, 'Raheem': 30, 'Robert': 35}"
      ]
     },
     "execution_count": 117,
     "metadata": {},
     "output_type": "execute_result"
    }
   ],
   "source": [
    "dictionary"
   ]
  },
  {
   "cell_type": "code",
   "execution_count": 118,
   "id": "a67cb06a",
   "metadata": {},
   "outputs": [
    {
     "ename": "KeyError",
     "evalue": "0",
     "output_type": "error",
     "traceback": [
      "\u001b[1;31m---------------------------------------------------------------------------\u001b[0m",
      "\u001b[1;31mKeyError\u001b[0m                                  Traceback (most recent call last)",
      "Cell \u001b[1;32mIn[118], line 1\u001b[0m\n\u001b[1;32m----> 1\u001b[0m dictionary[\u001b[38;5;241m0\u001b[39m]\n",
      "\u001b[1;31mKeyError\u001b[0m: 0"
     ]
    }
   ],
   "source": [
    "dictionary[0]  #with index will fail"
   ]
  },
  {
   "cell_type": "code",
   "execution_count": 119,
   "id": "118df196",
   "metadata": {},
   "outputs": [
    {
     "data": {
      "text/plain": [
       "(25, 30, 35)"
      ]
     },
     "execution_count": 119,
     "metadata": {},
     "output_type": "execute_result"
    }
   ],
   "source": [
    "dictionary['Ram'],dictionary['Raheem'],dictionary['Robert']"
   ]
  },
  {
   "cell_type": "code",
   "execution_count": 120,
   "id": "19dc8605",
   "metadata": {},
   "outputs": [
    {
     "name": "stdout",
     "output_type": "stream",
     "text": [
      "Ram 25\n",
      "Raheem 30\n",
      "Robert 35\n"
     ]
    }
   ],
   "source": [
    "for i in dictionary:\n",
    "    print(i,dictionary[i])"
   ]
  },
  {
   "cell_type": "code",
   "execution_count": 121,
   "id": "453b0815",
   "metadata": {},
   "outputs": [
    {
     "data": {
      "text/plain": [
       "(20, 30)"
      ]
     },
     "execution_count": 121,
     "metadata": {},
     "output_type": "execute_result"
    }
   ],
   "source": [
    "number=20,30\n",
    "number       # thise will discussed in function"
   ]
  },
  {
   "cell_type": "code",
   "execution_count": 122,
   "id": "be4e1fc3",
   "metadata": {},
   "outputs": [
    {
     "data": {
      "text/plain": [
       "{'names': ['Ram', 'Raheem', 'Robert'], 'ages': [25, 30, 35]}"
      ]
     },
     "execution_count": 122,
     "metadata": {},
     "output_type": "execute_result"
    }
   ],
   "source": [
    "d2"
   ]
  },
  {
   "cell_type": "code",
   "execution_count": 123,
   "id": "a0203e56",
   "metadata": {},
   "outputs": [
    {
     "data": {
      "text/plain": [
       "('Ram', 25)"
      ]
     },
     "execution_count": 123,
     "metadata": {},
     "output_type": "execute_result"
    }
   ],
   "source": [
    "d2['names'][0],d2['ages'][0]"
   ]
  },
  {
   "cell_type": "code",
   "execution_count": 124,
   "id": "b8e4a3d9",
   "metadata": {},
   "outputs": [
    {
     "data": {
      "text/plain": [
       "('Raheem', 30)"
      ]
     },
     "execution_count": 124,
     "metadata": {},
     "output_type": "execute_result"
    }
   ],
   "source": [
    "d2['names'][1],d2['ages'][1]"
   ]
  },
  {
   "cell_type": "code",
   "execution_count": 125,
   "id": "38a7a307",
   "metadata": {},
   "outputs": [
    {
     "data": {
      "text/plain": [
       "('Robert', 35)"
      ]
     },
     "execution_count": 125,
     "metadata": {},
     "output_type": "execute_result"
    }
   ],
   "source": [
    "d2['names'][2],d2['ages'][2]"
   ]
  },
  {
   "cell_type": "code",
   "execution_count": 126,
   "id": "af7e41f1",
   "metadata": {},
   "outputs": [
    {
     "name": "stdout",
     "output_type": "stream",
     "text": [
      "Ram 25\n",
      "Raheem 30\n",
      "Robert 35\n"
     ]
    }
   ],
   "source": [
    "for i in range(3):\n",
    "    print(d2['names'][i],d2['ages'][i])"
   ]
  },
  {
   "cell_type": "code",
   "execution_count": 127,
   "id": "246943b4",
   "metadata": {},
   "outputs": [
    {
     "data": {
      "text/plain": [
       "'python'"
      ]
     },
     "execution_count": 127,
     "metadata": {},
     "output_type": "execute_result"
    }
   ],
   "source": [
    "d1={'hello':{'hello':{'hello':{'hello':'python'}}}}\n",
    "d1   \n",
    "#retrive python\n",
    "d1['hello']['hello']['hello']['hello']"
   ]
  },
  {
   "cell_type": "code",
   "execution_count": 128,
   "id": "7871a827",
   "metadata": {},
   "outputs": [
    {
     "data": {
      "text/plain": [
       "'cherry'"
      ]
     },
     "execution_count": 128,
     "metadata": {},
     "output_type": "execute_result"
    }
   ],
   "source": [
    "d2={'hello':[{'fruits':['Apple','banana',{'like':['cherry']}]}]}\n",
    "d2\n",
    "#cherry\n",
    "d2['hello'][0]['fruits'][2]['like'][0]"
   ]
  },
  {
   "cell_type": "code",
   "execution_count": 129,
   "id": "9915486b",
   "metadata": {},
   "outputs": [],
   "source": [
    "dictionary={}\n",
    "list1=[]\n",
    "string1=\"\""
   ]
  },
  {
   "cell_type": "code",
   "execution_count": 130,
   "id": "f334409d",
   "metadata": {},
   "outputs": [
    {
     "data": {
      "text/plain": [
       "{'boys': 'males', 'girls': 'females'}"
      ]
     },
     "execution_count": 130,
     "metadata": {},
     "output_type": "execute_result"
    }
   ],
   "source": [
    "dict1={}\n",
    "dict1['boys']='males'\n",
    "dict1['girls']='females'\n",
    "dict1"
   ]
  },
  {
   "cell_type": "code",
   "execution_count": 131,
   "id": "a933fefe",
   "metadata": {},
   "outputs": [
    {
     "data": {
      "text/plain": [
       "{'even': [60, 82, 100], 'odd': [45, 85]}"
      ]
     },
     "execution_count": 131,
     "metadata": {},
     "output_type": "execute_result"
    }
   ],
   "source": [
    "import random\n",
    "dict1={}\n",
    "list1=[]\n",
    "list2=[]\n",
    "for i in range(5):\n",
    "    number=random.randint(10,100)\n",
    "    if number%2==0:\n",
    "        list1.append(number)\n",
    "    else:\n",
    "        list2.append(number) \n",
    "dict1['even']=list1\n",
    "dict1['odd']=list2\n",
    "dict1"
   ]
  },
  {
   "cell_type": "code",
   "execution_count": 132,
   "id": "18cb6a13",
   "metadata": {},
   "outputs": [
    {
     "data": {
      "text/plain": [
       "['__class__',\n",
       " '__class_getitem__',\n",
       " '__contains__',\n",
       " '__delattr__',\n",
       " '__delitem__',\n",
       " '__dir__',\n",
       " '__doc__',\n",
       " '__eq__',\n",
       " '__format__',\n",
       " '__ge__',\n",
       " '__getattribute__',\n",
       " '__getitem__',\n",
       " '__getstate__',\n",
       " '__gt__',\n",
       " '__hash__',\n",
       " '__init__',\n",
       " '__init_subclass__',\n",
       " '__ior__',\n",
       " '__iter__',\n",
       " '__le__',\n",
       " '__len__',\n",
       " '__lt__',\n",
       " '__ne__',\n",
       " '__new__',\n",
       " '__or__',\n",
       " '__reduce__',\n",
       " '__reduce_ex__',\n",
       " '__repr__',\n",
       " '__reversed__',\n",
       " '__ror__',\n",
       " '__setattr__',\n",
       " '__setitem__',\n",
       " '__sizeof__',\n",
       " '__str__',\n",
       " '__subclasshook__',\n",
       " 'clear',\n",
       " 'copy',\n",
       " 'fromkeys',\n",
       " 'get',\n",
       " 'items',\n",
       " 'keys',\n",
       " 'pop',\n",
       " 'popitem',\n",
       " 'setdefault',\n",
       " 'update',\n",
       " 'values']"
      ]
     },
     "execution_count": 132,
     "metadata": {},
     "output_type": "execute_result"
    }
   ],
   "source": [
    "dir({})"
   ]
  },
  {
   "cell_type": "code",
   "execution_count": 133,
   "id": "195489cb",
   "metadata": {},
   "outputs": [],
   "source": [
    "dict1={'Course_id1':'DS',\n",
    "       'Course_duration':4,\n",
    "       'Course_fee':18000,\n",
    "       'Institute':'Naresh IT'}"
   ]
  },
  {
   "cell_type": "markdown",
   "id": "c5a9726a",
   "metadata": {},
   "source": [
    "$items-keys-values$"
   ]
  },
  {
   "cell_type": "code",
   "execution_count": 134,
   "id": "24a9a279",
   "metadata": {},
   "outputs": [
    {
     "data": {
      "text/plain": [
       "dict_items([('Course_id1', 'DS'), ('Course_duration', 4), ('Course_fee', 18000), ('Institute', 'Naresh IT')])"
      ]
     },
     "execution_count": 134,
     "metadata": {},
     "output_type": "execute_result"
    }
   ],
   "source": [
    "dict1.items()      #items all will come"
   ]
  },
  {
   "cell_type": "code",
   "execution_count": 135,
   "id": "cf95ed2a",
   "metadata": {},
   "outputs": [
    {
     "data": {
      "text/plain": [
       "dict_items"
      ]
     },
     "execution_count": 135,
     "metadata": {},
     "output_type": "execute_result"
    }
   ],
   "source": [
    "type(dict1.items())"
   ]
  },
  {
   "cell_type": "code",
   "execution_count": 136,
   "id": "0ab29e73",
   "metadata": {},
   "outputs": [],
   "source": [
    "# it is a new type:dict_items\n",
    "# it is not a list"
   ]
  },
  {
   "cell_type": "code",
   "execution_count": 137,
   "id": "a979cc17",
   "metadata": {},
   "outputs": [
    {
     "name": "stdout",
     "output_type": "stream",
     "text": [
      "('Course_id1', 'DS')\n",
      "('Course_duration', 4)\n",
      "('Course_fee', 18000)\n",
      "('Institute', 'Naresh IT')\n"
     ]
    }
   ],
   "source": [
    "for i in dict1.items():\n",
    "    print(i)"
   ]
  },
  {
   "cell_type": "code",
   "execution_count": 138,
   "id": "1b0f387a",
   "metadata": {},
   "outputs": [
    {
     "name": "stdout",
     "output_type": "stream",
     "text": [
      "Course_id1 : DS\n",
      "Course_duration : 4\n",
      "Course_fee : 18000\n",
      "Institute : Naresh IT\n"
     ]
    }
   ],
   "source": [
    "for i,j in dict1.items():\n",
    "    print(i,':',j)"
   ]
  },
  {
   "cell_type": "code",
   "execution_count": 139,
   "id": "a1e40d7c",
   "metadata": {},
   "outputs": [
    {
     "data": {
      "text/plain": [
       "[('Course_id1', 'DS'),\n",
       " ('Course_duration', 4),\n",
       " ('Course_fee', 18000),\n",
       " ('Institute', 'Naresh IT')]"
      ]
     },
     "execution_count": 139,
     "metadata": {},
     "output_type": "execute_result"
    }
   ],
   "source": [
    "list(dict1.items())   # type cast using list"
   ]
  },
  {
   "cell_type": "code",
   "execution_count": 140,
   "id": "d3964a13",
   "metadata": {},
   "outputs": [
    {
     "data": {
      "text/plain": [
       "dict_keys(['Course_id1', 'Course_duration', 'Course_fee', 'Institute'])"
      ]
     },
     "execution_count": 140,
     "metadata": {},
     "output_type": "execute_result"
    }
   ],
   "source": [
    "dict1.keys()"
   ]
  },
  {
   "cell_type": "code",
   "execution_count": 141,
   "id": "66b52e78",
   "metadata": {},
   "outputs": [
    {
     "data": {
      "text/plain": [
       "dict_values(['DS', 4, 18000, 'Naresh IT'])"
      ]
     },
     "execution_count": 141,
     "metadata": {},
     "output_type": "execute_result"
    }
   ],
   "source": [
    "dict1.values()"
   ]
  },
  {
   "cell_type": "code",
   "execution_count": 142,
   "id": "998ebb04",
   "metadata": {},
   "outputs": [],
   "source": [
    "key=dict1.keys()"
   ]
  },
  {
   "cell_type": "code",
   "execution_count": 143,
   "id": "8890b2ab",
   "metadata": {},
   "outputs": [
    {
     "data": {
      "text/plain": [
       "['Course_id1', 'Course_duration', 'Course_fee', 'Institute']"
      ]
     },
     "execution_count": 143,
     "metadata": {},
     "output_type": "execute_result"
    }
   ],
   "source": [
    "list(key)"
   ]
  },
  {
   "cell_type": "code",
   "execution_count": 144,
   "id": "c95600f8",
   "metadata": {},
   "outputs": [],
   "source": [
    "values=dict1.values()"
   ]
  },
  {
   "cell_type": "code",
   "execution_count": 145,
   "id": "d411257a",
   "metadata": {},
   "outputs": [
    {
     "data": {
      "text/plain": [
       "['DS', 4, 18000, 'Naresh IT']"
      ]
     },
     "execution_count": 145,
     "metadata": {},
     "output_type": "execute_result"
    }
   ],
   "source": [
    "list(values)"
   ]
  },
  {
   "cell_type": "code",
   "execution_count": 146,
   "id": "95765b7e",
   "metadata": {},
   "outputs": [
    {
     "data": {
      "text/plain": [
       "{'Course_id1': 'DS',\n",
       " 'Course_duration': 4,\n",
       " 'Course_fee': 18000,\n",
       " 'Institute': 'Naresh IT'}"
      ]
     },
     "execution_count": 146,
     "metadata": {},
     "output_type": "execute_result"
    }
   ],
   "source": [
    "dict1"
   ]
  },
  {
   "cell_type": "code",
   "execution_count": 152,
   "id": "81538a3a",
   "metadata": {},
   "outputs": [
    {
     "name": "stdout",
     "output_type": "stream",
     "text": [
      "Juber : 23\n",
      "Jakir : 45\n",
      "Pathan : Empior\n"
     ]
    }
   ],
   "source": [
    "keys=['Juber','Jakir','Pathan']\n",
    "values=[23,45,'Empior']\n",
    "dict2={}\n",
    "for i,j in zip(keys,values):\n",
    "    print(i,':',j)\n",
    "#print(dict2)"
   ]
  },
  {
   "cell_type": "code",
   "execution_count": 148,
   "id": "02a972f5",
   "metadata": {},
   "outputs": [],
   "source": [
    "# list comprension and dictionary comprension"
   ]
  },
  {
   "cell_type": "code",
   "execution_count": null,
   "id": "e4f47f63",
   "metadata": {},
   "outputs": [],
   "source": [
    "# one list keys\n",
    "#second list keys\n",
    "# can you create the dictinary\n",
    "\n",
    "list1={'Juber_Course',\n",
    "       'Juber_Course_duration',\n",
    "       'Juber_Course_fee',\n",
    "       'Juber_Institute_Name'}\n",
    "list2={''}"
   ]
  },
  {
   "cell_type": "code",
   "execution_count": null,
   "id": "a07b7412",
   "metadata": {},
   "outputs": [],
   "source": [
    "# dictionary comprension "
   ]
  },
  {
   "cell_type": "code",
   "execution_count": 20,
   "id": "41ed740b",
   "metadata": {},
   "outputs": [
    {
     "data": {
      "text/plain": [
       "[0, 1, 2, 3, 4, 5, 6, 7, 8, 9]"
      ]
     },
     "execution_count": 20,
     "metadata": {},
     "output_type": "execute_result"
    }
   ],
   "source": [
    "[i for i in range(10)]"
   ]
  },
  {
   "cell_type": "code",
   "execution_count": 27,
   "id": "2edbbfb8",
   "metadata": {},
   "outputs": [
    {
     "ename": "SyntaxError",
     "evalue": "did you forget parentheses around the comprehension target? (3373951452.py, line 1)",
     "output_type": "error",
     "traceback": [
      "\u001b[1;36m  Cell \u001b[1;32mIn[27], line 1\u001b[1;36m\u001b[0m\n\u001b[1;33m    dict1={i,j for i,j in zip(keys,values)}\u001b[0m\n\u001b[1;37m           ^\u001b[0m\n\u001b[1;31mSyntaxError\u001b[0m\u001b[1;31m:\u001b[0m did you forget parentheses around the comprehension target?\n"
     ]
    }
   ],
   "source": [
    "dict1={i,j for i,j in zip(keys,values)}"
   ]
  },
  {
   "cell_type": "code",
   "execution_count": 28,
   "id": "81a0fc80",
   "metadata": {},
   "outputs": [
    {
     "ename": "SyntaxError",
     "evalue": "invalid syntax (326353485.py, line 1)",
     "output_type": "error",
     "traceback": [
      "\u001b[1;36m  Cell \u001b[1;32mIn[28], line 1\u001b[1;36m\u001b[0m\n\u001b[1;33m    vice versa\u001b[0m\n\u001b[1;37m         ^\u001b[0m\n\u001b[1;31mSyntaxError\u001b[0m\u001b[1;31m:\u001b[0m invalid syntax\n"
     ]
    }
   ],
   "source": [
    "vice versa "
   ]
  },
  {
   "cell_type": "code",
   "execution_count": null,
   "id": "39bc686c",
   "metadata": {},
   "outputs": [],
   "source": []
  },
  {
   "cell_type": "markdown",
   "id": "c2a3cf5c",
   "metadata": {},
   "source": [
    "$get$"
   ]
  },
  {
   "cell_type": "code",
   "execution_count": 29,
   "id": "c58b8af8",
   "metadata": {},
   "outputs": [],
   "source": [
    "#get method"
   ]
  },
  {
   "cell_type": "code",
   "execution_count": 31,
   "id": "0684d507",
   "metadata": {},
   "outputs": [],
   "source": [
    "dict1={'A':1,'B':2,'C':3}"
   ]
  },
  {
   "cell_type": "code",
   "execution_count": 32,
   "id": "9c2ca163",
   "metadata": {},
   "outputs": [
    {
     "data": {
      "text/plain": [
       "{'A': 1, 'B': 2, 'C': 3}"
      ]
     },
     "execution_count": 32,
     "metadata": {},
     "output_type": "execute_result"
    }
   ],
   "source": [
    "dict1"
   ]
  },
  {
   "cell_type": "code",
   "execution_count": 33,
   "id": "5cd31f27",
   "metadata": {},
   "outputs": [
    {
     "data": {
      "text/plain": [
       "1"
      ]
     },
     "execution_count": 33,
     "metadata": {},
     "output_type": "execute_result"
    }
   ],
   "source": [
    "dict1.get('A')"
   ]
  },
  {
   "cell_type": "markdown",
   "id": "98f7fbf1",
   "metadata": {},
   "source": [
    "$clear-copy$"
   ]
  },
  {
   "cell_type": "code",
   "execution_count": 34,
   "id": "777fec30",
   "metadata": {},
   "outputs": [
    {
     "data": {
      "text/plain": [
       "{'A': 1, 'B': 2, 'C': 3}"
      ]
     },
     "execution_count": 34,
     "metadata": {},
     "output_type": "execute_result"
    }
   ],
   "source": [
    "dict1.copy()"
   ]
  },
  {
   "cell_type": "code",
   "execution_count": 35,
   "id": "6aeaffb1",
   "metadata": {},
   "outputs": [],
   "source": [
    "dict1.clear()"
   ]
  },
  {
   "cell_type": "code",
   "execution_count": 39,
   "id": "a242101b",
   "metadata": {
    "scrolled": true
   },
   "outputs": [
    {
     "name": "stdout",
     "output_type": "stream",
     "text": [
      "l1 []\n",
      "l2 [1, 2, 3]\n"
     ]
    }
   ],
   "source": [
    "l1=[1,2,3]\n",
    "l2=l1.copy()\n",
    "l1.clear()\n",
    "print('l1',l1)\n",
    "print('l2',l2)"
   ]
  },
  {
   "cell_type": "markdown",
   "id": "ef272ee7",
   "metadata": {},
   "source": [
    "$pop-popitem-del$"
   ]
  },
  {
   "cell_type": "code",
   "execution_count": 44,
   "id": "fbaf0cfe",
   "metadata": {},
   "outputs": [
    {
     "data": {
      "text/plain": [
       "{'Course_id1': 'DS',\n",
       " 'Course_duration': 4,\n",
       " 'Course_fee': 18000,\n",
       " 'Institute': 'Naresh IT'}"
      ]
     },
     "execution_count": 44,
     "metadata": {},
     "output_type": "execute_result"
    }
   ],
   "source": [
    "dict1={'Course_id1':'DS',\n",
    "       'Course_duration':4,\n",
    "       'Course_fee':18000,\n",
    "       'Institute':'Naresh IT'}\n",
    "dict1"
   ]
  },
  {
   "cell_type": "code",
   "execution_count": 45,
   "id": "bd68db03",
   "metadata": {},
   "outputs": [
    {
     "ename": "TypeError",
     "evalue": "pop expected at least 1 argument, got 0",
     "output_type": "error",
     "traceback": [
      "\u001b[1;31m---------------------------------------------------------------------------\u001b[0m",
      "\u001b[1;31mTypeError\u001b[0m                                 Traceback (most recent call last)",
      "Cell \u001b[1;32mIn[45], line 1\u001b[0m\n\u001b[1;32m----> 1\u001b[0m dict1\u001b[38;5;241m.\u001b[39mpop()\n",
      "\u001b[1;31mTypeError\u001b[0m: pop expected at least 1 argument, got 0"
     ]
    }
   ],
   "source": [
    "dict1.pop()"
   ]
  },
  {
   "cell_type": "code",
   "execution_count": 46,
   "id": "c975cc28",
   "metadata": {},
   "outputs": [
    {
     "data": {
      "text/plain": [
       "('Institute', 'Naresh IT')"
      ]
     },
     "execution_count": 46,
     "metadata": {},
     "output_type": "execute_result"
    }
   ],
   "source": [
    "dict1.popitem()    # pop"
   ]
  },
  {
   "cell_type": "code",
   "execution_count": 48,
   "id": "5d75b497",
   "metadata": {},
   "outputs": [
    {
     "data": {
      "text/plain": [
       "{'Course_id1': 'DS', 'Course_duration': 4, 'Course_fee': 18000}"
      ]
     },
     "execution_count": 48,
     "metadata": {},
     "output_type": "execute_result"
    }
   ],
   "source": [
    "dict1"
   ]
  },
  {
   "cell_type": "code",
   "execution_count": 50,
   "id": "903bafb3",
   "metadata": {},
   "outputs": [
    {
     "data": {
      "text/plain": [
       "{'Course_id1': 'DS',\n",
       " 'Course_duration': 4,\n",
       " 'Course_fee': 18000,\n",
       " 'Institute': 'Naresh IT'}"
      ]
     },
     "execution_count": 50,
     "metadata": {},
     "output_type": "execute_result"
    }
   ],
   "source": [
    "dict1={'Course_id1':'DS',\n",
    "       'Course_duration':4,\n",
    "       'Course_fee':18000,\n",
    "       'Institute':'Naresh IT'}\n",
    "dict1"
   ]
  },
  {
   "cell_type": "code",
   "execution_count": 51,
   "id": "71af71bd",
   "metadata": {},
   "outputs": [
    {
     "data": {
      "text/plain": [
       "'Naresh IT'"
      ]
     },
     "execution_count": 51,
     "metadata": {},
     "output_type": "execute_result"
    }
   ],
   "source": [
    "dict1.pop('Institute')"
   ]
  },
  {
   "cell_type": "code",
   "execution_count": 52,
   "id": "ed1e45fc",
   "metadata": {},
   "outputs": [
    {
     "name": "stdout",
     "output_type": "stream",
     "text": [
      "{'Course_id1': 'DS', 'Course_duration': 4, 'Course_fee': 18000}\n"
     ]
    }
   ],
   "source": [
    "print(dict1)"
   ]
  },
  {
   "cell_type": "code",
   "execution_count": 53,
   "id": "8f768cdb",
   "metadata": {},
   "outputs": [
    {
     "data": {
      "text/plain": [
       "{'Course_id1': 'DS',\n",
       " 'Course_duration': 4,\n",
       " 'Course_fee': 18000,\n",
       " 'Institute': 'Naresh IT'}"
      ]
     },
     "execution_count": 53,
     "metadata": {},
     "output_type": "execute_result"
    }
   ],
   "source": [
    "dict1={'Course_id1':'DS',\n",
    "       'Course_duration':4,\n",
    "       'dict1={'Course_id1':'DS',\n",
    "       'Course_duration':4,\n",
    "       'Course_fee':18000,\n",
    "       'Institute':'Naresh IT'}':18000,\n",
    "       'Institute':'Naresh IT'}\n",
    "dict1"
   ]
  },
  {
   "cell_type": "code",
   "execution_count": 54,
   "id": "7b805e45",
   "metadata": {},
   "outputs": [],
   "source": [
    "del dict1['Course_duration']"
   ]
  },
  {
   "cell_type": "code",
   "execution_count": 55,
   "id": "64e3c3a2",
   "metadata": {},
   "outputs": [
    {
     "data": {
      "text/plain": [
       "{'Course_id1': 'DS', 'Course_fee': 18000, 'Institute': 'Naresh IT'}"
      ]
     },
     "execution_count": 55,
     "metadata": {},
     "output_type": "execute_result"
    }
   ],
   "source": [
    "dict1"
   ]
  },
  {
   "cell_type": "markdown",
   "id": "43297845",
   "metadata": {},
   "source": [
    "$setasdefault$"
   ]
  },
  {
   "cell_type": "code",
   "execution_count": 56,
   "id": "316ac70c",
   "metadata": {},
   "outputs": [
    {
     "data": {
      "text/plain": [
       "{'Course_id1': 'DS',\n",
       " 'Course_duration': 4,\n",
       " 'Course_fee': 18000,\n",
       " 'Institute': 'Naresh IT'}"
      ]
     },
     "execution_count": 56,
     "metadata": {},
     "output_type": "execute_result"
    }
   ],
   "source": [
    "dict1={'Course_id1':'DS',\n",
    "       'Course_duration':4,\n",
    "       'Course_fee':18000,\n",
    "       'Institute':'Naresh IT'}\n",
    "dict1"
   ]
  },
  {
   "cell_type": "code",
   "execution_count": 60,
   "id": "00e163f3",
   "metadata": {},
   "outputs": [
    {
     "data": {
      "text/plain": [
       "{'Course_id1': 'DS',\n",
       " 'Course_duration': 4,\n",
       " 'Course_fee': 18000,\n",
       " 'Institute': 'Naresh IT',\n",
       " 'package': None,\n",
       " 'certification': 'valid'}"
      ]
     },
     "execution_count": 60,
     "metadata": {},
     "output_type": "execute_result"
    }
   ],
   "source": [
    "dict1.setdefault('package')\n",
    "dict1.setdefault('certification','valid')\n",
    "dict1"
   ]
  },
  {
   "cell_type": "markdown",
   "id": "5e0c1eee",
   "metadata": {},
   "source": [
    "$fromkeys$"
   ]
  },
  {
   "cell_type": "code",
   "execution_count": 61,
   "id": "a02a7f9f",
   "metadata": {},
   "outputs": [
    {
     "data": {
      "text/plain": [
       "{'Course_id1': 'DS',\n",
       " 'Course_duration': 4,\n",
       " 'Course_fee': 18000,\n",
       " 'Institute': 'Naresh IT'}"
      ]
     },
     "execution_count": 61,
     "metadata": {},
     "output_type": "execute_result"
    }
   ],
   "source": [
    "dict1={'Course_id1':'DS',\n",
    "       'Course_duration':4,\n",
    "       'Course_fee':18000,\n",
    "       'Institute':'Naresh IT'}\n",
    "dict1"
   ]
  },
  {
   "cell_type": "code",
   "execution_count": 67,
   "id": "e2d728d0",
   "metadata": {},
   "outputs": [
    {
     "data": {
      "text/plain": [
       "{'p': 10, 'y': 10, 't': 10, 'h': 10, 'o': 10, 'n': 10}"
      ]
     },
     "execution_count": 67,
     "metadata": {},
     "output_type": "execute_result"
    }
   ],
   "source": [
    "dict1={}\n",
    "dict1.fromkeys('python',10)"
   ]
  },
  {
   "cell_type": "code",
   "execution_count": 68,
   "id": "3ff96238",
   "metadata": {},
   "outputs": [
    {
     "data": {
      "text/plain": [
       "{2: 'even', 4: 'even', 6: 'even', 7: 'even'}"
      ]
     },
     "execution_count": 68,
     "metadata": {},
     "output_type": "execute_result"
    }
   ],
   "source": [
    "dict1={}\n",
    "list1=[2,4,6,7]\n",
    "dict1.fromkeys(list1,'even')"
   ]
  },
  {
   "cell_type": "code",
   "execution_count": 69,
   "id": "a107147d",
   "metadata": {},
   "outputs": [
    {
     "data": {
      "text/plain": [
       "{'A': 'NareshIT', 'B': 'NareshIT', 'C': 'NareshIT'}"
      ]
     },
     "execution_count": 69,
     "metadata": {},
     "output_type": "execute_result"
    }
   ],
   "source": [
    "dict1={}\n",
    "employee=['A','B','C']\n",
    "dict1.fromkeys(employee,'NareshIT')"
   ]
  },
  {
   "cell_type": "code",
   "execution_count": 166,
   "id": "5b7afefd",
   "metadata": {},
   "outputs": [
    {
     "name": "stdout",
     "output_type": "stream",
     "text": [
      "{'a': 300, 'B': 400, 'C': 500}\n"
     ]
    }
   ],
   "source": [
    "dict1={}\n",
    "d1={'a':100,'B':200,'C':300}\n",
    "d2={'d':300,'e':400,'f':500}\n",
    "for i,j in zip(d1,d2):\n",
    "    if i==j:\n",
    "        dict1[i]=d1[i]+d2[j]\n",
    "    else:\n",
    "        dict1[i]=d1[i]\n",
    "        dict1[i]=d2[j]\n",
    "print(dict1)"
   ]
  },
  {
   "cell_type": "code",
   "execution_count": null,
   "id": "e8bf770a",
   "metadata": {},
   "outputs": [],
   "source": []
  }
 ],
 "metadata": {
  "kernelspec": {
   "display_name": "Python 3 (ipykernel)",
   "language": "python",
   "name": "python3"
  },
  "language_info": {
   "codemirror_mode": {
    "name": "ipython",
    "version": 3
   },
   "file_extension": ".py",
   "mimetype": "text/x-python",
   "name": "python",
   "nbconvert_exporter": "python",
   "pygments_lexer": "ipython3",
   "version": "3.11.5"
  }
 },
 "nbformat": 4,
 "nbformat_minor": 5
}
