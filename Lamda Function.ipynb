{
 "cells": [
  {
   "cell_type": "code",
   "execution_count": 1,
   "id": "860e5381",
   "metadata": {},
   "outputs": [
    {
     "data": {
      "text/plain": [
       "20"
      ]
     },
     "execution_count": 1,
     "metadata": {},
     "output_type": "execute_result"
    }
   ],
   "source": [
    "#Normal Function\n",
    "\n",
    "\n",
    "def add(x):\n",
    "    return(x+10)\n",
    "add(10)"
   ]
  },
  {
   "cell_type": "code",
   "execution_count": null,
   "id": "3c742880",
   "metadata": {},
   "outputs": [],
   "source": [
    "#how many "
   ]
  },
  {
   "cell_type": "code",
   "execution_count": 4,
   "id": "6cbd1dc8",
   "metadata": {},
   "outputs": [
    {
     "data": {
      "text/plain": [
       "20"
      ]
     },
     "execution_count": 4,
     "metadata": {},
     "output_type": "execute_result"
    }
   ],
   "source": [
    "add = lambda x:x+10\n",
    "add(10)"
   ]
  },
  {
   "cell_type": "code",
   "execution_count": 5,
   "id": "dd74600e",
   "metadata": {},
   "outputs": [
    {
     "data": {
      "text/plain": [
       "25"
      ]
     },
     "execution_count": 5,
     "metadata": {},
     "output_type": "execute_result"
    }
   ],
   "source": [
    "def mul(num):\n",
    "    return(num*num)\n",
    "mul(5)"
   ]
  },
  {
   "cell_type": "code",
   "execution_count": 9,
   "id": "899d0307",
   "metadata": {},
   "outputs": [
    {
     "data": {
      "text/plain": [
       "25"
      ]
     },
     "execution_count": 9,
     "metadata": {},
     "output_type": "execute_result"
    }
   ],
   "source": [
    "mul=lambda num:num*num\n",
    "mul(5)"
   ]
  },
  {
   "cell_type": "code",
   "execution_count": 10,
   "id": "4c7c8ca0",
   "metadata": {},
   "outputs": [
    {
     "data": {
      "text/plain": [
       "27"
      ]
     },
     "execution_count": 10,
     "metadata": {},
     "output_type": "execute_result"
    }
   ],
   "source": [
    "def cube(val):\n",
    "    return(val*val*val)\n",
    "cube(3)"
   ]
  },
  {
   "cell_type": "code",
   "execution_count": 13,
   "id": "132bb697",
   "metadata": {},
   "outputs": [
    {
     "data": {
      "text/plain": [
       "27"
      ]
     },
     "execution_count": 13,
     "metadata": {},
     "output_type": "execute_result"
    }
   ],
   "source": [
    "cube=lambda val:val*val*val\n",
    "cube(3)"
   ]
  },
  {
   "cell_type": "code",
   "execution_count": 14,
   "id": "576ff7df",
   "metadata": {},
   "outputs": [
    {
     "data": {
      "text/plain": [
       "30"
      ]
     },
     "execution_count": 14,
     "metadata": {},
     "output_type": "execute_result"
    }
   ],
   "source": [
    "def sum1(a,b):\n",
    "    return(a+b)\n",
    "sum1(10,20)"
   ]
  },
  {
   "cell_type": "code",
   "execution_count": 17,
   "id": "14a9b870",
   "metadata": {},
   "outputs": [
    {
     "data": {
      "text/plain": [
       "30"
      ]
     },
     "execution_count": 17,
     "metadata": {},
     "output_type": "execute_result"
    }
   ],
   "source": [
    "sum1=lambda a,b:a+b\n",
    "sum1(10,20)"
   ]
  },
  {
   "cell_type": "code",
   "execution_count": null,
   "id": "5bfcb620",
   "metadata": {},
   "outputs": [],
   "source": [
    "#lambda format \n",
    "#<function_name>=lambda <argument_name>:<return_value>"
   ]
  },
  {
   "cell_type": "code",
   "execution_count": 18,
   "id": "ea59bb80",
   "metadata": {},
   "outputs": [
    {
     "data": {
      "text/plain": [
       "20.0"
      ]
     },
     "execution_count": 18,
     "metadata": {},
     "output_type": "execute_result"
    }
   ],
   "source": [
    "def avg(a,b,c):\n",
    "    return(a+b+c)/3\n",
    "avg(10,20,30)"
   ]
  },
  {
   "cell_type": "code",
   "execution_count": null,
   "id": "96401c49",
   "metadata": {},
   "outputs": [],
   "source": []
  },
  {
   "cell_type": "code",
   "execution_count": 22,
   "id": "0c53b3b9",
   "metadata": {},
   "outputs": [
    {
     "data": {
      "text/plain": [
       "43.333333333333336"
      ]
     },
     "execution_count": 22,
     "metadata": {},
     "output_type": "execute_result"
    }
   ],
   "source": [
    "avg=lambda a,b,c=100:round(a+b+c)/3\n",
    "avg(10,20)"
   ]
  },
  {
   "cell_type": "markdown",
   "id": "7f7e3d49",
   "metadata": {},
   "source": [
    "$lambda function if else$"
   ]
  },
  {
   "cell_type": "code",
   "execution_count": 28,
   "id": "2a0d0dc2",
   "metadata": {},
   "outputs": [
    {
     "data": {
      "text/plain": [
       "100"
      ]
     },
     "execution_count": 28,
     "metadata": {},
     "output_type": "execute_result"
    }
   ],
   "source": [
    "def greater(num1,num2):\n",
    "    if num1>num2:\n",
    "        return(num1)\n",
    "    else:\n",
    "        return(num2)\n",
    "greater(50,100)"
   ]
  },
  {
   "cell_type": "code",
   "execution_count": null,
   "id": "e2ed9915",
   "metadata": {},
   "outputs": [],
   "source": [
    "#format  #<function_name>=lambda <arg1,arg2>:"
   ]
  },
  {
   "cell_type": "code",
   "execution_count": 33,
   "id": "033eb617",
   "metadata": {},
   "outputs": [
    {
     "data": {
      "text/plain": [
       "200"
      ]
     },
     "execution_count": 33,
     "metadata": {},
     "output_type": "execute_result"
    }
   ],
   "source": [
    "greater=lambda num1,num2: num1 if num1>num2 else num2\n",
    "greater(200,100)"
   ]
  },
  {
   "cell_type": "code",
   "execution_count": 40,
   "id": "0b10bc9f",
   "metadata": {},
   "outputs": [
    {
     "data": {
      "text/plain": [
       "['Hyd', 'Mumbai', 'Bengluru']"
      ]
     },
     "execution_count": 40,
     "metadata": {},
     "output_type": "execute_result"
    }
   ],
   "source": [
    "list1=['hyd','mumbai','bengluru']\n",
    "output=[]\n",
    "for i in list1:\n",
    "    output.append(i.capitalize())\n",
    "    #print(i.capitalize())\n",
    "output"
   ]
  },
  {
   "cell_type": "code",
   "execution_count": 43,
   "id": "cb3134bf",
   "metadata": {},
   "outputs": [
    {
     "data": {
      "text/plain": [
       "['Hyd', 'Mumbai', 'Bengluru']"
      ]
     },
     "execution_count": 43,
     "metadata": {},
     "output_type": "execute_result"
    }
   ],
   "source": [
    "list1=['hyd','mumbai','bengluru']\n",
    "output=[i.capitalize() for i in list1]\n",
    "output"
   ]
  },
  {
   "cell_type": "code",
   "execution_count": 50,
   "id": "52a8b71e",
   "metadata": {},
   "outputs": [
    {
     "data": {
      "text/plain": [
       "['Hyd', 'Mumbai', 'Bengluru']"
      ]
     },
     "execution_count": 50,
     "metadata": {},
     "output_type": "execute_result"
    }
   ],
   "source": [
    "list(map(lambda i:i.capitalize(), list1))"
   ]
  },
  {
   "cell_type": "code",
   "execution_count": 61,
   "id": "e7e9ba30",
   "metadata": {},
   "outputs": [
    {
     "name": "stdout",
     "output_type": "stream",
     "text": [
      "1\n",
      "4\n",
      "9\n",
      "16\n"
     ]
    }
   ],
   "source": [
    "list1=[1,2,3,4]\n",
    "output=[]\n",
    "for i in list1:\n",
    "    print(i*i)\n",
    "#output"
   ]
  },
  {
   "cell_type": "code",
   "execution_count": 51,
   "id": "f466eea0",
   "metadata": {},
   "outputs": [
    {
     "data": {
      "text/plain": [
       "[1, 4, 9, 16]"
      ]
     },
     "execution_count": 51,
     "metadata": {},
     "output_type": "execute_result"
    }
   ],
   "source": [
    "list1=[1,2,3,4]\n",
    "list(map(lambda i:i*i,list1))"
   ]
  },
  {
   "cell_type": "code",
   "execution_count": 66,
   "id": "e465d61b",
   "metadata": {},
   "outputs": [
    {
     "name": "stdout",
     "output_type": "stream",
     "text": [
      "Biryani\n",
      "Buvaneshwar\n",
      "rasgulla\n"
     ]
    }
   ],
   "source": [
    "list1=['hyd','Biryani','Buvaneshwar','rasgulla']\n",
    "#output:['biryani','buvaneshwar','rasgulla']\n",
    "output=[]\n",
    "for i in list1:\n",
    "    if len(i)>3:\n",
    "        print(i)"
   ]
  },
  {
   "cell_type": "markdown",
   "id": "b1ce8020",
   "metadata": {},
   "source": [
    "- filter itis where is used the if statements or condition used the filter not used map"
   ]
  },
  {
   "cell_type": "code",
   "execution_count": 70,
   "id": "6b28996e",
   "metadata": {},
   "outputs": [
    {
     "data": {
      "text/plain": [
       "[False, True, True, True]"
      ]
     },
     "execution_count": 70,
     "metadata": {},
     "output_type": "execute_result"
    }
   ],
   "source": [
    "list(map(lambda i:len(i)>3,list1))"
   ]
  },
  {
   "cell_type": "code",
   "execution_count": 69,
   "id": "ecac3aad",
   "metadata": {},
   "outputs": [
    {
     "data": {
      "text/plain": [
       "['Biryani', 'Buvaneshwar', 'rasgulla']"
      ]
     },
     "execution_count": 69,
     "metadata": {},
     "output_type": "execute_result"
    }
   ],
   "source": [
    "list(filter(lambda i:len(i)>3,list1))"
   ]
  },
  {
   "cell_type": "code",
   "execution_count": 71,
   "id": "4557ded5",
   "metadata": {},
   "outputs": [
    {
     "name": "stdout",
     "output_type": "stream",
     "text": [
      "Bir#ani\n",
      "Buv#neshwar\n",
      "ras#ulla\n"
     ]
    }
   ],
   "source": [
    "list1=['hyd','Bir#ani','Buv#neshwar','ras#ulla']\n",
    "for i in list1:\n",
    "    if '#' in i:\n",
    "        print(i)"
   ]
  },
  {
   "cell_type": "code",
   "execution_count": 72,
   "id": "162d6c9a",
   "metadata": {},
   "outputs": [
    {
     "data": {
      "text/plain": [
       "['Bir#ani', 'Buv#neshwar', 'ras#ulla']"
      ]
     },
     "execution_count": 72,
     "metadata": {},
     "output_type": "execute_result"
    }
   ],
   "source": [
    "list(filter(lambda i:'#' in i,list1))"
   ]
  },
  {
   "cell_type": "code",
   "execution_count": 95,
   "id": "47ac88b6",
   "metadata": {},
   "outputs": [
    {
     "name": "stdout",
     "output_type": "stream",
     "text": [
      "odd 1\n",
      "even 2\n",
      "odd 3\n",
      "even 4\n",
      "odd 5\n",
      "even 6\n"
     ]
    }
   ],
   "source": [
    "list1=[1,2,3,4,5,6]\n",
    "for i in list1:\n",
    "    if i%2==0:\n",
    "        print('even',i)\n",
    "    else:\n",
    "        print('odd',i)"
   ]
  },
  {
   "cell_type": "code",
   "execution_count": 98,
   "id": "78a9ed4b",
   "metadata": {},
   "outputs": [
    {
     "data": {
      "text/plain": [
       "[2, 4, 6]"
      ]
     },
     "execution_count": 98,
     "metadata": {},
     "output_type": "execute_result"
    }
   ],
   "source": [
    "list(filter(lambda i: i%2==0,list1))"
   ]
  },
  {
   "cell_type": "code",
   "execution_count": 93,
   "id": "c88d853a",
   "metadata": {},
   "outputs": [
    {
     "data": {
      "text/plain": [
       "[{1: 'odd'}, {2: 'even'}, {3: 'odd'}, {4: 'even'}, {5: 'odd'}, {6: 'even'}]"
      ]
     },
     "execution_count": 93,
     "metadata": {},
     "output_type": "execute_result"
    }
   ],
   "source": [
    "list(map(lambda i: {i:'odd'} if i%2!=0 else {i:'even'},list1))"
   ]
  },
  {
   "cell_type": "code",
   "execution_count": 94,
   "id": "6ee4e5c2",
   "metadata": {},
   "outputs": [
    {
     "data": {
      "text/plain": [
       "[{1: 'odd'}, {2: 'even'}, {3: 'odd'}, {4: 'even'}, {5: 'odd'}, {6: 'even'}]"
      ]
     },
     "execution_count": 94,
     "metadata": {},
     "output_type": "execute_result"
    }
   ],
   "source": [
    "list(map(lambda i: {i:'even'} if i%2==0 else {i:'odd'},list1))"
   ]
  },
  {
   "cell_type": "code",
   "execution_count": null,
   "id": "1eb7c482",
   "metadata": {},
   "outputs": [
    {
     "name": "stdout",
     "output_type": "stream",
     "text": [
      "quetion: who is pm of india\n",
      "Tell The answer:modi\n",
      "quetion: what is capital of india\n"
     ]
    }
   ],
   "source": [
    "list1=['who is pm of india',\n",
    "       'what is capital of india',\n",
    "       'who is president of india',\n",
    "      'where is NareshIT Institute',\n",
    "      'where is Aurangabad']\n",
    "list2=['Narendra Modi','Delhi','Droupadi Murmu','Hyderabad','Maharashtra']\n",
    "marks=0\n",
    "correct_ans=0\n",
    "for i in range(len(list1)):\n",
    "    print('quetion:',list1[i])\n",
    "    answer=input('Tell The answer:')\n",
    "    if answer in list2[i].lower():\n",
    "        marks=marks+1\n",
    "        correct_ans=correct_ans+1\n",
    "    else:\n",
    "        print('no marks')\n",
    "print(correct_ans,marks)"
   ]
  },
  {
   "cell_type": "code",
   "execution_count": null,
   "id": "fb95c0a2",
   "metadata": {},
   "outputs": [],
   "source": []
  }
 ],
 "metadata": {
  "kernelspec": {
   "display_name": "Python 3 (ipykernel)",
   "language": "python",
   "name": "python3"
  },
  "language_info": {
   "codemirror_mode": {
    "name": "ipython",
    "version": 3
   },
   "file_extension": ".py",
   "mimetype": "text/x-python",
   "name": "python",
   "nbconvert_exporter": "python",
   "pygments_lexer": "ipython3",
   "version": "3.11.5"
  }
 },
 "nbformat": 4,
 "nbformat_minor": 5
}
