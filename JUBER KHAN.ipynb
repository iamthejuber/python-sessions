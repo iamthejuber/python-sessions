{
 "cells": [
  {
   "cell_type": "markdown",
   "id": "18691f5b",
   "metadata": {},
   "source": [
    "### Class- Assignment- General and On Conditional statements\n",
    "### Below questions are included on Basic python as well as on if-elif-else statemenst"
   ]
  },
  {
   "cell_type": "markdown",
   "id": "203f0f1a",
   "metadata": {},
   "source": [
    "#### Problem 1\n",
    "Suppose that a Firm pays its employee at the rate of $12 per hour. An employee has worked for 37\n",
    "hours. How much should the firm pay the employee? (Do normal way directly takes the input)"
   ]
  },
  {
   "cell_type": "code",
   "execution_count": 5,
   "id": "90226195",
   "metadata": {},
   "outputs": [
    {
     "name": "stdout",
     "output_type": "stream",
     "text": [
      "one doller is equal to how many rupees:83\n",
      "firm pay the employee is: 444\n"
     ]
    }
   ],
   "source": [
    "firm_pay=eval(input(\"one doller is equal to how many rupees:\"))\n",
    "firm=12 #$\n",
    "work=37\n",
    "total=12*37\n",
    "print(\"firm pay the employee is:\",total)"
   ]
  },
  {
   "cell_type": "markdown",
   "id": "41295adf",
   "metadata": {},
   "source": [
    "#### Problem 2\n",
    "How about prompting the user for the number of hours and using the input value to compute the\n",
    "total pay? (Above problem use eval concept and sep concept)"
   ]
  },
  {
   "cell_type": "code",
   "execution_count": 9,
   "id": "fb5509c9",
   "metadata": {},
   "outputs": [
    {
     "name": "stdout",
     "output_type": "stream",
     "text": [
      "enter amount doller pay for one hours:12\n",
      "enter a work by employee:37\n",
      "total firm is 37 and total work is 444:\n"
     ]
    }
   ],
   "source": [
    "total_firm=eval(input(\"enter amount doller pay for one hours:\"))\n",
    "total_work=eval(input(\"enter a work by employee:\"))\n",
    "total_pay=total_firm*total_work\n",
    "print(\"total firm is {} and total work is {}:\".format(total_work,total_pay))"
   ]
  },
  {
   "cell_type": "markdown",
   "id": "2623e3ff",
   "metadata": {},
   "source": [
    "#### Problem-3\n",
    "For a certain academic subject the students are evaluated based on five tests\n",
    "* Quiz 1 (20 marks - 10% Weight), \n",
    "* Quiz 2 (20 marks - 10% Weight), \n",
    "* Class test (50 marks - 25% Weight), \n",
    "* Assignment (100 marks - 25% weight) and\n",
    "* Project (200 marks - 30% weight).\n",
    "\n",
    "Design a program that will prompt the user for marks for each of the tests and calculate the overall marks (out of 100)."
   ]
  },
  {
   "cell_type": "code",
   "execution_count": 11,
   "id": "8377cf4a",
   "metadata": {},
   "outputs": [
    {
     "name": "stdout",
     "output_type": "stream",
     "text": [
      "enter a out of marks 20:17\n",
      "enter a out of marks 20:18\n",
      "enter a out of marks 50:45\n",
      "enter a out of marks 100:70\n",
      "enter a out of marks 200:150\n",
      "marks for each of the test 80.0\n"
     ]
    }
   ],
   "source": [
    "quiz1=eval(input(\"enter a out of marks 20:\"))\n",
    "quiz2=eval(input(\"enter a out of marks 20:\"))\n",
    "class_test=eval(input(\"enter a out of marks 50:\"))\n",
    "assignment=eval(input(\"enter a out of marks 100:\"))\n",
    "project=eval(input(\"enter a out of marks 200:\"))\n",
    "evaluate=(quiz1/20*10)+(quiz2/20*10)+(class_test/50*25)+(assignment/100*25)+(project/200*30)\n",
    "calculate_overall=(evaluate/100)*100\n",
    "print(\"marks for each of the test\",calculate_overall)"
   ]
  },
  {
   "cell_type": "markdown",
   "id": "34dd833b",
   "metadata": {},
   "source": [
    "#### Problem-4\n",
    "If a five-digit number is input through the keyboard, write a program to calculate the sum of its\n",
    "digits."
   ]
  },
  {
   "cell_type": "code",
   "execution_count": 14,
   "id": "a23a7124",
   "metadata": {},
   "outputs": [
    {
     "name": "stdout",
     "output_type": "stream",
     "text": [
      "enter a five digit number:12345\n",
      "15\n"
     ]
    }
   ],
   "source": [
    "number=eval(input(\"enter a five digit number:\"))\n",
    "if number<10000 or number<99999:\n",
    "    sum1=number//10000\n",
    "    sum2=(number//1000)%10\n",
    "    sum3=(number//100)%10\n",
    "    sum4=(number//10)%10\n",
    "    sum5=(number%10)\n",
    "    add=sum1+sum2+sum3+sum4+sum5\n",
    "    print(add)\n",
    "else:\n",
    "    print(\"enter a valid number\")"
   ]
  },
  {
   "cell_type": "code",
   "execution_count": 25,
   "id": "fcbf34fc",
   "metadata": {},
   "outputs": [
    {
     "name": "stdout",
     "output_type": "stream",
     "text": [
      "enter a five digit number:12345\n",
      "sum of the number 15\n"
     ]
    }
   ],
   "source": [
    "number=eval(input(\"enter a five digit number:\"))\n",
    "sum1=0\n",
    "i=0\n",
    "while i<5:\n",
    "    sum2=number%10\n",
    "    sum1=sum1*1+sum2\n",
    "    number=number//10\n",
    "    i+=1\n",
    "print(\"sum of the number\",sum1)"
   ]
  },
  {
   "cell_type": "markdown",
   "id": "26a00f7b",
   "metadata": {},
   "source": [
    "#### Problem-5\n",
    "If a five-digit number is input through the keyboard, write a program to print a new number by\n",
    "adding one to each of its digits. For example if the number that is input is 12371 then the output\n",
    "should be displayed as 23482."
   ]
  },
  {
   "cell_type": "code",
   "execution_count": 30,
   "id": "c3e43b22",
   "metadata": {},
   "outputs": [
    {
     "name": "stdout",
     "output_type": "stream",
     "text": [
      "enter a five digit number:12371\n",
      "2 3 4 8 2 "
     ]
    }
   ],
   "source": [
    "number=eval(input(\"enter a five digit number:\"))\n",
    "number1=str(number)\n",
    "if len(number1)==5:\n",
    "    for i in number1:\n",
    "        print(int(i)+1,end=\" \")\n",
    "else:\n",
    "    print(\"enter a five digit number:\",number)"
   ]
  },
  {
   "cell_type": "markdown",
   "id": "2316fe6d",
   "metadata": {},
   "source": [
    "#### Problem-6: (Use conditional statements)\n",
    "\n",
    "**Recall the problem:**\n",
    "\n",
    "For a certain academic subject the students are evaluated based on five tests - * Quiz 1 (20 marks - 10% Weight), * Quiz 2 (20 marks - 10% Weight), * Class test (50 marks - 25% Weight), * Assignment (100 marks - 25% weight) and\n",
    "* Project (200 marks - 30% weight).\n",
    "\n",
    "Design a program that will prompt the user for marks for each of the tests and calculate the overall\n",
    "marks (out of 100).\n",
    "\n",
    "#### Add an extension to the problem to display grades:\n",
    "Display the grades of students using the following table:\n",
    "\n",
    "Score Grade\n",
    ">= 60 First Class\n",
    ">= 40 Second Class\n",
    "< 40 Fail"
   ]
  },
  {
   "cell_type": "code",
   "execution_count": 32,
   "id": "2711da86",
   "metadata": {},
   "outputs": [
    {
     "name": "stdout",
     "output_type": "stream",
     "text": [
      "enter a marks out of 20:17\n",
      "enter a marks out of 20:18\n",
      "enter a marks out of 50:22\n",
      "enter a marks out of 100:75\n",
      "enter a marks out of 200:170\n",
      "overall marks 72.75\n",
      "first class\n"
     ]
    }
   ],
   "source": [
    "quiz1=eval(input(\"enter a marks out of 20:\"))\n",
    "quiz2=eval(input(\"enter a marks out of 20:\"))\n",
    "class_test=eval(input(\"enter a marks out of 50:\"))\n",
    "assignment=eval(input(\"enter a marks out of 100:\"))\n",
    "project=eval(input(\"enter a marks out of 200:\"))\n",
    "calculate=(quiz1/20*10)+(quiz2/20*10)+(class_test/50*25)+(assignment/100*25)+(project/200*30)\n",
    "over_all_marks=(calculate/100)*100\n",
    "print(\"overall marks\",over_all_marks)\n",
    "if over_all_marks>=60:\n",
    "    print('first class')\n",
    "elif over_all_marks>=40:\n",
    "    print('second class')\n",
    "else:\n",
    "    print('fail')"
   ]
  },
  {
   "cell_type": "markdown",
   "id": "302ec459",
   "metadata": {},
   "source": [
    "#### Problem-7: (Use conditional statements)\n",
    "\n",
    "** Recall the problem:**\n",
    "\n",
    "How about prompting the user for the number of hours and using the input value to compute the\n",
    "total pay?"
   ]
  },
  {
   "cell_type": "code",
   "execution_count": 34,
   "id": "f00e0e70",
   "metadata": {},
   "outputs": [
    {
     "name": "stdout",
     "output_type": "stream",
     "text": [
      "enter the amount in doller pay for hours:100\n",
      "enter the pay in $:83\n",
      "total pay employee: 8300\n"
     ]
    }
   ],
   "source": [
    "hours=eval(input(\"enter the amount in doller pay for hours:\"))\n",
    "pay=eval(input(\"enter the pay in $:\"))\n",
    "if hours>=0:\n",
    "    total_pay=hours*pay\n",
    "    print(\"total pay employee:\",total_pay)\n",
    "else:\n",
    "    (\"invalid\")"
   ]
  },
  {
   "cell_type": "markdown",
   "id": "bca2cfc2",
   "metadata": {},
   "source": [
    "#### Problem-8\n",
    "** try & except **\n",
    "\n",
    "Rewrite the pay program (refer problem 2) using try and expect so that the program handles non-\n",
    "numeric input gracefully by printing a message and exiting the program. The following shows two\n",
    "\n",
    "executions of the program:\n",
    "\n",
    "Enter hours: 20\n",
    "Enter rate: nine\n",
    "Error, please enter numeric input"
   ]
  },
  {
   "cell_type": "code",
   "execution_count": 36,
   "id": "527cd6a0",
   "metadata": {},
   "outputs": [
    {
     "name": "stdout",
     "output_type": "stream",
     "text": [
      "enter the hours:12\n",
      "enter a numeric number:nine\n",
      "please enter valid input\n"
     ]
    }
   ],
   "source": [
    "try:\n",
    "    hours=eval(input(\"enter the hours:\"))\n",
    "    rate=eval(input(\"enter a numeric number:\"))\n",
    "    total=hours*rate\n",
    "    print(hours,total)\n",
    "except Exception as e:\n",
    "    print(\"please enter valid input\")"
   ]
  },
  {
   "cell_type": "markdown",
   "id": "8bb0d0ff",
   "metadata": {},
   "source": [
    "#### Problem-9(Use conditional statements)\n",
    "\n",
    "Write a program that asks the user to enter a length in centimeters. If the user enters a negative\n",
    "length, the program should tell the user that the entry is invalid. Otherwise, the program should\n",
    "convert the length to inches and print out the result. There are 2.54 centimeters in an inch."
   ]
  },
  {
   "cell_type": "code",
   "execution_count": 37,
   "id": "e5f7cf22",
   "metadata": {},
   "outputs": [
    {
     "name": "stdout",
     "output_type": "stream",
     "text": [
      "enter a length in centimeter:50\n",
      "length of 50cm is equal to 19.68503937007874inches\n"
     ]
    }
   ],
   "source": [
    "length=eval(input('enter a length in centimeter:'))\n",
    "if length<0:\n",
    "    print(\"user enter invalid\")\n",
    "else:\n",
    "    result=length/2.54\n",
    "    print(\"length of {}cm is equal to {}inches\".format(length,result))"
   ]
  },
  {
   "cell_type": "markdown",
   "id": "e44f194b",
   "metadata": {},
   "source": [
    "#### Problem-10(Use conditional statements)\n",
    "Ask the user for a temperature. Then ask them what units, Celsius or Fahrenheit, the temperature is\n",
    "in. Your program should convert the temperature to the other unit. The conversions are F = 9 5 C +\n",
    "32 and C = 5 9 (F − 32)."
   ]
  },
  {
   "cell_type": "code",
   "execution_count": 38,
   "id": "98e81480",
   "metadata": {},
   "outputs": [
    {
     "name": "stdout",
     "output_type": "stream",
     "text": [
      "enter a temperature:50\n",
      "celcius or fahrenheit:fahrenheit\n",
      "the conversion fahrenheit and 10.0 is:celcius\n"
     ]
    }
   ],
   "source": [
    "temp=eval(input(\"enter a temperature:\"))\n",
    "unit=input(\"celcius or fahrenheit:\")\n",
    "if unit==\"celcius\":\n",
    "    convert=(temp*9/5)+35\n",
    "    converted_unit=\"fahrenheit\"\n",
    "elif unit==\"fahrenheit\":\n",
    "    convert=(temp-32)*5/9\n",
    "    converted_unit=\"celcius\"\n",
    "print(\"the conversion {} and {} is:{}\".format(unit,convert,converted_unit))"
   ]
  },
  {
   "cell_type": "markdown",
   "id": "abf9577d",
   "metadata": {},
   "source": [
    "#### Problem-11(Use conditional statements)\n",
    "Ask the user to enter a temperature in Celsius. The program should print a message based on the\n",
    "temperature: • If the temperature is less than -273.15, print that the temperature is invalid because it is\n",
    "below absolute zero. • If it is exactly -273.15, print that the temperature is absolute 0. • If the temperature is between -273.15 and 0, print that the temperature"
   ]
  },
  {
   "cell_type": "code",
   "execution_count": 40,
   "id": "5ebb474c",
   "metadata": {},
   "outputs": [
    {
     "name": "stdout",
     "output_type": "stream",
     "text": [
      "enter a temperature in celsius:100\n",
      "temperature is above boiling point: 100\n"
     ]
    }
   ],
   "source": [
    "number=eval(input(\"enter a temperature in celsius:\"))\n",
    "if number <-273.15:\n",
    "    print(\"temp. is invalid it is below absulate zero\")\n",
    "elif number==-273.15:\n",
    "    print(\"temp.is zero:\")\n",
    "elif number <0:\n",
    "    print(\"tempreture is freezing:\",)\n",
    "elif number ==0:\n",
    "    print(\"tempreture is freezing point:\")\n",
    "elif number<100:\n",
    "    print(\"Tmpreture is normal range:\")\n",
    "elif number==0:\n",
    "    print(\"tempertaure as a boiling point:\")\n",
    "else:\n",
    "    print(\"temperature is above boiling point:\",number)"
   ]
  },
  {
   "cell_type": "markdown",
   "id": "890fdd3f",
   "metadata": {},
   "source": [
    "#### Problem-12(Use conditional statements)\n",
    "Write a program that asks the user how many credits they have taken. If they have taken 23 or less,\n",
    "print that the student is a freshman. If they have taken between 24 and 53, print that they are a\n",
    "sophomore. The range for juniors is 54 to 83, and for seniors it is 84 and over."
   ]
  },
  {
   "cell_type": "code",
   "execution_count": 45,
   "id": "fd2d57fd",
   "metadata": {},
   "outputs": [
    {
     "name": "stdout",
     "output_type": "stream",
     "text": [
      "how many teken credit:1000\n",
      "for seniors\n"
     ]
    }
   ],
   "source": [
    "number=eval(input(\"how many teken credit:\"))\n",
    "if number<=23:\n",
    "    print(\"student is freshman\")\n",
    "elif number>=24 and number<=53:  #condition\n",
    "    print(\"they are sopherman\")\n",
    "elif number>=54 and number<=84:\n",
    "    print(\"for junior\")\n",
    "elif number>=84:\n",
    "    print(\"for seniors\")\n",
    "else:\n",
    "    print(\"invalid\")"
   ]
  },
  {
   "cell_type": "markdown",
   "id": "51272014",
   "metadata": {},
   "source": [
    "#### Problem-13(Use conditional statements)\n",
    "Generate a random number between 1 and 10. Ask the user to guess the number and print a\n",
    "message based on whether they get it right or not."
   ]
  },
  {
   "cell_type": "code",
   "execution_count": 48,
   "id": "df764665",
   "metadata": {},
   "outputs": [
    {
     "name": "stdout",
     "output_type": "stream",
     "text": [
      "enter a guess number:4\n",
      "you wrong\n"
     ]
    }
   ],
   "source": [
    "import random\n",
    "number=eval(input(\"enter a guess number:\"))\n",
    "number1=random.randint(1,10)\n",
    "if number1==number:\n",
    "    print(\"you right\")\n",
    "    \n",
    "else:\n",
    "    print(\"you wrong\")"
   ]
  },
  {
   "cell_type": "markdown",
   "id": "3dbf05d7",
   "metadata": {},
   "source": [
    "#### Problem-14(Use conditional statements)\n",
    "A store charges $12 per item if you buy less than 10 items. If you buy between 10 and 99 items, the\n",
    "cost is $10 per item. If you buy 100 or more items, the cost is $7 per item. Write a program that asks\n",
    "the user how many items they are buying and prints the total cost."
   ]
  },
  {
   "cell_type": "code",
   "execution_count": 63,
   "id": "d40abe87",
   "metadata": {},
   "outputs": [
    {
     "name": "stdout",
     "output_type": "stream",
     "text": [
      "how many items are buying:600\n",
      "total cost: 4200\n"
     ]
    }
   ],
   "source": [
    "item=eval(input(\"how many items are buying:\"))\n",
    "if item<10:\n",
    "    total_cost=item*12\n",
    "    print(\"total cost:\",total_cost)\n",
    "elif item>=10 and item<=99:\n",
    "    total_cost=item*10\n",
    "    print(\"total cost:\",total_cost)\n",
    "elif item>=100:\n",
    "    total_cost=item*7\n",
    "    print(\"total cost:\",total_cost)\n",
    "else:\n",
    "    print(\"out of total cost\")"
   ]
  },
  {
   "cell_type": "markdown",
   "id": "c719eb5d",
   "metadata": {},
   "source": [
    "#### Problem-15(Use conditional statements)\n",
    "Write a program that asks the user for two numbers and prints Close if the numbers are within .001\n",
    "of each other and Not close otherwise."
   ]
  },
  {
   "cell_type": "code",
   "execution_count": 49,
   "id": "ad23c5e1",
   "metadata": {},
   "outputs": [
    {
     "name": "stdout",
     "output_type": "stream",
     "text": [
      "enter a number first:200\n",
      "enter a number second:100\n",
      "not close\n"
     ]
    }
   ],
   "source": [
    "num1=eval(input(\"enter a number first:\"))\n",
    "num2=eval(input(\"enter a number second:\"))\n",
    "if num1-num2 <0.001:\n",
    "    print(\"close\")\n",
    "else:\n",
    "    print(\"not close\")\n"
   ]
  },
  {
   "cell_type": "markdown",
   "id": "f8c427d9",
   "metadata": {},
   "source": [
    "#### Problem-16(Use conditional statements)\n",
    "A year is a leap year if it is divisible by 4, except that years divisible by 100 are not leap years unless\n",
    "they are also divisible by 400. Write a program that asks the user for a year and prints out whether it\n",
    "is a leap year or not."
   ]
  },
  {
   "cell_type": "code",
   "execution_count": 52,
   "id": "c5bb5016",
   "metadata": {},
   "outputs": [
    {
     "name": "stdout",
     "output_type": "stream",
     "text": [
      "enter a leap year:2021\n",
      "not leap year\n"
     ]
    }
   ],
   "source": [
    "year=eval(input(\"enter a leap year:\"))\n",
    "if year %100==0 or year%400==0:\n",
    "    print(\"lear year\")\n",
    "elif year%4==0 and year%100!=0:\n",
    "    print(\"lear year\")\n",
    "else:\n",
    "    print(\"not leap year\")"
   ]
  },
  {
   "cell_type": "markdown",
   "id": "f31879d9",
   "metadata": {},
   "source": [
    "#### Problem-17(Use conditional statements)\n",
    "Write a program that asks the user to enter a number and prints out all the divisors of that number.\n",
    "[Hint: the % operator is used to tell if a number is divisible by something."
   ]
  },
  {
   "cell_type": "code",
   "execution_count": 60,
   "id": "bc1df3fe",
   "metadata": {},
   "outputs": [
    {
     "name": "stdout",
     "output_type": "stream",
     "text": [
      "enter a number:458\n",
      "1\n",
      "2\n",
      "229\n",
      "458\n",
      "-- these divisors are 458:\n"
     ]
    }
   ],
   "source": [
    "number=eval(input(\"enter a number:\"))\n",
    "i=1\n",
    "while i<=number:\n",
    "    if number%i==0:\n",
    "        print(i)\n",
    "    i=i+1\n",
    "print(\"-- these divisors are {}:\".format(number))"
   ]
  },
  {
   "cell_type": "markdown",
   "id": "e1960c08",
   "metadata": {},
   "source": [
    "#### Problem-18(Use conditional statements)\n",
    "Write a program that asks the user for an hour between 1 and 12, asks them to enter am or pm, and\n",
    "asks them how many hours into the future they want to go.\n",
    "Print out what the hour will be that many hours into the future, printing am or pm as appropriate.\n",
    "An example is shown below.\n",
    "Enter hour: 8\n",
    "am (1) or pm (2)? 1\n",
    "How many hours ahead? 5\n",
    "New hour: 1 pm"
   ]
  },
  {
   "cell_type": "code",
   "execution_count": 55,
   "id": "da25d7bf",
   "metadata": {},
   "outputs": [
    {
     "name": "stdout",
     "output_type": "stream",
     "text": [
      "enter a hours:5\n",
      "am(1) or pm(2):2\n",
      "enter a hours:10\n",
      "new hours: 3 am\n"
     ]
    }
   ],
   "source": [
    "hours=eval(input(\"enter a hours:\"))\n",
    "choice_am_pm=eval(input(\"am(1) or pm(2):\"))\n",
    "if choice_am_pm!=1 and choice_am_pm!=2:       #!= not eqal to\n",
    "    print(\"invalid\")\n",
    "else:\n",
    "    ahead_hours=eval(input(\"enter a hours:\"))\n",
    "    new_hours=hours+ahead_hours\n",
    "    if choice_am_pm==1:\n",
    "        if new_hours<=12:\n",
    "            print(\"new hours:\",new_hours,'am')\n",
    "        else:\n",
    "            new_hours=new_hours%12\n",
    "            print(\"new hours:\",new_hours,'pm')\n",
    "    else:\n",
    "        if choice_am_pm==2:\n",
    "            if new_hours<=12:\n",
    "                print(\"new hours:\",new_hours,'pm')\n",
    "            else:\n",
    "                new_hours=new_hours%12\n",
    "                print(\"new hours:\",new_hours,'am')"
   ]
  },
  {
   "cell_type": "code",
   "execution_count": null,
   "id": "1de1ad5e",
   "metadata": {},
   "outputs": [],
   "source": []
  }
 ],
 "metadata": {
  "kernelspec": {
   "display_name": "Python 3 (ipykernel)",
   "language": "python",
   "name": "python3"
  },
  "language_info": {
   "codemirror_mode": {
    "name": "ipython",
    "version": 3
   },
   "file_extension": ".py",
   "mimetype": "text/x-python",
   "name": "python",
   "nbconvert_exporter": "python",
   "pygments_lexer": "ipython3",
   "version": "3.11.5"
  }
 },
 "nbformat": 4,
 "nbformat_minor": 5
}
