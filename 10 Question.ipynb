{
 "cells": [
  {
   "cell_type": "code",
   "execution_count": 36,
   "id": "b7eae062",
   "metadata": {},
   "outputs": [],
   "source": [
    "#1\n",
    "def with_out_argument():\n",
    "    try:\n",
    "        basic_salary=eval(input(\"enter basic salary:\"))\n",
    "        dearness_allowance=(basic_salary*40/100)\n",
    "        hous_rent=(basic_salary*20/100)\n",
    "        gross_salary=basic_salary+dearness_allowance+hous_rent\n",
    "        print(\"gross_salary {}\".format(gross_salary))\n",
    "    except Exception as e:\n",
    "        print(e)"
   ]
  },
  {
   "cell_type": "code",
   "execution_count": 37,
   "id": "67ef0dd8",
   "metadata": {},
   "outputs": [
    {
     "name": "stdout",
     "output_type": "stream",
     "text": [
      "enter basic salary:10000\n",
      "gross_salary 16000.0\n"
     ]
    }
   ],
   "source": [
    "with_out_argument()"
   ]
  },
  {
   "cell_type": "code",
   "execution_count": 74,
   "id": "95598bde",
   "metadata": {},
   "outputs": [],
   "source": [
    "#2\n",
    "def with_argument(a,b):\n",
    "    try:\n",
    "        distance_two_cities=eval(input(\"enter two cities distance in km:\"))\n",
    "        distance_meter=distance_two_cities*1000\n",
    "        distance_feet=distance_two_cities*3280.84\n",
    "        distance_inches=distance_two_cities*39370.1\n",
    "        print(\"distance between two cities is {} km = {} meters = {} feet = {} inches :\".format(distance_meter,distance_feet,distance_inches))\n",
    "    except Exception as e:\n",
    "        print(e)"
   ]
  },
  {
   "cell_type": "code",
   "execution_count": 75,
   "id": "2935cccb",
   "metadata": {},
   "outputs": [
    {
     "name": "stdout",
     "output_type": "stream",
     "text": [
      "enter two cities distance in km:10\n",
      "Replacement index 3 out of range for positional args tuple\n"
     ]
    }
   ],
   "source": [
    "with_argument(10,20)"
   ]
  },
  {
   "cell_type": "code",
   "execution_count": 2,
   "id": "db1fef2e",
   "metadata": {},
   "outputs": [],
   "source": [
    "#3\n",
    "def default_argument(percentage_marks,aggregate_marks=420):\n",
    "    try:\n",
    "        subject1=eval(input(\"enter the first subject marks=:\"))\n",
    "        subject2=eval(input(\"enter the second subject marks=:\"))\n",
    "        subject3=eval(input(\"enter the third subject marks=:\"))\n",
    "        subject4=eval(input(\"enter the fourth subject marks=:\"))\n",
    "        subject5=eval(input(\"enter the fifth subject marks=:\"))\n",
    "        aggregate_marks=subject1+subject2+subject3+subject4+subject5\n",
    "        percentage_marks=(aggregate_marks)*100/500\n",
    "        print('aggregate_marks',aggregate_marks)\n",
    "        print('percentage_marks',percentage_marks)\n",
    "    except Exception as e:\n",
    "        print(e)"
   ]
  },
  {
   "cell_type": "code",
   "execution_count": 3,
   "id": "3646c478",
   "metadata": {},
   "outputs": [
    {
     "name": "stdout",
     "output_type": "stream",
     "text": [
      "enter the first subject marks=:75\n",
      "enter the second subject marks=:70\n",
      "enter the third subject marks=:80\n",
      "enter the fourth subject marks=:85\n",
      "enter the fifth subject marks=:90\n",
      "aggregate_marks 400\n",
      "percentage_marks 80.0\n"
     ]
    }
   ],
   "source": [
    "default_argument(70)"
   ]
  },
  {
   "cell_type": "code",
   "execution_count": 15,
   "id": "6d6d1dac",
   "metadata": {},
   "outputs": [],
   "source": [
    "#4\n",
    "def default_argument():\n",
    "    try:\n",
    "        temprature_degree=eval(input(\"enter temprature of fahrenheit degree:\"))\n",
    "        centigrade_degree=(temprature_degree-32)*(9/5)\n",
    "        print(int(centigrade_degree),\"centigrade_degree\")\n",
    "        return(temprature_degree,centigrade_degree)\n",
    "    except Exception as e:\n",
    "        print(e)"
   ]
  },
  {
   "cell_type": "code",
   "execution_count": 18,
   "id": "0aa8b896",
   "metadata": {},
   "outputs": [
    {
     "name": "stdout",
     "output_type": "stream",
     "text": [
      "enter temprature of fahrenheit degree:70\n",
      "68 centigrade_degree\n"
     ]
    }
   ],
   "source": [
    "temprature_degree,centigrade_degree=default_argument()"
   ]
  },
  {
   "cell_type": "code",
   "execution_count": 19,
   "id": "42ad280e",
   "metadata": {},
   "outputs": [
    {
     "name": "stdout",
     "output_type": "stream",
     "text": [
      "70\n"
     ]
    }
   ],
   "source": [
    "print(temprature_degree)"
   ]
  },
  {
   "cell_type": "code",
   "execution_count": 20,
   "id": "3fc651fa",
   "metadata": {},
   "outputs": [
    {
     "name": "stdout",
     "output_type": "stream",
     "text": [
      "68.4\n"
     ]
    }
   ],
   "source": [
    "print(centigrade_degree)"
   ]
  },
  {
   "cell_type": "code",
   "execution_count": 68,
   "id": "72ef3dab",
   "metadata": {},
   "outputs": [],
   "source": [
    "#5\n",
    "def with_out_argument():\n",
    "    try:\n",
    "        import math\n",
    "        length=eval(input(\"enter length of rectangle=:\"))\n",
    "        breadth=eval(input(\"enter breadth of rectangle=:\"))\n",
    "        radius=eval(input(\"radius of a circle=:\"))\n",
    "        area=length*breadth\n",
    "        perimeter=2*(length+breadth)\n",
    "        area_circle=3.1415*radius**2\n",
    "        circumference=2*3.1415*radius\n",
    "        print(\"area of rectangle=\",area)\n",
    "        print(\"perimeter of rectangle=\",perimeter)\n",
    "        print(\"area of circle=\",area_circle)\n",
    "        print(\"circumference=\",circumference)\n",
    "    except Exception as e:\n",
    "        print(e)"
   ]
  },
  {
   "cell_type": "code",
   "execution_count": 69,
   "id": "96a643cf",
   "metadata": {},
   "outputs": [
    {
     "name": "stdout",
     "output_type": "stream",
     "text": [
      "enter length of rectangle=:20\n",
      "enter breadth of rectangle=:30\n",
      "radius of a circle=:40\n",
      "area of rectangle= 600\n",
      "perimeter of rectangle= 100\n",
      "area of circle= 5026.400000000001\n",
      "circumference= 251.32000000000002\n"
     ]
    }
   ],
   "source": [
    "with_out_argument()"
   ]
  },
  {
   "cell_type": "code",
   "execution_count": 25,
   "id": "4bf9a156",
   "metadata": {},
   "outputs": [],
   "source": [
    "#6\n",
    "def with_argument(a,b):\n",
    "    try:\n",
    "        c=eval(input(\"enter number one is c:\"))\n",
    "        d=eval(input(\"enter number second is d:\"))\n",
    "        interchange=c\n",
    "        c=d\n",
    "        d=interchange\n",
    "        print(\"c=\",d)\n",
    "        print(\"d=\",d)\n",
    "    except Exception as e:\n",
    "        print(e)"
   ]
  },
  {
   "cell_type": "code",
   "execution_count": 26,
   "id": "9fb31d27",
   "metadata": {},
   "outputs": [
    {
     "name": "stdout",
     "output_type": "stream",
     "text": [
      "enter number one is c:55\n",
      "enter number second is d:65\n",
      "c= 55\n",
      "d= 55\n"
     ]
    }
   ],
   "source": [
    "with_argument(70,75)"
   ]
  },
  {
   "cell_type": "code",
   "execution_count": 36,
   "id": "726c9c3a",
   "metadata": {},
   "outputs": [],
   "source": [
    "#7\n",
    "def default_argument(n1,n2,n3,n4,n5=7):\n",
    "    try:\n",
    "        number=eval(input(\"enter five digit number:\"))\n",
    "        rev1=number%10\n",
    "        n1=number//10\n",
    "        rev2=n2%10\n",
    "        n2=n2//10\n",
    "        rev3=n3%10\n",
    "        n3=n3//10\n",
    "        rev4=n4%10\n",
    "        n4=n4//10\n",
    "        rev5=n5%10\n",
    "        n5=n5//10\n",
    "        print(\"reverse number\",rev1,rev2,rev3,rev4,rev5)\n",
    "    except Exception as e:\n",
    "        print(e)"
   ]
  },
  {
   "cell_type": "code",
   "execution_count": 37,
   "id": "b03dc078",
   "metadata": {},
   "outputs": [
    {
     "name": "stdout",
     "output_type": "stream",
     "text": [
      "enter five digit number:5643\n",
      "reverse number 3 6 4 3 7\n"
     ]
    }
   ],
   "source": [
    "default_argument(5,6,4,3)"
   ]
  },
  {
   "cell_type": "code",
   "execution_count": 46,
   "id": "12a398d3",
   "metadata": {},
   "outputs": [],
   "source": [
    "#8\n",
    "def default_argument():\n",
    "    try:\n",
    "        number=eval(input(\"enter four digit number:\"))\n",
    "        sum1=number%10\n",
    "        n1=number//1234\n",
    "        sum2=n1%10\n",
    "        print(sum1+sum2)\n",
    "        return(sum1,sum2)\n",
    "    except Exception as e:\n",
    "        print(e)"
   ]
  },
  {
   "cell_type": "code",
   "execution_count": 50,
   "id": "d8271baa",
   "metadata": {},
   "outputs": [
    {
     "name": "stdout",
     "output_type": "stream",
     "text": [
      "enter four digit number:4598\n",
      "11\n"
     ]
    }
   ],
   "source": [
    "sum1,sum2=default_argument()"
   ]
  },
  {
   "cell_type": "code",
   "execution_count": 51,
   "id": "473cc2d3",
   "metadata": {},
   "outputs": [
    {
     "name": "stdout",
     "output_type": "stream",
     "text": [
      "8\n"
     ]
    }
   ],
   "source": [
    "print(sum1)"
   ]
  },
  {
   "cell_type": "code",
   "execution_count": 52,
   "id": "6f37beae",
   "metadata": {},
   "outputs": [
    {
     "name": "stdout",
     "output_type": "stream",
     "text": [
      "3\n"
     ]
    }
   ],
   "source": [
    "print(sum2)"
   ]
  },
  {
   "cell_type": "code",
   "execution_count": 63,
   "id": "1ed53e53",
   "metadata": {},
   "outputs": [],
   "source": [
    "#9\n",
    "def with_out_argument():\n",
    "    try:\n",
    "        town_population=80000\n",
    "        percentage_men=52\n",
    "        percentage_total_literacy=48\n",
    "        total_percentage_litrate_men=35\n",
    "        men=(percentage_men/100)*town_population\n",
    "        total_literacy=(percentage_total_literacy/100)*town_population\n",
    "        litrate_men=total_percentage_litrate_men*(town_population/100)\n",
    "        ilitrate_men=men-litrate_men\n",
    "        print(\"ilitrate men in town:\",int(ilitrate_men))\n",
    "        litrate_women=total_literacy-litrate_men\n",
    "        women=town_population-men\n",
    "        ilitrate_women=women-litrate_women\n",
    "        print(\"ilitrate women in town:\",int(ilitrate_women))\n",
    "    except Exception as e:\n",
    "        print(e)"
   ]
  },
  {
   "cell_type": "code",
   "execution_count": 64,
   "id": "ef3e359e",
   "metadata": {},
   "outputs": [
    {
     "name": "stdout",
     "output_type": "stream",
     "text": [
      "ilitrate men in town: 13600\n",
      "ilitrate women in town: 28000\n"
     ]
    }
   ],
   "source": [
    "with_out_argument()"
   ]
  },
  {
   "cell_type": "code",
   "execution_count": 65,
   "id": "55949fe5",
   "metadata": {},
   "outputs": [],
   "source": [
    "#10\n",
    "def with_argument(a,b):\n",
    "    try:\n",
    "        amount_in_hundred=eval(input(\"enter the amount to be withdrawn in hundred\"))\n",
    "        total_amount=amount_in_hundred*100\n",
    "        num_100_notes=total_amount//100\n",
    "        total_amount%=100\n",
    "        num_50_notes=total_amount//50\n",
    "        total_amount%=50\n",
    "        num_10_notes=total_amount//10\n",
    "        total_amount%=10\n",
    "        print(\"num of hundred rupees notes:\",num_100_notes)\n",
    "        print(\"num of hundred rupees notes:\",num_50_notes)\n",
    "        print(\"num of hundred rupees notes:\",num_10_notes)\n",
    "    except Exception as e:\n",
    "        print(e)"
   ]
  },
  {
   "cell_type": "code",
   "execution_count": 67,
   "id": "62e5f893",
   "metadata": {},
   "outputs": [
    {
     "name": "stdout",
     "output_type": "stream",
     "text": [
      "enter the amount to be withdrawn in hundred160\n",
      "num of hundred rupees notes: 160\n",
      "num of hundred rupees notes: 0\n",
      "num of hundred rupees notes: 0\n"
     ]
    }
   ],
   "source": [
    "with_argument(50,10)"
   ]
  },
  {
   "cell_type": "code",
   "execution_count": null,
   "id": "cb045167",
   "metadata": {},
   "outputs": [],
   "source": []
  }
 ],
 "metadata": {
  "kernelspec": {
   "display_name": "Python 3 (ipykernel)",
   "language": "python",
   "name": "python3"
  },
  "language_info": {
   "codemirror_mode": {
    "name": "ipython",
    "version": 3
   },
   "file_extension": ".py",
   "mimetype": "text/x-python",
   "name": "python",
   "nbconvert_exporter": "python",
   "pygments_lexer": "ipython3",
   "version": "3.11.5"
  }
 },
 "nbformat": 4,
 "nbformat_minor": 5
}
