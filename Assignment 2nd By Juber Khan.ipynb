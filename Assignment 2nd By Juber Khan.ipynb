{
 "cells": [
  {
   "cell_type": "code",
   "execution_count": null,
   "id": "aeddb923",
   "metadata": {},
   "outputs": [],
   "source": [
    "#1)\n",
    "\n",
    "try:\n",
    "    Basic_Salary=eval(input(\"Enter the basic salary Amount:\"))\n",
    "    Dearness_allowance=(40*(Basic_Salary)/100)\n",
    "    House_allowance=(20*(Basic_Salary)/100)\n",
    "    Gross_Sal=Basic_Salary+dearness_allowance+house_allowance\n",
    "    print(\"basic salary is {} and dearnes allow is{} ,house allo is {} and The\n",
    "except Exception as e:\n",
    "    print(e)"
   ]
  },
  {
   "cell_type": "code",
   "execution_count": 1,
   "id": "fe458b96",
   "metadata": {},
   "outputs": [
    {
     "name": "stdout",
     "output_type": "stream",
     "text": [
      "Enetr the distance in km10\n",
      "Distance in Km is {} ,dist in Meter is {} ,dist in feet is {},distance in inches is and distance in cm is{}\n"
     ]
    }
   ],
   "source": [
    "#2)\n",
    "\n",
    "try:\n",
    "    Kilometer=eval(input(\"Enetr the distance in km\"))\n",
    "    Dist_meter=(Kilometer*1000)\n",
    "    Dist_feet=(Kilometer*3282)\n",
    "    Dist_inches=(Kilometer*39370)\n",
    "    Dist_cm=(Kilometer*100000)\n",
    "    print(\"Distance in Km is {} ,dist in Meter is {} ,dist in feet is {},distance in inches is and distance in cm is{}\")\n",
    "except Exception as e:\n",
    "    print(e)"
   ]
  },
  {
   "cell_type": "code",
   "execution_count": null,
   "id": "25acfca2",
   "metadata": {},
   "outputs": [],
   "source": [
    "#3)\n",
    "\n",
    "try:\n",
    "    Marks=eval(input(\"How many subject are there-\"))\n",
    "    Maths=eval(input(\"Enter Marks of maths out of 100-\"))\n",
    "    Science=eval(input(\"Enter Marks of Science out of 100-\"))\n",
    "    English=eval(input(\"Enter Marks of English out of 100-\"))\n",
    "    SST=eval(input(\"Enter Marks of SST out of 100-\"))\n",
    "    Hindi=eval(input(\"Enter Marks of Hindiout of 100-\"))\n",
    "    Aggregate_marks=Maths+Science+English+SST+Hindi\n",
    "    Percentage =float(Aggregate_marks)/5\n",
    "    print(\"Aggregate marks are {} ,Percentage of marks are {}\".format(Aggreg\n",
    "except Exception as e:\n",
    "    print(e)"
   ]
  },
  {
   "cell_type": "code",
   "execution_count": null,
   "id": "cc0f1c7f",
   "metadata": {},
   "outputs": [],
   "source": [
    "#4)\n",
    "\n",
    "try:\n",
    "    F=eval(input(\"Enter the temp in degree farhenheight:\"))\n",
    "    C= ((F-32)*5)/9\n",
    "    print(\"The temperature in farenheight{}and degree Celsius is {}\".format(\n",
    "except Exception as e:\n",
    "    print(e)"
   ]
  },
  {
   "cell_type": "code",
   "execution_count": null,
   "id": "1ba012a2",
   "metadata": {},
   "outputs": [],
   "source": [
    "#5)\n",
    "\n",
    "try:\n",
    "    length=eval(input(\"Enter the Length:\"))\n",
    "    breadth=eval(input(\"Enter the breadth:\"))\n",
    "    Area = length*breadth\n",
    "    perimeter=2*(length+breadth)\n",
    "    print(\"The Area of reactangle is {},perimeter of the rectangle is {}\".fo\n",
    "except Exception as e:\n",
    "    print(e)"
   ]
  },
  {
   "cell_type": "code",
   "execution_count": null,
   "id": "36fdb1b4",
   "metadata": {},
   "outputs": [],
   "source": [
    "#6)\n",
    "\n",
    "try:\n",
    "    radius=eval(input(\"Enter the radius \"))\n",
    "    circumference_circle=2*3.14*radius\n",
    "    Area_Circle=3.14*radius*radius\n",
    "    print(\"The circumference of circle is {},Area of circle is {}\".format(ci\n",
    "except Exception as e:\n",
    "    print(e)"
   ]
  },
  {
   "cell_type": "code",
   "execution_count": null,
   "id": "9db82045",
   "metadata": {},
   "outputs": [],
   "source": [
    "#7)\n",
    "\n",
    "try:\n",
    "    C=eval(input(\"Enter first number \"))\n",
    "    D=eval(input(\"Enter second number\"))\n",
    "    C=D\n",
    "    D=C\n",
    "    print(\"The first number is {} ,and second number is {}\".format(C,D))\n",
    "except Exception as e:\n",
    "    print(e)"
   ]
  },
  {
   "cell_type": "code",
   "execution_count": null,
   "id": "f1b975ca",
   "metadata": {},
   "outputs": [],
   "source": [
    "#8)\n",
    "\n",
    "try:\n",
    "    A=eval(input(\"Enter First digit number \"))\n",
    "    B=eval(input(\"Enter Second digit number \"))\n",
    "    C=eval(input(\"Enter Third digit number \"))\n",
    "    D=eval(input(\"Enter Fourth digit number \"))\n",
    "    E=eval(input(\"Enter Fifth digit number \"))\n",
    "    print(\"The reverse of the number is {},{},{},{},{}\".format(E,D,C,B,A))\n",
    "except Exception as e:\n",
    "    print(e)"
   ]
  },
  {
   "cell_type": "code",
   "execution_count": null,
   "id": "d89ff94a",
   "metadata": {},
   "outputs": [],
   "source": [
    "#8)\n",
    "\n",
    "try:\n",
    "    N1=eval(input(\"Enter First digit number \"))\n",
    "    N2=eval(input(\"Enter Second digit number \"))\n",
    "    N3=eval(input(\"Enter Third digit number \"))\n",
    "    N4=eval(input(\"Enter Fourth digit number \"))\n",
    "    Sum=N1+N4\n",
    "    print(\"Sum of first no {} and last number {} is {}\".format(N1,N4,Sum))\n",
    "except Exception as e:\n",
    "    print(e)"
   ]
  },
  {
   "cell_type": "code",
   "execution_count": null,
   "id": "b0507c8c",
   "metadata": {},
   "outputs": [],
   "source": [
    "#9)\n",
    "\n",
    "try:\n",
    "    Population=80000\n",
    "    Total_Mens=(Population*52)/100\n",
    "    Illiterate_Mens=(Total_Mens*65)/100\n",
    "    Total_Womens=(48/100)*Population\n",
    "    Illiterate_Womens=(Total_Womens*13)/100\n",
    "    print(\"Total mens are {},Illitarate mens are {},Total womens are {},Illi\n",
    "except Exception as e:\n",
    "    print(e)"
   ]
  },
  {
   "cell_type": "code",
   "execution_count": null,
   "id": "e6c57c32",
   "metadata": {},
   "outputs": [],
   "source": [
    "#10)\n",
    "\n",
    "try:\n",
    "    Money=eval(input(\"Enter the amount to be widrawn\"))\n",
    "    Notes_100=Money/100\n",
    "    notes_50=Money/50\n",
    "    notes_10=Money/10\n",
    "    print(\"total notes are {},{},{}\".format(Notes_100,notes_50,notes_10))\n",
    "except Exception as e:\n",
    "    print(e)"
   ]
  }
 ],
 "metadata": {
  "kernelspec": {
   "display_name": "Python 3 (ipykernel)",
   "language": "python",
   "name": "python3"
  },
  "language_info": {
   "codemirror_mode": {
    "name": "ipython",
    "version": 3
   },
   "file_extension": ".py",
   "mimetype": "text/x-python",
   "name": "python",
   "nbconvert_exporter": "python",
   "pygments_lexer": "ipython3",
   "version": "3.11.5"
  }
 },
 "nbformat": 4,
 "nbformat_minor": 5
}
