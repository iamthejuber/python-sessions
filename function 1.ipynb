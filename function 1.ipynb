{
 "cells": [
  {
   "cell_type": "code",
   "execution_count": 1,
   "id": "306f18f1",
   "metadata": {},
   "outputs": [],
   "source": [
    "def Number():\n",
    "    Num1=eval(input(\"enter first Num:\"))\n",
    "    Num2=eval(input(\"enter second Num:\"))\n",
    "    Num3=eval(input(\"enter third Num:\"))\n",
    "    Calculate_average=Num1+Num2+Num3\n",
    "    print(\"the Num Of calculate average is\",Calculate_average)"
   ]
  },
  {
   "cell_type": "code",
   "execution_count": 2,
   "id": "53009d0b",
   "metadata": {},
   "outputs": [
    {
     "name": "stdout",
     "output_type": "stream",
     "text": [
      "enter first Num:100\n",
      "enter second Num:200\n",
      "enter third Num:300\n",
      "the Num Of calculate average is 600\n"
     ]
    }
   ],
   "source": [
    "Number()"
   ]
  },
  {
   "cell_type": "code",
   "execution_count": 6,
   "id": "c15f460a",
   "metadata": {},
   "outputs": [],
   "source": [
    "def bill():\n",
    "    bill_amount=eval(input(\"enter bill amount:\"))\n",
    "    tip=eval(input(\"enter tip amount:\"))\n",
    "    total_amount=bill_amount+tip\n",
    "    print(\"Total amount to pay:\",total_amount)\n",
    "             "
   ]
  },
  {
   "cell_type": "code",
   "execution_count": 7,
   "id": "2ff41806",
   "metadata": {},
   "outputs": [
    {
     "name": "stdout",
     "output_type": "stream",
     "text": [
      "enter bill amount:750\n",
      "enter tip amount:36\n",
      "Total amount to pay: 786\n"
     ]
    }
   ],
   "source": [
    "bill()"
   ]
  },
  {
   "cell_type": "code",
   "execution_count": 22,
   "id": "65c72fec",
   "metadata": {},
   "outputs": [],
   "source": [
    "def number():\n",
    "    num=eval(input(\"enter a number\"))\n",
    "    if num%2==0:\n",
    "        print(\"{} it is even num\")\n",
    "    else:\n",
    "        print(\"{} it is odd num\")\n",
    "    "
   ]
  },
  {
   "cell_type": "code",
   "execution_count": 23,
   "id": "11383d1a",
   "metadata": {},
   "outputs": [
    {
     "name": "stdout",
     "output_type": "stream",
     "text": [
      "enter a number10\n",
      "{} it is even num\n"
     ]
    }
   ],
   "source": [
    "number()"
   ]
  },
  {
   "cell_type": "code",
   "execution_count": null,
   "id": "6cfef455",
   "metadata": {},
   "outputs": [],
   "source": []
  },
  {
   "cell_type": "markdown",
   "id": "d8fab10e",
   "metadata": {},
   "source": [
    "**With Argument**"
   ]
  },
  {
   "cell_type": "code",
   "execution_count": 24,
   "id": "286f63a4",
   "metadata": {},
   "outputs": [],
   "source": [
    "def add():\n",
    "    a=100\n",
    "    b=200\n",
    "    print(a+b)"
   ]
  },
  {
   "cell_type": "code",
   "execution_count": 25,
   "id": "69d73f2b",
   "metadata": {},
   "outputs": [
    {
     "name": "stdout",
     "output_type": "stream",
     "text": [
      "300\n"
     ]
    }
   ],
   "source": [
    "add()"
   ]
  },
  {
   "cell_type": "code",
   "execution_count": 26,
   "id": "774fe2ce",
   "metadata": {},
   "outputs": [],
   "source": [
    "def add(a,b):\n",
    "    print(a+b)\n",
    "    "
   ]
  },
  {
   "cell_type": "code",
   "execution_count": 27,
   "id": "aef03d87",
   "metadata": {},
   "outputs": [
    {
     "name": "stdout",
     "output_type": "stream",
     "text": [
      "300\n"
     ]
    }
   ],
   "source": [
    "add(100,200)"
   ]
  },
  {
   "cell_type": "code",
   "execution_count": 13,
   "id": "1bd499fc",
   "metadata": {},
   "outputs": [],
   "source": [
    "def arguments(a,b):\n",
    "    add=a+b\n",
    "    sub=a-b\n",
    "    mul=a*b\n",
    "    div=a/b\n",
    "    print(\"the solution is:\",add)\n",
    "    print(\"the solution is:\",sub)\n",
    "    print(\"the solution is:\",mul)\n",
    "    print(\"the solution is:\",div)\n",
    "    return(add,sub,mul,div)"
   ]
  },
  {
   "cell_type": "code",
   "execution_count": 15,
   "id": "c4b52369",
   "metadata": {},
   "outputs": [
    {
     "name": "stdout",
     "output_type": "stream",
     "text": [
      "the solution is: 120\n",
      "the solution is: -20\n",
      "the solution is: 3500\n",
      "the solution is: 0.7142857142857143\n"
     ]
    }
   ],
   "source": [
    "add,sub,mul,div=arguments(50,70)"
   ]
  },
  {
   "cell_type": "code",
   "execution_count": 16,
   "id": "490c2d00",
   "metadata": {},
   "outputs": [
    {
     "name": "stdout",
     "output_type": "stream",
     "text": [
      "120\n"
     ]
    }
   ],
   "source": [
    "print(add)"
   ]
  },
  {
   "cell_type": "code",
   "execution_count": 17,
   "id": "c192e62b",
   "metadata": {},
   "outputs": [
    {
     "name": "stdout",
     "output_type": "stream",
     "text": [
      "-20\n"
     ]
    }
   ],
   "source": [
    "print(sub)"
   ]
  },
  {
   "cell_type": "code",
   "execution_count": 18,
   "id": "5c9bd176",
   "metadata": {},
   "outputs": [
    {
     "name": "stdout",
     "output_type": "stream",
     "text": [
      "3500\n"
     ]
    }
   ],
   "source": [
    "print(mul)"
   ]
  },
  {
   "cell_type": "code",
   "execution_count": 19,
   "id": "3bd1d6b8",
   "metadata": {},
   "outputs": [
    {
     "name": "stdout",
     "output_type": "stream",
     "text": [
      "0.7142857142857143\n"
     ]
    }
   ],
   "source": [
    "print(div)"
   ]
  },
  {
   "cell_type": "code",
   "execution_count": 26,
   "id": "8e389eec",
   "metadata": {},
   "outputs": [
    {
     "ename": "SyntaxError",
     "evalue": "incomplete input (1057247251.py, line 1)",
     "output_type": "error",
     "traceback": [
      "\u001b[1;36m  Cell \u001b[1;32mIn[26], line 1\u001b[1;36m\u001b[0m\n\u001b[1;33m    def tax_percentage(salary,tax=10):\u001b[0m\n\u001b[1;37m                                      ^\u001b[0m\n\u001b[1;31mSyntaxError\u001b[0m\u001b[1;31m:\u001b[0m incomplete input\n"
     ]
    }
   ],
   "source": []
  },
  {
   "cell_type": "code",
   "execution_count": null,
   "id": "b955d411",
   "metadata": {},
   "outputs": [],
   "source": []
  },
  {
   "cell_type": "code",
   "execution_count": 1,
   "id": "ea178d52",
   "metadata": {},
   "outputs": [],
   "source": [
    "#without argumnets\n",
    "def finding_greatest_number():\n",
    "    n1=eval(input(\"first greatest number:\"))\n",
    "    n2=eval(input(\"second greatest number:\"))\n",
    "    n3=eval(input(\"third greatest number:\"))\n",
    "    if n1>n2:\n",
    "        print(\"first number is greatest number:\")\n",
    "    elif n2>n3:\n",
    "        print(\"second number is greatest number:\")\n",
    "    else:\n",
    "        print(\"third number is greatest number:\")"
   ]
  },
  {
   "cell_type": "code",
   "execution_count": 3,
   "id": "270019ec",
   "metadata": {},
   "outputs": [
    {
     "name": "stdout",
     "output_type": "stream",
     "text": [
      "first greatest number:50\n",
      "second greatest number:45\n",
      "third greatest number:40\n",
      "first number is greatest number:\n"
     ]
    }
   ],
   "source": [
    "finding_greatest_number()"
   ]
  },
  {
   "cell_type": "code",
   "execution_count": 4,
   "id": "d721677a",
   "metadata": {},
   "outputs": [],
   "source": [
    "#with argumnets\n",
    "def finding_greatest_number(a,b):\n",
    "    n1=eval(input(\"first greatest number:\"))\n",
    "    n2=eval(input(\"second greatest number:\"))\n",
    "    n3=eval(input(\"third greatest number:\"))\n",
    "    if n1>n2:\n",
    "        print(\"first number is greatest number:\")\n",
    "    elif n2>n3:\n",
    "        print(\"second number is greatest number:\")\n",
    "    else:\n",
    "        print(\"third number is greatest number:\")"
   ]
  },
  {
   "cell_type": "code",
   "execution_count": 6,
   "id": "f1af5723",
   "metadata": {},
   "outputs": [
    {
     "name": "stdout",
     "output_type": "stream",
     "text": [
      "first greatest number:20\n",
      "second greatest number:50\n",
      "third greatest number:30\n",
      "second number is greatest number:\n"
     ]
    }
   ],
   "source": [
    "finding_greatest_number(50,60)"
   ]
  },
  {
   "cell_type": "code",
   "execution_count": 7,
   "id": "9266f8fb",
   "metadata": {},
   "outputs": [],
   "source": [
    "#with argumnets\n",
    "def finding_greatest_number(a,b,c=500):\n",
    "    n1=eval(input(\"first greatest number:\"))\n",
    "    n2=eval(input(\"second greatest number:\"))\n",
    "    n3=eval(input(\"third greatest number:\"))\n",
    "    if n1>n2:\n",
    "        print(\"first number is greatest number:\")\n",
    "    elif n2>n3:\n",
    "        print(\"second number is greatest number:\")\n",
    "    else:\n",
    "        print(\"third number is greatest number:\")"
   ]
  },
  {
   "cell_type": "code",
   "execution_count": 9,
   "id": "7f649373",
   "metadata": {},
   "outputs": [
    {
     "name": "stdout",
     "output_type": "stream",
     "text": [
      "first greatest number:50\n",
      "second greatest number:300\n",
      "third greatest number:400\n",
      "third number is greatest number:\n"
     ]
    }
   ],
   "source": [
    "finding_greatest_number(200,300)"
   ]
  },
  {
   "cell_type": "code",
   "execution_count": 23,
   "id": "f96e1528",
   "metadata": {},
   "outputs": [],
   "source": [
    "#with argumnets\n",
    "def finding_greatest_number():\n",
    "    n1=eval(input(\"first greatest number:\"))\n",
    "    n2=eval(input(\"second greatest number:\"))\n",
    "    n3=eval(input(\"third greatest number:\"))\n",
    "    if n1>n2:\n",
    "        print(\"first number is greatest number:\")\n",
    "    elif n2>n3:\n",
    "        print(\"second number is greatest number:\")\n",
    "    else:\n",
    "        print(\"third number is greatest number:\")\n",
    "    return(n1,n2)"
   ]
  },
  {
   "cell_type": "code",
   "execution_count": 24,
   "id": "a610746c",
   "metadata": {},
   "outputs": [
    {
     "ename": "NameError",
     "evalue": "name 'finding_gratest_number' is not defined",
     "output_type": "error",
     "traceback": [
      "\u001b[1;31m---------------------------------------------------------------------------\u001b[0m",
      "\u001b[1;31mNameError\u001b[0m                                 Traceback (most recent call last)",
      "Cell \u001b[1;32mIn[24], line 1\u001b[0m\n\u001b[1;32m----> 1\u001b[0m n1\u001b[38;5;241m=\u001b[39mfinding_gratest_number()\n",
      "\u001b[1;31mNameError\u001b[0m: name 'finding_gratest_number' is not defined"
     ]
    }
   ],
   "source": [
    "n1=finding_gratest_number()"
   ]
  },
  {
   "cell_type": "code",
   "execution_count": 28,
   "id": "fa77eb05",
   "metadata": {},
   "outputs": [],
   "source": [
    "def tax_percentage(salary,tax=10):\n",
    "    salary=eval(input(\"enter your salary\"))\n",
    "    tax_amount=(salary*tax/100)\n",
    "    print(\"the total tax amount is:{}\".format(salary,tax))"
   ]
  },
  {
   "cell_type": "code",
   "execution_count": 29,
   "id": "8c135661",
   "metadata": {},
   "outputs": [
    {
     "ename": "TypeError",
     "evalue": "tax_percentage() missing 1 required positional argument: 'salary'",
     "output_type": "error",
     "traceback": [
      "\u001b[1;31m---------------------------------------------------------------------------\u001b[0m",
      "\u001b[1;31mTypeError\u001b[0m                                 Traceback (most recent call last)",
      "Cell \u001b[1;32mIn[29], line 1\u001b[0m\n\u001b[1;32m----> 1\u001b[0m tax_percentage()\n",
      "\u001b[1;31mTypeError\u001b[0m: tax_percentage() missing 1 required positional argument: 'salary'"
     ]
    }
   ],
   "source": [
    "tax_percentage()"
   ]
  },
  {
   "cell_type": "code",
   "execution_count": 30,
   "id": "27ac1b9a",
   "metadata": {},
   "outputs": [
    {
     "name": "stdout",
     "output_type": "stream",
     "text": [
      "enter your salary:1500\n",
      "150.0\n"
     ]
    }
   ],
   "source": [
    "def tax_percentage(tax_percentage=10):\n",
    "    salary=eval(input(\"enter your salary:\"))\n",
    "    tax_amount=tax_percentage*salary/100\n",
    "    return(tax_amount)\n",
    "\n",
    "\n",
    "tax_amount=tax_percentage()\n",
    "print(tax_amount)"
   ]
  },
  {
   "cell_type": "code",
   "execution_count": 31,
   "id": "28c1b05a",
   "metadata": {},
   "outputs": [],
   "source": [
    "def avg_with_out():\n",
    "    n1=eval(input(\"enter number1:\"))\n",
    "    n2=eval(input(\"enter number2:\"))\n",
    "    n3=eval(input(\"enter number3:\"))\n",
    "    add=n1+n2+n3\n",
    "    avg=round(add/3,2)\n",
    "    print(\"The addition of {} {} and {} is: {}\".format(n1,n2,n3,add))\n",
    "    print(\"The average of {} {} and {} is: {}\".format(n1,n2,n3,avg))\n",
    "    return(add,avg)"
   ]
  },
  {
   "cell_type": "code",
   "execution_count": 32,
   "id": "3b97b0d9",
   "metadata": {},
   "outputs": [
    {
     "name": "stdout",
     "output_type": "stream",
     "text": [
      "enter number1:10\n",
      "enter number2:20\n",
      "enter number3:30\n",
      "The addition of 10 20 and 30 is: 60\n",
      "The average of 10 20 and 30 is: 20.0\n"
     ]
    },
    {
     "data": {
      "text/plain": [
       "(60, 20.0)"
      ]
     },
     "execution_count": 32,
     "metadata": {},
     "output_type": "execute_result"
    }
   ],
   "source": [
    "avg_with_out()"
   ]
  },
  {
   "cell_type": "code",
   "execution_count": 2,
   "id": "00a3ce9a",
   "metadata": {},
   "outputs": [
    {
     "name": "stdout",
     "output_type": "stream",
     "text": [
      "enter genderfemale\n",
      "enter age17\n",
      "she is girl\n"
     ]
    }
   ],
   "source": [
    "gender=input(\"enter gender\")\n",
    "if gender==\"male\":\n",
    "    age=eval(input(\"enter age\"))\n",
    "    if age>=5:\n",
    "        print(\"he is man\")\n",
    "    else:\n",
    "        print(\"he is boy\")\n",
    "        \n",
    "if gender==\"female\":\n",
    "    age=eval(input(\"enter age\"))\n",
    "    if age>=25:\n",
    "        print(\"she is women\")\n",
    "    else:\n",
    "        print(\"she is girl\")\n",
    "        "
   ]
  },
  {
   "cell_type": "code",
   "execution_count": null,
   "id": "9c7efdc2",
   "metadata": {},
   "outputs": [],
   "source": []
  }
 ],
 "metadata": {
  "kernelspec": {
   "display_name": "Python 3 (ipykernel)",
   "language": "python",
   "name": "python3"
  },
  "language_info": {
   "codemirror_mode": {
    "name": "ipython",
    "version": 3
   },
   "file_extension": ".py",
   "mimetype": "text/x-python",
   "name": "python",
   "nbconvert_exporter": "python",
   "pygments_lexer": "ipython3",
   "version": "3.11.5"
  }
 },
 "nbformat": 4,
 "nbformat_minor": 5
}
