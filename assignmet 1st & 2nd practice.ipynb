{
 "cells": [
  {
   "cell_type": "code",
   "execution_count": 10,
   "id": "6fb45041",
   "metadata": {},
   "outputs": [
    {
     "name": "stdout",
     "output_type": "stream",
     "text": [
      "enter youre number:5\n",
      "square of 5 is 25\n"
     ]
    }
   ],
   "source": [
    "num=eval(input(\"enter youre number:\"))\n",
    "square=num**2\n",
    "print(\"square of {} is {}\".format(num,square))"
   ]
  },
  {
   "cell_type": "code",
   "execution_count": 13,
   "id": "cc2612dd",
   "metadata": {},
   "outputs": [
    {
     "name": "stdout",
     "output_type": "stream",
     "text": [
      "enter youre number:7\n",
      "7---14---21---28---35\n"
     ]
    }
   ],
   "source": [
    "num=eval(input(\"enter youre number:\"))\n",
    "num2=2*num\n",
    "num3=3*num\n",
    "num4=4*num\n",
    "num5=5*num\n",
    "print(num,num2,num3,num4,num5,sep=\"---\")"
   ]
  },
  {
   "cell_type": "code",
   "execution_count": 19,
   "id": "05134de4",
   "metadata": {},
   "outputs": [
    {
     "name": "stdout",
     "output_type": "stream",
     "text": [
      "enter your weight:70\n",
      "1 kg is equal to how many pounds:2.2\n",
      "154.0\n"
     ]
    }
   ],
   "source": [
    "weight=eval(input(\"enter your weight:\"))\n",
    "pounds=eval(input(\"1 kg is equal to how many pounds:\"))\n",
    "weight_in_pound=weight*pounds\n",
    "print(weight_in_pound)"
   ]
  },
  {
   "cell_type": "code",
   "execution_count": 20,
   "id": "10b7bc98",
   "metadata": {},
   "outputs": [
    {
     "name": "stdout",
     "output_type": "stream",
     "text": [
      "enter a first number:5\n",
      "enter a second number:7\n",
      "enter a third number:10\n",
      "out of value total 22\n",
      "out of value average 7.333333333333333\n"
     ]
    }
   ],
   "source": [
    "num1=eval(input(\"enter a first number:\"))\n",
    "num2=eval(input(\"enter a second number:\"))\n",
    "num3=eval(input(\"enter a third number:\"))\n",
    "total=num1+num2+num3\n",
    "average=total/3\n",
    "print(\"out of value total\",total)\n",
    "print(\"out of value average\",average)"
   ]
  },
  {
   "cell_type": "code",
   "execution_count": 26,
   "id": "7787f1b7",
   "metadata": {},
   "outputs": [
    {
     "name": "stdout",
     "output_type": "stream",
     "text": [
      "enter a meal:60\n",
      "enetr a tip:10\n",
      "60.1\n"
     ]
    }
   ],
   "source": [
    "price_of_meal=eval(input(\"enter a meal:\"))\n",
    "tip=eval(input(\"enetr a tip:\"))\n",
    "total_amount=price_of_meal+tip/100\n",
    "print(total_amount)"
   ]
  },
  {
   "cell_type": "code",
   "execution_count": null,
   "id": "8134eb0e",
   "metadata": {},
   "outputs": [],
   "source": []
  },
  {
   "cell_type": "markdown",
   "id": "1d6a202b",
   "metadata": {},
   "source": [
    "# assignment no.2"
   ]
  },
  {
   "cell_type": "code",
   "execution_count": 34,
   "id": "734abb64",
   "metadata": {},
   "outputs": [
    {
     "name": "stdout",
     "output_type": "stream",
     "text": [
      "enter ramesh basic salary:5000\n",
      "8000.0\n"
     ]
    }
   ],
   "source": [
    "basic_salary=eval(input(\"enter ramesh basic salary:\"))\n",
    "dearness_allowance=(basic_salary*40)/100\n",
    "house_rent=(basic_salary*20)/100\n",
    "gross_salary=basic_salary+dearness_allowance+house_rent\n",
    "print(gross_salary)"
   ]
  },
  {
   "cell_type": "code",
   "execution_count": 37,
   "id": "e1326e10",
   "metadata": {},
   "outputs": [
    {
     "name": "stdout",
     "output_type": "stream",
     "text": [
      "enter distance two cities in km:50\n",
      "distance meter:25000\n",
      "distance feet:82021.0\n",
      "distance inches:984250\n",
      "distance cm:2500000\n"
     ]
    }
   ],
   "source": [
    "distance=eval(input(\"enter distance two cities in km:\"))\n",
    "d_meter=distance*500\n",
    "print(\"distance meter:{}\".format(d_meter))\n",
    "d_feet=distance*1640.42\n",
    "print(\"distance feet:{}\".format(d_feet))\n",
    "d_inches=distance*19685\n",
    "print(\"distance inches:{}\".format(d_inches))\n",
    "d_cm=distance*50000\n",
    "print(\"distance cm:{}\".format(d_cm))"
   ]
  },
  {
   "cell_type": "code",
   "execution_count": 40,
   "id": "f817a73e",
   "metadata": {},
   "outputs": [
    {
     "name": "stdout",
     "output_type": "stream",
     "text": [
      "enter physics marks:80\n",
      "enetr math marks:80\n",
      "enetr chem marks:80\n",
      "enetr bio marks:80\n",
      "enter hindi marks:80\n",
      "aggregate marks:400\n",
      "percenatge marks:80.0\n"
     ]
    }
   ],
   "source": [
    "sub1=eval(input(\"enter physics marks:\"))\n",
    "sub2=eval(input(\"enetr math marks:\"))\n",
    "sub3=eval(input(\"enetr chem marks:\"))\n",
    "sub4=eval(input(\"enetr bio marks:\"))\n",
    "sub5=eval(input(\"enter hindi marks:\"))\n",
    "aggregate_marks=sub1+sub2+sub3+sub4+sub5\n",
    "percentage_marks=aggregate_marks/500*100\n",
    "print(\"aggregate marks:{}\".format(aggregate_marks))\n",
    "print(\"percenatge marks:{}\".format(percentage_marks))"
   ]
  },
  {
   "cell_type": "code",
   "execution_count": null,
   "id": "2536b4a6",
   "metadata": {},
   "outputs": [],
   "source": []
  }
 ],
 "metadata": {
  "kernelspec": {
   "display_name": "Python 3 (ipykernel)",
   "language": "python",
   "name": "python3"
  },
  "language_info": {
   "codemirror_mode": {
    "name": "ipython",
    "version": 3
   },
   "file_extension": ".py",
   "mimetype": "text/x-python",
   "name": "python",
   "nbconvert_exporter": "python",
   "pygments_lexer": "ipython3",
   "version": "3.11.5"
  }
 },
 "nbformat": 4,
 "nbformat_minor": 5
}
