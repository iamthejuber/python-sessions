{
 "cells": [
  {
   "cell_type": "code",
   "execution_count": 1,
   "id": "d3d38cff",
   "metadata": {},
   "outputs": [
    {
     "name": "stdout",
     "output_type": "stream",
     "text": [
      "the value of a: 30\n",
      "30\n"
     ]
    }
   ],
   "source": [
    "#Global keyword\n",
    "\n",
    "a=20\n",
    "def val():\n",
    "    global a\n",
    "    a=30\n",
    "    print(\"the value of a:\",a)\n",
    "    \n",
    "val()\n",
    "print(a)\n"
   ]
  },
  {
   "cell_type": "code",
   "execution_count": 2,
   "id": "19867fd0",
   "metadata": {},
   "outputs": [],
   "source": [
    "num1=30\n",
    "def add(num2,num3):\n",
    "    global num1\n",
    "    num1=num2+num3\n",
    "    \n",
    "add(30,40)"
   ]
  },
  {
   "cell_type": "code",
   "execution_count": 3,
   "id": "ad7b7946",
   "metadata": {},
   "outputs": [
    {
     "name": "stdout",
     "output_type": "stream",
     "text": [
      "70\n"
     ]
    }
   ],
   "source": [
    "print(num1)"
   ]
  },
  {
   "cell_type": "code",
   "execution_count": 5,
   "id": "1be9447c",
   "metadata": {},
   "outputs": [
    {
     "name": "stdout",
     "output_type": "stream",
     "text": [
      "enter the number:50\n",
      "90\n"
     ]
    },
    {
     "ename": "NameError",
     "evalue": "name 'num2' is not defined",
     "output_type": "error",
     "traceback": [
      "\u001b[1;31m---------------------------------------------------------------------------\u001b[0m",
      "\u001b[1;31mNameError\u001b[0m                                 Traceback (most recent call last)",
      "Cell \u001b[1;32mIn[5], line 8\u001b[0m\n\u001b[0;32m      6\u001b[0m add(\u001b[38;5;241m40\u001b[39m)\n\u001b[0;32m      7\u001b[0m \u001b[38;5;28mprint\u001b[39m(num1)\n\u001b[1;32m----> 8\u001b[0m \u001b[38;5;28mprint\u001b[39m(num2)\n",
      "\u001b[1;31mNameError\u001b[0m: name 'num2' is not defined"
     ]
    }
   ],
   "source": [
    "num1=30\n",
    "def add(num3):\n",
    "    global num1\n",
    "    num2=eval(input(\"enter the number:\"))\n",
    "    num1=num2+num3\n",
    "add(40)\n",
    "print(num1)\n",
    "print(num2)"
   ]
  },
  {
   "cell_type": "code",
   "execution_count": 67,
   "id": "94590883",
   "metadata": {},
   "outputs": [
    {
     "ename": "TypeError",
     "evalue": "unsupported operand type(s) for *: 'function' and 'int'",
     "output_type": "error",
     "traceback": [
      "\u001b[1;31m---------------------------------------------------------------------------\u001b[0m",
      "\u001b[1;31mTypeError\u001b[0m                                 Traceback (most recent call last)",
      "Cell \u001b[1;32mIn[67], line 6\u001b[0m\n\u001b[0;32m      4\u001b[0m     tip\u001b[38;5;241m=\u001b[39m(bill\u001b[38;5;241m*\u001b[39mtip)\u001b[38;5;241m/\u001b[39m\u001b[38;5;241m100\u001b[39m\n\u001b[0;32m      5\u001b[0m     total_amount\u001b[38;5;241m=\u001b[39mbill\u001b[38;5;241m+\u001b[39mtip\n\u001b[1;32m----> 6\u001b[0m bill()\n\u001b[0;32m      7\u001b[0m \u001b[38;5;28mprint\u001b[39m(\u001b[38;5;124m\"\u001b[39m\u001b[38;5;124mtotal amount\u001b[39m\u001b[38;5;124m\"\u001b[39m,total_amount)\n",
      "Cell \u001b[1;32mIn[67], line 4\u001b[0m, in \u001b[0;36mbill\u001b[1;34m(tip)\u001b[0m\n\u001b[0;32m      2\u001b[0m \u001b[38;5;28;01mdef\u001b[39;00m \u001b[38;5;21mbill\u001b[39m(tip\u001b[38;5;241m=\u001b[39m\u001b[38;5;241m50\u001b[39m):\n\u001b[0;32m      3\u001b[0m     \u001b[38;5;28;01mglobal\u001b[39;00m total_amount\n\u001b[1;32m----> 4\u001b[0m     tip\u001b[38;5;241m=\u001b[39m(bill\u001b[38;5;241m*\u001b[39mtip)\u001b[38;5;241m/\u001b[39m\u001b[38;5;241m100\u001b[39m\n\u001b[0;32m      5\u001b[0m     total_amount\u001b[38;5;241m=\u001b[39mbill\u001b[38;5;241m+\u001b[39mtip\n",
      "\u001b[1;31mTypeError\u001b[0m: unsupported operand type(s) for *: 'function' and 'int'"
     ]
    }
   ],
   "source": [
    "bill=1000\n",
    "def bill(tip=50):\n",
    "    global total_amount\n",
    "    tip=(bill*tip)/100\n",
    "    total_amount=bill+tip\n",
    "bill()\n",
    "print(\"total amount\",total_amount)"
   ]
  },
  {
   "cell_type": "code",
   "execution_count": 64,
   "id": "4f0879b8",
   "metadata": {},
   "outputs": [
    {
     "ename": "TypeError",
     "evalue": "unsupported operand type(s) for +: 'function' and 'int'",
     "output_type": "error",
     "traceback": [
      "\u001b[1;31m---------------------------------------------------------------------------\u001b[0m",
      "\u001b[1;31mTypeError\u001b[0m                                 Traceback (most recent call last)",
      "Cell \u001b[1;32mIn[64], line 1\u001b[0m\n\u001b[1;32m----> 1\u001b[0m bill()\n",
      "Cell \u001b[1;32mIn[63], line 4\u001b[0m, in \u001b[0;36mbill\u001b[1;34m(tip)\u001b[0m\n\u001b[0;32m      2\u001b[0m \u001b[38;5;28;01mdef\u001b[39;00m \u001b[38;5;21mbill\u001b[39m(tip\u001b[38;5;241m=\u001b[39m\u001b[38;5;241m50\u001b[39m):\n\u001b[0;32m      3\u001b[0m     \u001b[38;5;28;01mglobal\u001b[39;00m total_amount\n\u001b[1;32m----> 4\u001b[0m     total_amount\u001b[38;5;241m=\u001b[39m(bill\u001b[38;5;241m+\u001b[39mtip)\u001b[38;5;241m/\u001b[39m\u001b[38;5;241m100\u001b[39m\n\u001b[0;32m      5\u001b[0m     \u001b[38;5;28mprint\u001b[39m(\u001b[38;5;124m\"\u001b[39m\u001b[38;5;124mtotal amount\u001b[39m\u001b[38;5;124m\"\u001b[39m,total_amount)\n",
      "\u001b[1;31mTypeError\u001b[0m: unsupported operand type(s) for +: 'function' and 'int'"
     ]
    }
   ],
   "source": [
    "bill()"
   ]
  },
  {
   "cell_type": "markdown",
   "id": "81219f21",
   "metadata": {},
   "source": [
    "#Function In Function#"
   ]
  },
  {
   "cell_type": "code",
   "execution_count": 11,
   "id": "e65b5e0c",
   "metadata": {},
   "outputs": [],
   "source": [
    "def greet():\n",
    "    print(\"Assalamualaikum\")\n",
    "def hey():\n",
    "    print(\"Ammi_Jaan\")\n",
    "    print(\"Khairiyat Se Ho Aap\")"
   ]
  },
  {
   "cell_type": "code",
   "execution_count": 14,
   "id": "f567d73c",
   "metadata": {},
   "outputs": [
    {
     "name": "stdout",
     "output_type": "stream",
     "text": [
      "Ammi_Jaan\n",
      "Khairiyat Se Ho Aap\n"
     ]
    }
   ],
   "source": [
    "hey()"
   ]
  },
  {
   "cell_type": "code",
   "execution_count": null,
   "id": "d696975b",
   "metadata": {},
   "outputs": [],
   "source": []
  },
  {
   "cell_type": "code",
   "execution_count": 59,
   "id": "bd5f921c",
   "metadata": {},
   "outputs": [
    {
     "name": "stdout",
     "output_type": "stream",
     "text": [
      "enter a number between 1 to 4:4\n",
      "2\n"
     ]
    }
   ],
   "source": [
    "def add(a,b):\n",
    "    print(\"the addition of {} and {} is:\",a+b)\n",
    "def sub(a,b):\n",
    "    print(\"the subtraction of {} and {} is:\",a-b)\n",
    "def mul(a,b):\n",
    "    print(\"the multiplication of {} and {} is:\",a*b)\n",
    "def div(a,b):\n",
    "    print(\"the division of {} and {} is:\",a/b)\n",
    "def calculation(a,b):\n",
    "    print(\"if you enter 1 it gives addition\")\n",
    "    print(\"if you enter 2 it gives subtraction\")\n",
    "    print(\"if you enter 3 it gives multiplication\")\n",
    "    print(\"if you enter 4 it gives division\")\n",
    "    \n",
    "number=(input(\"enter a number between 1 to 4:\"))\n",
    "if number==1:\n",
    "    add(a,b)\n",
    "elif number==2:\n",
    "    sub(a,b)\n",
    "elif number==3:\n",
    "    mul(a,b)\n",
    "elif number==4:\n",
    "    div(a,b)\n",
    "else:\n",
    "    number=(input())"
   ]
  },
  {
   "cell_type": "code",
   "execution_count": 62,
   "id": "e2c0b5e4",
   "metadata": {},
   "outputs": [
    {
     "name": "stdout",
     "output_type": "stream",
     "text": [
      "the addition of {} and {} is: 50\n"
     ]
    }
   ],
   "source": [
    "add(20,30)"
   ]
  },
  {
   "cell_type": "code",
   "execution_count": 51,
   "id": "a2356bca",
   "metadata": {},
   "outputs": [
    {
     "name": "stdout",
     "output_type": "stream",
     "text": [
      "the subtraction of {} and {} is: -10\n"
     ]
    }
   ],
   "source": [
    "sub(20,30)"
   ]
  },
  {
   "cell_type": "code",
   "execution_count": 52,
   "id": "286289fe",
   "metadata": {},
   "outputs": [
    {
     "name": "stdout",
     "output_type": "stream",
     "text": [
      "the multiplication of {} and {} is: 600\n"
     ]
    }
   ],
   "source": [
    "mul(20,30)"
   ]
  },
  {
   "cell_type": "code",
   "execution_count": 53,
   "id": "f0b74b39",
   "metadata": {},
   "outputs": [
    {
     "name": "stdout",
     "output_type": "stream",
     "text": [
      "the division of {} and {} is: 0.6666666666666666\n"
     ]
    }
   ],
   "source": [
    "div(20,30)"
   ]
  },
  {
   "cell_type": "code",
   "execution_count": 56,
   "id": "2fe9263e",
   "metadata": {},
   "outputs": [
    {
     "name": "stdout",
     "output_type": "stream",
     "text": [
      "if you enter 1 it gives addition\n",
      "if you enter 2 it gives subtraction\n",
      "if you enter 3 it gives multiplication\n",
      "if you enter 4 it gives division\n"
     ]
    }
   ],
   "source": [
    "calculation(20,30)"
   ]
  },
  {
   "cell_type": "code",
   "execution_count": null,
   "id": "f745ffba",
   "metadata": {},
   "outputs": [],
   "source": []
  }
 ],
 "metadata": {
  "kernelspec": {
   "display_name": "Python 3 (ipykernel)",
   "language": "python",
   "name": "python3"
  },
  "language_info": {
   "codemirror_mode": {
    "name": "ipython",
    "version": 3
   },
   "file_extension": ".py",
   "mimetype": "text/x-python",
   "name": "python",
   "nbconvert_exporter": "python",
   "pygments_lexer": "ipython3",
   "version": "3.11.5"
  }
 },
 "nbformat": 4,
 "nbformat_minor": 5
}
