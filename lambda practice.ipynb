{
 "cells": [
  {
   "cell_type": "markdown",
   "id": "fd63c5d8",
   "metadata": {},
   "source": [
    "1. Write a Python program to create a lambda function that adds 15 to a given number passed in as an argument, also create a lambda function that multiplies argument x with argument y and prints the result.\n",
    "Sample Output:\n",
    "25\n",
    "48"
   ]
  },
  {
   "cell_type": "code",
   "execution_count": 1,
   "id": "5d36e36f",
   "metadata": {},
   "outputs": [
    {
     "data": {
      "text/plain": [
       "45"
      ]
     },
     "execution_count": 1,
     "metadata": {},
     "output_type": "execute_result"
    }
   ],
   "source": [
    "def add(x,y=15):\n",
    "    return x*y\n",
    "add(10)\n",
    "add(3)"
   ]
  },
  {
   "cell_type": "code",
   "execution_count": 2,
   "id": "10294e2c",
   "metadata": {},
   "outputs": [],
   "source": [
    "def add(x,y):\n",
    "    z=x+y\n",
    "    return z"
   ]
  },
  {
   "cell_type": "code",
   "execution_count": 3,
   "id": "f390fa0a",
   "metadata": {},
   "outputs": [
    {
     "data": {
      "text/plain": [
       "8"
      ]
     },
     "execution_count": 3,
     "metadata": {},
     "output_type": "execute_result"
    }
   ],
   "source": [
    "add(3,5)"
   ]
  },
  {
   "cell_type": "code",
   "execution_count": null,
   "id": "36b0405b",
   "metadata": {},
   "outputs": [],
   "source": []
  },
  {
   "cell_type": "code",
   "execution_count": null,
   "id": "1785832b",
   "metadata": {},
   "outputs": [],
   "source": []
  },
  {
   "cell_type": "code",
   "execution_count": 4,
   "id": "bb8d208d",
   "metadata": {},
   "outputs": [
    {
     "data": {
      "text/plain": [
       "6"
      ]
     },
     "execution_count": 4,
     "metadata": {},
     "output_type": "execute_result"
    }
   ],
   "source": [
    "add=lambda x,y: x+y\n",
    "add(2,4)"
   ]
  },
  {
   "cell_type": "code",
   "execution_count": 5,
   "id": "2d8134f8",
   "metadata": {},
   "outputs": [
    {
     "ename": "SyntaxError",
     "evalue": "invalid syntax (3104848711.py, line 1)",
     "output_type": "error",
     "traceback": [
      "\u001b[1;36m  Cell \u001b[1;32mIn[5], line 1\u001b[1;36m\u001b[0m\n\u001b[1;33m    5. Write a Python program to filter a list of integers using Lambda.\u001b[0m\n\u001b[1;37m       ^\u001b[0m\n\u001b[1;31mSyntaxError\u001b[0m\u001b[1;31m:\u001b[0m invalid syntax\n"
     ]
    }
   ],
   "source": [
    "5. Write a Python program to filter a list of integers using Lambda.\n",
    "Original list of integers:\n",
    "[1, 2, 3, 4, 5, 6, 7, 8, 9, 10]\n",
    "Even numbers from the said list:\n",
    "[2, 4, 6, 8, 10]\n",
    "Odd numbers from the said list:\n",
    "[1, 3, 5, 7, 9]"
   ]
  },
  {
   "cell_type": "code",
   "execution_count": null,
   "id": "1d44a3ab",
   "metadata": {},
   "outputs": [],
   "source": [
    "list1=[1, 2, 3, 4, 5, 6, 7, 8, 9, 10]\n",
    "for i in list1:\n",
    "    if i%2==0:\n",
    "        print('even',i,end=\" \")\n",
    "    else:\n",
    "        print('odd',i,end=' ')"
   ]
  },
  {
   "cell_type": "code",
   "execution_count": null,
   "id": "c4f384ba",
   "metadata": {},
   "outputs": [],
   "source": [
    "tuple(map(lambda i: {i:'even'} if i%2==0 else {i:'odd'},list1))"
   ]
  },
  {
   "cell_type": "code",
   "execution_count": null,
   "id": "fc24093d",
   "metadata": {},
   "outputs": [],
   "source": [
    "6. Write a Python program to square and cube\n",
    "every number in a given list of integers using Lambda.\n",
    "Original list of integers:\n",
    "[1, 2, 3, 4, 5, 6, 7, 8, 9, 10]\n",
    "Square every number of the said list:\n",
    "[1, 4, 9, 16, 25, 36, 49, 64, 81, 100]\n",
    "Cube every number of the said list:\n",
    "[1, 8, 27, 64, 125, 216, 343, 512, 729, 1000]"
   ]
  },
  {
   "cell_type": "code",
   "execution_count": null,
   "id": "d6529ab1",
   "metadata": {},
   "outputs": [],
   "source": [
    "list1=[1, 2, 3, 4, 5, 6, 7, 8, 9, 10]\n",
    "for i in list1:\n",
    "        #print(i**2)\n",
    "        print(i**3)"
   ]
  },
  {
   "cell_type": "code",
   "execution_count": null,
   "id": "e7ff9520",
   "metadata": {},
   "outputs": [],
   "source": [
    "list(map(lambda i: (i**2),list1))"
   ]
  },
  {
   "cell_type": "code",
   "execution_count": null,
   "id": "3b0d8dd5",
   "metadata": {},
   "outputs": [],
   "source": [
    "list(map(lambda i: (i**3),list1))"
   ]
  },
  {
   "cell_type": "code",
   "execution_count": null,
   "id": "2d81d6be",
   "metadata": {},
   "outputs": [],
   "source": [
    "7. Write a Python program to find if a given string starts\n",
    "with a given character using Lambda.\n",
    "Sample Output:\n",
    "True\n",
    "False"
   ]
  },
  {
   "cell_type": "code",
   "execution_count": null,
   "id": "44402755",
   "metadata": {},
   "outputs": [],
   "source": [
    "len(map(lambda i: ))"
   ]
  },
  {
   "cell_type": "code",
   "execution_count": null,
   "id": "8f6020fc",
   "metadata": {},
   "outputs": [],
   "source": [
    "list(map(lambda x: x.startswith('a'), a))\n"
   ]
  },
  {
   "cell_type": "code",
   "execution_count": null,
   "id": "7aff0228",
   "metadata": {},
   "outputs": [],
   "source": [
    "11. Write a Python program to find the intersection of \n",
    "two given arrays using Lambda.\n",
    "Original arrays:\n",
    "[1, 2, 3, 5, 7, 8, 9, 10]\n",
    "[1, 2, 4, 8, 9]\n",
    "Intersection of the said arrays: [1, 2, 8, 9]"
   ]
  },
  {
   "cell_type": "code",
   "execution_count": null,
   "id": "b2d82fcb",
   "metadata": {},
   "outputs": [],
   "source": [
    "#for  in (list1,list2):\n",
    "    if i in j:\n",
    "        print(list1)"
   ]
  },
  {
   "cell_type": "code",
   "execution_count": null,
   "id": "2c0b9539",
   "metadata": {},
   "outputs": [],
   "source": [
    "list1=[1, 2, 3, 5, 7, 8, 9, 10]\n",
    "list2=[1, 2, 4, 8, 9]\n",
    "list(filter(lambda x: x in list1,list2))"
   ]
  },
  {
   "cell_type": "code",
   "execution_count": null,
   "id": "3c588bfd",
   "metadata": {},
   "outputs": [],
   "source": [
    "for i in list1:\n",
    "    if i in list2:\n",
    "        print(i)"
   ]
  },
  {
   "cell_type": "code",
   "execution_count": null,
   "id": "44a580c0",
   "metadata": {},
   "outputs": [],
   "source": [
    "list(filter(lambda i:i in list1,list2))"
   ]
  },
  {
   "cell_type": "code",
   "execution_count": null,
   "id": "bb252295",
   "metadata": {},
   "outputs": [],
   "source": [
    "12. Write a Python program to rearrange positive \n",
    "and negative numbers in a given array using Lambda.\n",
    "Original arrays:\n",
    "[-1, 2, -3, 5, 7, 8, 9, -10]\n",
    "Rearrange positive and negative numbers of the said array:\n",
    "[2, 5, 7, 8, 9, -10, -3, -1]"
   ]
  },
  {
   "cell_type": "code",
   "execution_count": null,
   "id": "4daf7a5d",
   "metadata": {},
   "outputs": [],
   "source": [
    "list1=[-1, 2, -3, 5, 7, 8, 9, -10]\n",
    "for i in list1:\n",
    "    if i>0:\n",
    "        print('positive',i)\n",
    "    else:\n",
    "        print('negative',i)\n"
   ]
  },
  {
   "cell_type": "code",
   "execution_count": null,
   "id": "6eb6163f",
   "metadata": {},
   "outputs": [],
   "source": [
    "list(filter(lambda i: i<0 ,list1))"
   ]
  },
  {
   "cell_type": "code",
   "execution_count": null,
   "id": "20cab444",
   "metadata": {},
   "outputs": [],
   "source": [
    "sorted(filter(lambda i: (i,i<0),list1))"
   ]
  },
  {
   "cell_type": "code",
   "execution_count": null,
   "id": "630ca997",
   "metadata": {},
   "outputs": [],
   "source": [
    "13. Write a Python program to count the even and\n",
    "odd numbers in a given array of integers using Lambda.\n",
    "Original arrays:\n",
    "[1, 2, 3, 5, 7, 8, 9, 10]\n",
    "Number of even numbers in the above array: 3\n",
    "Number of odd numbers in the above array: 5"
   ]
  },
  {
   "cell_type": "code",
   "execution_count": null,
   "id": "64ac8c2e",
   "metadata": {},
   "outputs": [],
   "source": [
    "list1=[1, 2, 3, 5, 7, 8, 9, 10]\n",
    "even=0\n",
    "odd=0\n",
    "for i in list1:\n",
    "    if i%2==0:\n",
    "        even+=1\n",
    "    else:\n",
    "        odd+=1\n",
    "print('the count of even numbers',even)\n",
    "print('the cout of odd number',odd)"
   ]
  },
  {
   "cell_type": "code",
   "execution_count": null,
   "id": "385ce501",
   "metadata": {},
   "outputs": [],
   "source": [
    "list(filter(lambda i:i%2==0,list1))"
   ]
  },
  {
   "cell_type": "code",
   "execution_count": null,
   "id": "2463f384",
   "metadata": {},
   "outputs": [],
   "source": [
    "list(filter(lambda i:i%2!=0,list1))"
   ]
  },
  {
   "cell_type": "code",
   "execution_count": null,
   "id": "6703d0d4",
   "metadata": {},
   "outputs": [],
   "source": []
  },
  {
   "cell_type": "code",
   "execution_count": null,
   "id": "a1d1f46e",
   "metadata": {},
   "outputs": [],
   "source": []
  },
  {
   "cell_type": "code",
   "execution_count": null,
   "id": "e29fa6cb",
   "metadata": {},
   "outputs": [],
   "source": []
  },
  {
   "cell_type": "code",
   "execution_count": null,
   "id": "fb2357b5",
   "metadata": {},
   "outputs": [],
   "source": [
    "str1='name,Review\\r\\nomkar,good\\r\\nsanjay,very good\\r\\n'\n",
    "name='Juber'\n",
    "review='Excellent'\n",
    "str1+','.join([name,review])+'r\\n'"
   ]
  },
  {
   "cell_type": "code",
   "execution_count": null,
   "id": "39df1e63",
   "metadata": {},
   "outputs": [],
   "source": []
  },
  {
   "cell_type": "code",
   "execution_count": null,
   "id": "284514f1",
   "metadata": {},
   "outputs": [],
   "source": []
  },
  {
   "cell_type": "code",
   "execution_count": null,
   "id": "d6b2c161",
   "metadata": {},
   "outputs": [],
   "source": []
  },
  {
   "cell_type": "code",
   "execution_count": null,
   "id": "29876db2",
   "metadata": {},
   "outputs": [],
   "source": []
  },
  {
   "cell_type": "code",
   "execution_count": null,
   "id": "6e14d57a",
   "metadata": {},
   "outputs": [],
   "source": []
  },
  {
   "cell_type": "code",
   "execution_count": null,
   "id": "cc437336",
   "metadata": {},
   "outputs": [],
   "source": [
    "15. Write a Python program to add two given lists using map and lambda.\n",
    "Original list:\n",
    "[1, 2, 3]\n",
    "[4, 5, 6]\n",
    "Result: after adding two list\n",
    "[5, 7, 9]"
   ]
  },
  {
   "cell_type": "code",
   "execution_count": 6,
   "id": "18da952c",
   "metadata": {},
   "outputs": [
    {
     "name": "stdout",
     "output_type": "stream",
     "text": [
      "5 7 9 "
     ]
    }
   ],
   "source": [
    "list1=[1,2,3]\n",
    "list2=[4,5,6]\n",
    "for i,j in zip(list1,list2):\n",
    "    print(i+j,end=' ')"
   ]
  },
  {
   "cell_type": "code",
   "execution_count": 6,
   "id": "e7594ce0",
   "metadata": {},
   "outputs": [
    {
     "name": "stdout",
     "output_type": "stream",
     "text": [
      "5\n",
      "7\n",
      "9\n"
     ]
    }
   ],
   "source": [
    "list1=[1,2,3]\n",
    "list2=[4,5,6]\n",
    "for i,j in zip(list1,list2):\n",
    "    print(i+j,end='\\n') #\\n \\t three time space\n",
    "# use list comprehension instead of map\n",
    "#result = list(i+j for i,j in zip(list1,list2))\n",
    "#print(result)"
   ]
  },
  {
   "cell_type": "code",
   "execution_count": 38,
   "id": "c52c92c1",
   "metadata": {},
   "outputs": [
    {
     "data": {
      "text/plain": [
       "[5, 7, 9]"
      ]
     },
     "execution_count": 38,
     "metadata": {},
     "output_type": "execute_result"
    }
   ],
   "source": [
    "list(map(lambda i: i[0]+i[1],zip(list1,list2)))"
   ]
  },
  {
   "cell_type": "code",
   "execution_count": 39,
   "id": "107740d8",
   "metadata": {},
   "outputs": [
    {
     "data": {
      "text/plain": [
       "[5, 7, 9]"
      ]
     },
     "execution_count": 39,
     "metadata": {},
     "output_type": "execute_result"
    }
   ],
   "source": [
    "list(map(lambda x,y :x+y,list1,list2))"
   ]
  },
  {
   "cell_type": "code",
   "execution_count": null,
   "id": "faa82881",
   "metadata": {},
   "outputs": [],
   "source": []
  }
 ],
 "metadata": {
  "kernelspec": {
   "display_name": "Python 3 (ipykernel)",
   "language": "python",
   "name": "python3"
  },
  "language_info": {
   "codemirror_mode": {
    "name": "ipython",
    "version": 3
   },
   "file_extension": ".py",
   "mimetype": "text/x-python",
   "name": "python",
   "nbconvert_exporter": "python",
   "pygments_lexer": "ipython3",
   "version": "3.11.5"
  }
 },
 "nbformat": 4,
 "nbformat_minor": 5
}
