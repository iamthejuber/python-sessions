{
 "cells": [
  {
   "cell_type": "code",
   "execution_count": 7,
   "id": "2d9b0726",
   "metadata": {},
   "outputs": [
    {
     "name": "stdout",
     "output_type": "stream",
     "text": [
      "one $ in how many rupees:83\n",
      "how much firm to pay the employee: 444\n"
     ]
    }
   ],
   "source": [
    "#1\n",
    "employee_rate=input(\"one $ in how many rupees:\") #83rs\n",
    "employee_work=37\n",
    "firm_pay=12*37\n",
    "print(\"how much firm to pay the employee:\",firm_pay)"
   ]
  },
  {
   "cell_type": "code",
   "execution_count": 120,
   "id": "ffd9635a",
   "metadata": {},
   "outputs": [
    {
     "name": "stdout",
     "output_type": "stream",
     "text": [
      "enter the amount in doller pay for 1 hours:12\n",
      "enter the hours work by employee:37\n",
      "firm pay is 37 and total work 444:\n"
     ]
    }
   ],
   "source": [
    "#2\n",
    "firm_pay=eval(input(\"enter the amount in doller pay for 1 hours:\"))\n",
    "total_work=eval(input(\"enter the hours work by employee:\"))\n",
    "total_pay=firm_pay*total_work\n",
    "print(\"firm pay is {} and total work {}:\".format(total_work,total_pay))"
   ]
  },
  {
   "cell_type": "code",
   "execution_count": 92,
   "id": "9c847d24",
   "metadata": {},
   "outputs": [
    {
     "name": "stdout",
     "output_type": "stream",
     "text": [
      "quiz first marks out 20:17\n",
      "quiz marks out of 20:18\n",
      "class test marks out of 25:21\n",
      "assignment marks out of 25:22\n",
      "project marks out of 200:170\n",
      "over_all: 86.0\n"
     ]
    }
   ],
   "source": [
    "#3\n",
    "quiz1=eval(input(\"quiz first marks out 20:\"))\n",
    "quiz2=eval(input(\"quiz marks out of 20:\"))\n",
    "class_test=eval(input(\"class test marks out of 25:\"))\n",
    "assignment=eval(input(\"assignment marks out of 25:\"))\n",
    "project=eval(input(\"project marks out of 200:\"))\n",
    "weighted=(quiz1/20*10)+(quiz2/20*10)+(class_test/25*25)+(assignment/25*25)+(project/200*30)\n",
    "over_all=(weighted/100)*100\n",
    "print(\"over_all:\",over_all)"
   ]
  },
  {
   "cell_type": "code",
   "execution_count": 80,
   "id": "6f58c157",
   "metadata": {},
   "outputs": [
    {
     "name": "stdout",
     "output_type": "stream",
     "text": [
      "enter a five digit number:12345\n",
      "five digit number 25\n"
     ]
    }
   ],
   "source": [
    "#4\n",
    "number=eval(input(\"enter a five digit number:\"))\n",
    "sum1=number%10\n",
    "n1=number//10\n",
    "sum2=number%10\n",
    "n2=number//10\n",
    "sum3=number%10\n",
    "n3=number//10\n",
    "sum4=number%10\n",
    "n4=number//10\n",
    "sum5=number%10\n",
    "n5=number//10\n",
    "add=sum1+sum2+sum3+sum4+sum5\n",
    "print(\"five digit number\",add)"
   ]
  },
  {
   "cell_type": "code",
   "execution_count": 127,
   "id": "058e2cac",
   "metadata": {},
   "outputs": [
    {
     "name": "stdout",
     "output_type": "stream",
     "text": [
      "enter a five digit number:12345\n",
      "15\n"
     ]
    }
   ],
   "source": [
    "#4\n",
    "number=eval(input(\"enter a five digit number:\"))\n",
    "if 10000< number <99999:\n",
    "    digit1=number//10000\n",
    "    digit2=(number//1000)%10\n",
    "    digit3=(number//100)%10\n",
    "    digit4=(number//10)%10\n",
    "    digit5=number%10\n",
    "    add=(digit1+digit2+digit3+digit4+digit5)\n",
    "    print(add)\n",
    "else:\n",
    "    print(\"enter a valid number\")"
   ]
  },
  {
   "cell_type": "code",
   "execution_count": 133,
   "id": "41b9cc41",
   "metadata": {},
   "outputs": [
    {
     "name": "stdout",
     "output_type": "stream",
     "text": [
      "enter a five digit number:12345\n",
      "2 3 4 5 6\n"
     ]
    }
   ],
   "source": [
    "#5\n",
    "number=eval(input(\"enter a five digit number:\"))\n",
    "sum1=number%10\n",
    "n1=number//10\n",
    "sum2=n1%10\n",
    "n2=n1//10\n",
    "sum3=n2%10\n",
    "n3=n2//10\n",
    "sum4=n3%10\n",
    "n4=n3//10\n",
    "n5=n4//10\n",
    "print(n4+1,end=\" \")\n",
    "print(sum4+1,end=\" \")\n",
    "print(sum3+1,end=\" \")\n",
    "print(sum2+1,end=\" \")\n",
    "print(sum1+1)\n"
   ]
  },
  {
   "cell_type": "markdown",
   "id": "bf42f6fc",
   "metadata": {},
   "source": [
    "# Problem-6: (Use conditional statements)"
   ]
  },
  {
   "cell_type": "code",
   "execution_count": 6,
   "id": "5bb654f9",
   "metadata": {},
   "outputs": [
    {
     "name": "stdout",
     "output_type": "stream",
     "text": [
      "enter a marks out of 20:17\n",
      "enter a marks out of 20:17\n",
      "enter a marks out of 50:17\n",
      "enter a marks out of 100:70\n",
      "enter a marks out of 200:100\n",
      "overall marks 57.99999999999999\n",
      "second class\n"
     ]
    }
   ],
   "source": [
    "def marks():\n",
    "    quiz1=eval(input(\"enter a marks out of 20:\"))\n",
    "    quiz2=eval(input(\"enter a marks out of 20:\"))\n",
    "    class_test=eval(input(\"enter a marks out of 50:\"))\n",
    "    assignment=eval(input(\"enter a marks out of 100:\"))\n",
    "    project=eval(input(\"enter a marks out of 200:\"))\n",
    "    calculate=(quiz1/20*10)+(quiz2/20*10)+(class_test/50*25)+(assignment/100*25)+(project/200*30)\n",
    "    over_all_marks=(calculate/100)*100\n",
    "    print(\"overall marks\",over_all_marks)\n",
    "    if over_all_marks>=60:\n",
    "        print('first class')\n",
    "    elif over_all_marks>=40:\n",
    "        print('second class')\n",
    "    else:\n",
    "        print('fail')\n",
    "marks()"
   ]
  },
  {
   "cell_type": "code",
   "execution_count": 7,
   "id": "bb694579",
   "metadata": {},
   "outputs": [
    {
     "name": "stdout",
     "output_type": "stream",
     "text": [
      "enter the amount in doller pay for 1 hours:37\n",
      "enter the hours work by employee:12\n",
      "firm pay is 12 and total work 444:\n"
     ]
    }
   ],
   "source": [
    "#7\n",
    "def pay():\n",
    "    firm_pay=eval(input(\"enter the amount in doller pay for 1 hours:\"))\n",
    "    total_work=eval(input(\"enter the hours work by employee:\"))\n",
    "    total_pay=firm_pay*total_work\n",
    "    print(\"firm pay is {} and total work {}:\".format(total_work,total_pay))\n",
    "\n",
    "pay()"
   ]
  },
  {
   "cell_type": "code",
   "execution_count": 44,
   "id": "c0b8b22d",
   "metadata": {},
   "outputs": [
    {
     "name": "stdout",
     "output_type": "stream",
     "text": [
      "enter the hours:9\n",
      "enter a numeric number:6\n",
      "9 54\n"
     ]
    }
   ],
   "source": [
    "try:\n",
    "    hours=eval(input(\"enter the hours:\"))\n",
    "    rate=eval(input(\"enter a numeric number:\"))\n",
    "    total=hours*rate\n",
    "    print(hours,total)\n",
    "except Exception as error:\n",
    "    print(\"please ente valid input\")"
   ]
  },
  {
   "cell_type": "code",
   "execution_count": 50,
   "id": "cd72faf2",
   "metadata": {},
   "outputs": [
    {
     "name": "stdout",
     "output_type": "stream",
     "text": [
      "enter a length in centimeter:45\n",
      "length of 45cm is equal to 17.716535433070867inches\n"
     ]
    }
   ],
   "source": [
    "#9\n",
    "length=eval(input('enter a length in centimeter:'))\n",
    "if length<0:\n",
    "    print(\"user enter invalid\")\n",
    "else:\n",
    "    result=length/2.54\n",
    "    print(\"length of {}cm is equal to {}inches\".format(length,result))"
   ]
  },
  {
   "cell_type": "code",
   "execution_count": 72,
   "id": "1826cf27",
   "metadata": {
    "scrolled": true
   },
   "outputs": [
    {
     "name": "stdout",
     "output_type": "stream",
     "text": [
      "enter a temperature:5\n",
      "celcius or fahrenheit:celcius\n",
      "the conversion celcius and 44.0 is:fahrenheit\n"
     ]
    }
   ],
   "source": [
    "#q.10\n",
    "temp=eval(input(\"enter a temperature:\"))\n",
    "unit=input(\"celcius or fahrenheit:\")\n",
    "if unit==\"celcius\":\n",
    "    convert=(temp*9/5)+35\n",
    "    converted_unit=\"fahrenheit\"\n",
    "elif unit==\"fahrenheit\":\n",
    "    convert=(temp-32)*5/9\n",
    "    converted_unit=\"celcius\"\n",
    "    \n",
    "print(\"the conversion {} and {} is:{}\".format(unit,convert,converted_unit))\n",
    "    "
   ]
  },
  {
   "cell_type": "code",
   "execution_count": 36,
   "id": "3b65c8cd",
   "metadata": {},
   "outputs": [
    {
     "name": "stdout",
     "output_type": "stream",
     "text": [
      "enter a temperature in celsius:35\n",
      "empreture is normal range:\n"
     ]
    }
   ],
   "source": [
    "#11\n",
    "number=eval(input(\"enter a temperature in celsius:\"))\n",
    "if number <-273.15:\n",
    "    print(\"temp. is invalid it is below absulate zero\")\n",
    "elif number==-273.15:\n",
    "    print(\"temp.is zero:\")\n",
    "elif number <0:\n",
    "    print(\"tempreture is freezing:\",)\n",
    "elif number ==0:\n",
    "    print(\"tempreture is freezing point:\")\n",
    "elif number<100:\n",
    "    print(\"Tmpreture is normal range:\")\n",
    "elif number==0:\n",
    "    print(\"tempertaure as a boiling point:\")\n",
    "else:\n",
    "    print(\"temperature is above boiling point:\",number)"
   ]
  },
  {
   "cell_type": "code",
   "execution_count": 88,
   "id": "1f06de39",
   "metadata": {},
   "outputs": [
    {
     "name": "stdout",
     "output_type": "stream",
     "text": [
      "enter a guess number:1\n",
      "you won\n"
     ]
    }
   ],
   "source": [
    "#q 13\n",
    "import random\n",
    "user=int(input(\"enter a guess number:\"))\n",
    "number=random.randint(1,3)\n",
    "if number==user:\n",
    "    print(\"you won\")\n",
    "    \n",
    "else:\n",
    "    print(\"you loss\")"
   ]
  },
  {
   "cell_type": "code",
   "execution_count": 172,
   "id": "d04cfe95",
   "metadata": {
    "scrolled": true
   },
   "outputs": [
    {
     "name": "stdout",
     "output_type": "stream",
     "text": [
      "enter a hours:5\n",
      "am(1) or pm(2):2\n",
      "enter a hours:9\n",
      "new hours: 2 am\n"
     ]
    }
   ],
   "source": [
    "#18:\n",
    "hours=eval(input(\"enter a hours:\"))\n",
    "choice_am_pm=eval(input(\"am(1) or pm(2):\"))\n",
    "if choice_am_pm!=1 and choice_am_pm!=2:       #!= not eqal to\n",
    "    print(\"invalid\")\n",
    "else:\n",
    "    ahead_hours=eval(input(\"enter a hours:\"))\n",
    "    new_hours=hours+ahead_hours\n",
    "    if choice_am_pm==1:\n",
    "        if new_hours<=12:\n",
    "            print(\"new hours:\",new_hours,'am')\n",
    "        else:\n",
    "            new_hours=new_hours%12\n",
    "            print(\"new hours:\",new_hours,'pm')\n",
    "    else:\n",
    "        if choice_am_pm==2:\n",
    "            if new_hours<=12:\n",
    "                print(\"new hours:\",new_hours,'pm')\n",
    "            else:\n",
    "                new_hours=new_hours%12\n",
    "                print(\"new hours:\",new_hours,'am')"
   ]
  },
  {
   "cell_type": "code",
   "execution_count": 42,
   "id": "9508fc32",
   "metadata": {},
   "outputs": [
    {
     "name": "stdout",
     "output_type": "stream",
     "text": [
      "enter a temperature in celsius:-275\n",
      "temp. is invalid it is below absulate zero\n"
     ]
    }
   ],
   "source": [
    "#11\n",
    "number=eval(input(\"enter a temperature in celsius:\"))\n",
    "if number <-273.15:\n",
    "    print(\"temp. is invalid it is below absulate zero\")\n",
    "elif number==-273.15:\n",
    "    print(\"temp.is zero:\")\n",
    "elif number <0:\n",
    "    print(\"tempreture is freezing:\",)\n",
    "elif number ==0:\n",
    "    print(\"tempreture is freezing point:\")\n",
    "elif number<100 and number>0:\n",
    "    print(\"Tempreture is normal range:\")\n",
    "elif number==0:\n",
    "    print(\"tempertaure as a boiling point:\")\n",
    "else:\n",
    "    print(\"temperature is above boiling point:\",number)"
   ]
  },
  {
   "cell_type": "code",
   "execution_count": 174,
   "id": "2ae618b2",
   "metadata": {},
   "outputs": [
    {
     "name": "stdout",
     "output_type": "stream",
     "text": [
      "how many teken credit:85\n",
      "they are sopherman\n"
     ]
    }
   ],
   "source": [
    "#q 12\n",
    "number=eval(input(\"how many teken credit:\"))\n",
    "if number<23:\n",
    "    print(\"student is freshman\")\n",
    "elif number>24 and 53:  #condition\n",
    "    print(\"they are sopherman\")\n",
    "elif number>54 and 84:\n",
    "    print(\"for junior\")\n",
    "elif number>84:\n",
    "    print(\"for seniors\")\n",
    "else:\n",
    "    print(\"invalid\")"
   ]
  },
  {
   "cell_type": "code",
   "execution_count": 7,
   "id": "84de6804",
   "metadata": {},
   "outputs": [
    {
     "name": "stdout",
     "output_type": "stream",
     "text": [
      "how many items are buying:100\n",
      "700\n"
     ]
    }
   ],
   "source": [
    "number=eval(input(\"how many items are buying:\"))\n",
    "if number<=10:\n",
    "    total_cost=number*12\n",
    "    print(total_cost)\n",
    "elif number>=10 and number<=99:\n",
    "    total_cost=number*10\n",
    "    print(total_cost)\n",
    "elif number>=100:\n",
    "    total_cost=number*7\n",
    "    print(total_cost)"
   ]
  },
  {
   "cell_type": "code",
   "execution_count": null,
   "id": "aaf79eb6",
   "metadata": {},
   "outputs": [],
   "source": []
  },
  {
   "cell_type": "code",
   "execution_count": 146,
   "id": "b691a296",
   "metadata": {},
   "outputs": [
    {
     "name": "stdout",
     "output_type": "stream",
     "text": [
      "enter a number first:8\n",
      "enter a number second:2\n",
      "not close\n"
     ]
    }
   ],
   "source": [
    "#15\n",
    "num1=eval(input(\"enter a number first:\"))\n",
    "num2=eval(input(\"enter a number second:\"))\n",
    "if num1-num2 <0.001:\n",
    "    print(\"close\")\n",
    "else:\n",
    "    print(\"not close\")\n"
   ]
  },
  {
   "cell_type": "code",
   "execution_count": 166,
   "id": "7330138e",
   "metadata": {},
   "outputs": [
    {
     "name": "stdout",
     "output_type": "stream",
     "text": [
      "enter a leap year:2016\n",
      "not leap year\n"
     ]
    }
   ],
   "source": [
    "#16\n",
    "year=eval(input(\"enter a leap year:\"))\n",
    "if year %100==0 or year%400==0:\n",
    "    \n",
    "    print(\"lear year\")\n",
    "else:\n",
    "    print(\"not leap year\")"
   ]
  },
  {
   "cell_type": "code",
   "execution_count": 163,
   "id": "c27f9b81",
   "metadata": {},
   "outputs": [
    {
     "name": "stdout",
     "output_type": "stream",
     "text": [
      "enter a number:10\n",
      "1\n",
      "2\n",
      "5\n"
     ]
    }
   ],
   "source": [
    "#17\n",
    "number=eval(input(\"enter a number:\"))\n",
    "for i in range(1,10):\n",
    "    if number % i==0:\n",
    "        print(i)"
   ]
  },
  {
   "cell_type": "code",
   "execution_count": 20,
   "id": "0cfa51a7",
   "metadata": {},
   "outputs": [
    {
     "name": "stdout",
     "output_type": "stream",
     "text": [
      "enter a hours:5\n",
      "choice_am_pm:1\n",
      "enter a new hours:6\n",
      "new hours 11 pm\n"
     ]
    }
   ],
   "source": [
    "#18\n",
    "hours=eval(input(\"enter a hours:\"))\n",
    "choice_am_pm=eval(input(\"choice_am_pm:\"))\n",
    "if choice_am_pm!=1 and choice_am_pm!=2:\n",
    "    print(\"invalid\")\n",
    "else:\n",
    "    ahead_hours=eval(input(\"enter a new hours:\"))\n",
    "    new_hours=hours+ahead_hours\n",
    "    if choice_am_pm==1:\n",
    "        if new_hours<12:\n",
    "            print(\"new hours\",new_hours,'pm')\n",
    "        else:\n",
    "            new_hours%12\n",
    "            print(\"new hours\",new_hours,'am')\n",
    "            if choice_am_pm==2:\n",
    "                if new_hours<12:\n",
    "                    print(\"new hours\",new_hours,'am')\n",
    "                else:\n",
    "                    new_hours=new_hours%12\n",
    "                    print(\"new hours\",new_hours,\"pm\")"
   ]
  },
  {
   "cell_type": "code",
   "execution_count": null,
   "id": "7b629339",
   "metadata": {},
   "outputs": [],
   "source": []
  }
 ],
 "metadata": {
  "kernelspec": {
   "display_name": "Python 3 (ipykernel)",
   "language": "python",
   "name": "python3"
  },
  "language_info": {
   "codemirror_mode": {
    "name": "ipython",
    "version": 3
   },
   "file_extension": ".py",
   "mimetype": "text/x-python",
   "name": "python",
   "nbconvert_exporter": "python",
   "pygments_lexer": "ipython3",
   "version": "3.11.5"
  }
 },
 "nbformat": 4,
 "nbformat_minor": 5
}
