{
 "cells": [
  {
   "cell_type": "code",
   "execution_count": 1,
   "id": "0ca2dd95",
   "metadata": {},
   "outputs": [],
   "source": [
    "list1=['A','B','C','D','E','F',1,2,3,4,5,6]"
   ]
  },
  {
   "cell_type": "code",
   "execution_count": 2,
   "id": "219fd9b5",
   "metadata": {},
   "outputs": [
    {
     "data": {
      "text/plain": [
       "['C', 'E', 1, 3, 5]"
      ]
     },
     "execution_count": 2,
     "metadata": {},
     "output_type": "execute_result"
    }
   ],
   "source": [
    "list1[2:11:2]"
   ]
  },
  {
   "cell_type": "code",
   "execution_count": 4,
   "id": "dbb4b5bc",
   "metadata": {},
   "outputs": [
    {
     "data": {
      "text/plain": [
       "[]"
      ]
     },
     "execution_count": 4,
     "metadata": {},
     "output_type": "execute_result"
    }
   ],
   "source": [
    "list1[2:11:-2]"
   ]
  },
  {
   "cell_type": "code",
   "execution_count": 10,
   "id": "0d72c326",
   "metadata": {},
   "outputs": [
    {
     "name": "stdout",
     "output_type": "stream",
     "text": [
      "Hyderabad\n",
      "Delhi\n",
      "Chennai\n"
     ]
    }
   ],
   "source": [
    "list2=['Hyderabad','Delhi','Chennai','Blr']\n",
    "for i in range(len(list2)):\n",
    "    if len(list2[i])>=4:\n",
    "        print(list2[i])            #range method in method"
   ]
  },
  {
   "cell_type": "code",
   "execution_count": 81,
   "id": "91c3842b",
   "metadata": {},
   "outputs": [
    {
     "name": "stdout",
     "output_type": "stream",
     "text": [
      "Hyderab#d\n",
      "Chenn#i\n"
     ]
    }
   ],
   "source": [
    "list2=['Hyderab#d','Delhi','Chenn#i','Blr']\n",
    "for i in list2:\n",
    "    if '#' in i:\n",
    "        print(i)"
   ]
  },
  {
   "cell_type": "code",
   "execution_count": 82,
   "id": "21565fc3",
   "metadata": {},
   "outputs": [
    {
     "name": "stdout",
     "output_type": "stream",
     "text": [
      "list[0]\n",
      "list[2]\n"
     ]
    }
   ],
   "source": [
    "for i in range(len(list2)):\n",
    "    if '#' in list2[i]:\n",
    "        print(list[i])"
   ]
  },
  {
   "cell_type": "code",
   "execution_count": 83,
   "id": "232b4be4",
   "metadata": {},
   "outputs": [],
   "source": [
    "i=0\n"
   ]
  },
  {
   "cell_type": "code",
   "execution_count": 84,
   "id": "852f2012",
   "metadata": {},
   "outputs": [
    {
     "name": "stdout",
     "output_type": "stream",
     "text": [
      "Hyderab#d\n",
      "Haridwar\n"
     ]
    }
   ],
   "source": [
    "list2=['Hyderab#d','Delhi','Chenn#i','Blr','Haridwar']\n",
    "for i in list2:\n",
    "    if 'H' in i:\n",
    "        print(i)"
   ]
  },
  {
   "cell_type": "code",
   "execution_count": 85,
   "id": "d9cdbdb6",
   "metadata": {},
   "outputs": [
    {
     "name": "stdout",
     "output_type": "stream",
     "text": [
      "Hyderab#d\n",
      "haridwar\n"
     ]
    }
   ],
   "source": [
    "list2=['Hyderab#d','Delhi','Chenn#i','Blr','haridwar']\n",
    "#startswith\n",
    "for i in list2:\n",
    "    if i.lower().startswith('h'):\n",
    "        print(i)"
   ]
  },
  {
   "cell_type": "code",
   "execution_count": 86,
   "id": "7c4c6d74",
   "metadata": {},
   "outputs": [],
   "source": [
    "list1=['omkar.nallagoni@gmail.com','kareem.pasha@gmail.com','santosh.kadam@gmail.com']"
   ]
  },
  {
   "cell_type": "code",
   "execution_count": 102,
   "id": "e5b4d847",
   "metadata": {},
   "outputs": [
    {
     "name": "stdout",
     "output_type": "stream",
     "text": [
      "nallagoni\n",
      "pasha\n",
      "kadam\n"
     ]
    }
   ],
   "source": [
    "list1=['omkar.nallagoni@gmail.com',\n",
    "       'kareem.pasha@gmail.com',\n",
    "       'santosh.kadam@gmail.com']\n",
    "for i in list1:\n",
    "    print(i[i.find('.')+1:i.find('@')])"
   ]
  },
  {
   "cell_type": "code",
   "execution_count": 94,
   "id": "6bf334a9",
   "metadata": {},
   "outputs": [
    {
     "name": "stdout",
     "output_type": "stream",
     "text": [
      "nallagoni\n"
     ]
    }
   ],
   "source": [
    "list2='omkar.nallagoni@gmail.com'\n",
    "print(list1[list1.find('.')+1:list1.find('@')])"
   ]
  },
  {
   "cell_type": "markdown",
   "id": "5257c49b",
   "metadata": {},
   "source": [
    "### append"
   ]
  },
  {
   "cell_type": "code",
   "execution_count": null,
   "id": "0e4cd4c2",
   "metadata": {},
   "outputs": [],
   "source": [
    "# apend is very very imp\n"
   ]
  },
  {
   "cell_type": "code",
   "execution_count": 51,
   "id": "105f69b1",
   "metadata": {},
   "outputs": [
    {
     "data": {
      "text/plain": [
       "[100, 200, 300, 400]"
      ]
     },
     "execution_count": 51,
     "metadata": {},
     "output_type": "execute_result"
    }
   ],
   "source": [
    "list1=[100,200,300]\n",
    "list1.append(400)\n",
    "list1"
   ]
  },
  {
   "cell_type": "code",
   "execution_count": 53,
   "id": "e8416224",
   "metadata": {},
   "outputs": [
    {
     "data": {
      "text/plain": [
       "[[20, 30, 70], 'python']"
      ]
     },
     "execution_count": 53,
     "metadata": {},
     "output_type": "execute_result"
    }
   ],
   "source": [
    "l1=[]\n",
    "l1.append([20,30,70])\n",
    "l1.append('python')\n",
    "l1"
   ]
  },
  {
   "cell_type": "code",
   "execution_count": 54,
   "id": "fb0e8d44",
   "metadata": {},
   "outputs": [
    {
     "data": {
      "text/plain": [
       "['Hyderabad', 'Delhi', 'Chennai', 'Haridwar']"
      ]
     },
     "execution_count": 54,
     "metadata": {},
     "output_type": "execute_result"
    }
   ],
   "source": [
    "list2=['Hyderabad','Delhi','Chennai','Blr','Haridwar']\n",
    "city_list=[]\n",
    "for i in list2:\n",
    "    if len(i)>=4:\n",
    "        city_list.append(i)\n",
    "city_list"
   ]
  },
  {
   "cell_type": "code",
   "execution_count": 55,
   "id": "126524a1",
   "metadata": {},
   "outputs": [
    {
     "data": {
      "text/plain": [
       "['Hyderab#d', 'Haridw#r']"
      ]
     },
     "execution_count": 55,
     "metadata": {},
     "output_type": "execute_result"
    }
   ],
   "source": [
    "list2=['Hyderab#d','Delhi','Chennai','Blr','Haridw#r']\n",
    "city_list=[]\n",
    "for i in list2:\n",
    "    if '#' in i:\n",
    "        city_list.append(i)\n",
    "city_list"
   ]
  },
  {
   "cell_type": "code",
   "execution_count": null,
   "id": "500fea60",
   "metadata": {},
   "outputs": [],
   "source": [
    "list1=['omkar.nallagoni@gmail.com',\n",
    "       'kareem.pasha@gmail.com',\n",
    "       'santosh.kadam@gmail.com']\n"
   ]
  },
  {
   "cell_type": "code",
   "execution_count": null,
   "id": "9872a1a6",
   "metadata": {},
   "outputs": [],
   "source": [
    "def names(list1):\n",
    "    first,second=[],[]\n",
    "    for i in list1:\n",
    "        fist.append(i.split('.')[0])\n",
    "        second.append(i[find('.')+1:i])"
   ]
  },
  {
   "cell_type": "code",
   "execution_count": 59,
   "id": "1f1686f3",
   "metadata": {},
   "outputs": [
    {
     "data": {
      "text/plain": [
       "([46, 42, 12, 22, 50, 24], [23, 17, 49, 9])"
      ]
     },
     "execution_count": 59,
     "metadata": {},
     "output_type": "execute_result"
    }
   ],
   "source": [
    "import random\n",
    "even,odd=[],[]\n",
    "for i in range(10):\n",
    "    num=random.randint(1,50)\n",
    "    if num%2==0:\n",
    "        even.append(num)\n",
    "    else:\n",
    "        odd.append(num)\n",
    "even,odd"
   ]
  },
  {
   "cell_type": "markdown",
   "id": "c892bd65",
   "metadata": {},
   "source": [
    "$List Comprehenshion$"
   ]
  },
  {
   "cell_type": "code",
   "execution_count": 61,
   "id": "bc1dc672",
   "metadata": {},
   "outputs": [
    {
     "ename": "TypeError",
     "evalue": "object of type 'int' has no len()",
     "output_type": "error",
     "traceback": [
      "\u001b[1;31m---------------------------------------------------------------------------\u001b[0m",
      "\u001b[1;31mTypeError\u001b[0m                                 Traceback (most recent call last)",
      "Cell \u001b[1;32mIn[61], line 1\u001b[0m\n\u001b[1;32m----> 1\u001b[0m output\u001b[38;5;241m=\u001b[39m[i \u001b[38;5;28;01mfor\u001b[39;00m i \u001b[38;5;129;01min\u001b[39;00m list1 \u001b[38;5;28;01mif\u001b[39;00m \u001b[38;5;28mlen\u001b[39m(i)\u001b[38;5;241m>\u001b[39m\u001b[38;5;241m=\u001b[39m\u001b[38;5;241m4\u001b[39m]\n\u001b[0;32m      2\u001b[0m output\n",
      "Cell \u001b[1;32mIn[61], line 1\u001b[0m, in \u001b[0;36m<listcomp>\u001b[1;34m(.0)\u001b[0m\n\u001b[1;32m----> 1\u001b[0m output\u001b[38;5;241m=\u001b[39m[i \u001b[38;5;28;01mfor\u001b[39;00m i \u001b[38;5;129;01min\u001b[39;00m list1 \u001b[38;5;28;01mif\u001b[39;00m \u001b[38;5;28mlen\u001b[39m(i)\u001b[38;5;241m>\u001b[39m\u001b[38;5;241m=\u001b[39m\u001b[38;5;241m4\u001b[39m]\n\u001b[0;32m      2\u001b[0m output\n",
      "\u001b[1;31mTypeError\u001b[0m: object of type 'int' has no len()"
     ]
    }
   ],
   "source": [
    "output=[i for i in list1 if len(i)>=4]\n",
    "output"
   ]
  },
  {
   "cell_type": "code",
   "execution_count": 66,
   "id": "7d307b25",
   "metadata": {},
   "outputs": [
    {
     "data": {
      "text/plain": [
       "['Hyderabad', 'Delhi', 'Chennai', 'Haridwar']"
      ]
     },
     "execution_count": 66,
     "metadata": {},
     "output_type": "execute_result"
    }
   ],
   "source": [
    "list2=['Hyderabad','Delhi','Chennai','Blr','Haridwar']\n",
    "city_list=[]\n",
    "for i in list2:\n",
    "    if len(i)>=4:\n",
    "        city_list.append(i)\n",
    "city_list\n",
    "output=[i for i in list2 if len(i)>=4]\n",
    "output"
   ]
  },
  {
   "cell_type": "code",
   "execution_count": 64,
   "id": "76eb6c20",
   "metadata": {},
   "outputs": [],
   "source": [
    "list2=['Hyderab#d','Delhi','Chennai','Blr','Haridw#r']\n",
    "city_list=[]\n",
    "for i in list2:\n",
    "    if '#' in i:\n",
    "        city_list.append(i)\n",
    "city_list\n",
    "output1=[i for i in list2 if '#' in i]"
   ]
  },
  {
   "cell_type": "code",
   "execution_count": 65,
   "id": "590924af",
   "metadata": {},
   "outputs": [
    {
     "data": {
      "text/plain": [
       "['Hyderab#d', 'Haridw#r']"
      ]
     },
     "execution_count": 65,
     "metadata": {},
     "output_type": "execute_result"
    }
   ],
   "source": [
    "output1"
   ]
  },
  {
   "cell_type": "code",
   "execution_count": 68,
   "id": "b17ab7ad",
   "metadata": {},
   "outputs": [],
   "source": [
    "square=[]\n",
    "for i in range(5):\n",
    "    square.append(i*i)\n",
    "square\n",
    "output3=[i*i for i in range(5)]"
   ]
  },
  {
   "cell_type": "code",
   "execution_count": 69,
   "id": "4190ccc8",
   "metadata": {},
   "outputs": [
    {
     "data": {
      "text/plain": [
       "[0, 1, 4, 9, 16]"
      ]
     },
     "execution_count": 69,
     "metadata": {},
     "output_type": "execute_result"
    }
   ],
   "source": [
    "output3"
   ]
  },
  {
   "cell_type": "code",
   "execution_count": 111,
   "id": "73adad1f",
   "metadata": {},
   "outputs": [
    {
     "name": "stdout",
     "output_type": "stream",
     "text": [
      "even:0\n",
      "odd:1\n",
      "even:2\n",
      "odd:3\n",
      "even:4\n",
      "odd:5\n",
      "even:6\n",
      "odd:7\n",
      "even:8\n",
      "odd:9\n"
     ]
    },
    {
     "data": {
      "text/plain": [
       "([0, 2, 4, 6, 8], [1, 3, 5, 7, 9])"
      ]
     },
     "execution_count": 111,
     "metadata": {},
     "output_type": "execute_result"
    }
   ],
   "source": [
    "even,odd=[],[]\n",
    "for i in range(10):\n",
    "    if i%2==0:\n",
    "        print('even:{}'.format(i))\n",
    "        even.append(i)\n",
    "    else:\n",
    "        print('odd:{}'.format(i))\n",
    "        odd.append(i)\n",
    "even,odd"
   ]
  },
  {
   "cell_type": "code",
   "execution_count": 112,
   "id": "b718f998",
   "metadata": {},
   "outputs": [
    {
     "data": {
      "text/plain": [
       "['even:0',\n",
       " 'odd:1',\n",
       " 'even:2',\n",
       " 'odd:3',\n",
       " 'even:4',\n",
       " 'odd:5',\n",
       " 'even:6',\n",
       " 'odd:7',\n",
       " 'even:8',\n",
       " 'odd:9']"
      ]
     },
     "execution_count": 112,
     "metadata": {},
     "output_type": "execute_result"
    }
   ],
   "source": [
    "# list comprehrnsion if else\n",
    "# [<output> if else <output> foloop ]\n",
    "output=['even:{}'.format(i) if i%2==0 else 'odd:{}'.format(i) for i in range(10)]\n",
    "output"
   ]
  },
  {
   "cell_type": "code",
   "execution_count": null,
   "id": "05d6d292",
   "metadata": {},
   "outputs": [],
   "source": []
  }
 ],
 "metadata": {
  "kernelspec": {
   "display_name": "Python 3 (ipykernel)",
   "language": "python",
   "name": "python3"
  },
  "language_info": {
   "codemirror_mode": {
    "name": "ipython",
    "version": 3
   },
   "file_extension": ".py",
   "mimetype": "text/x-python",
   "name": "python",
   "nbconvert_exporter": "python",
   "pygments_lexer": "ipython3",
   "version": "3.11.5"
  }
 },
 "nbformat": 4,
 "nbformat_minor": 5
}
