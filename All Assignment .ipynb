{
 "cells": [
  {
   "cell_type": "markdown",
   "id": "2d984a71",
   "metadata": {},
   "source": [
    "1. Ask the user to enter a number. Print out the square of the number,\n",
    "but use the sep optional argument to print it out in a full sentence that\n",
    "ends in a period.\n",
    "Sample output is shown below.\n",
    "Enter a number: 5\n",
    "The square of 5 is 25."
   ]
  },
  {
   "cell_type": "code",
   "execution_count": 10,
   "id": "4e81e68f",
   "metadata": {},
   "outputs": [
    {
     "name": "stdout",
     "output_type": "stream",
     "text": [
      "enter a number:5\n",
      "the square of 5 is 25:\n"
     ]
    }
   ],
   "source": [
    "num=eval(input('enter a number:'))\n",
    "square=num*num\n",
    "print('the square of {} is {}:'.format(num,square))"
   ]
  },
  {
   "cell_type": "markdown",
   "id": "8819e1d1",
   "metadata": {},
   "source": [
    "Ask the user to enter a number x. Use the sep optional argument to\n",
    "print out x, 2x, 3x, 4x, and 5x, each separated by three dashes, like\n",
    "below.\n",
    "Enter a number: 7\n",
    "7---14---21---28---35"
   ]
  },
  {
   "cell_type": "code",
   "execution_count": 13,
   "id": "c95655b2",
   "metadata": {},
   "outputs": [
    {
     "name": "stdout",
     "output_type": "stream",
     "text": [
      "enter a number:7\n",
      "7---14---21---28---35\n"
     ]
    }
   ],
   "source": [
    "num=eval(input('enter a number:'))\n",
    "n2=2*num\n",
    "n3=3*num\n",
    "n4=4*num\n",
    "n5=5*num\n",
    "print(num,n2,n3,n4,n5,sep=\"---\")"
   ]
  },
  {
   "cell_type": "markdown",
   "id": "b6eccaa8",
   "metadata": {},
   "source": [
    "Write a program that asks the user for a weight in kilograms and\n",
    "converts it to pounds. There are 2.2 pounds in a kilogram."
   ]
  },
  {
   "cell_type": "code",
   "execution_count": 33,
   "id": "d423d255",
   "metadata": {},
   "outputs": [
    {
     "name": "stdout",
     "output_type": "stream",
     "text": [
      "enter a weight:65\n",
      "1 kg weight is equal to how many kg:2.2\n",
      "143.0\n"
     ]
    }
   ],
   "source": [
    "weight=eval(input('enter a weight:'))\n",
    "pounds=eval(input('1 kg weight is equal to how many kg:'))\n",
    "weight_in_pounds=(weight*pounds)\n",
    "print(weight_in_pounds)"
   ]
  },
  {
   "cell_type": "markdown",
   "id": "2802fd39",
   "metadata": {},
   "source": [
    "Write a program that asks the user to enter three numbers (use three\n",
    "separate input statements).Create variables called total and average\n",
    "that hold the sum and average of the three numbers and print out the\n",
    "values of total and average."
   ]
  },
  {
   "cell_type": "code",
   "execution_count": 30,
   "id": "45998a07",
   "metadata": {},
   "outputs": [
    {
     "name": "stdout",
     "output_type": "stream",
     "text": [
      "enter a num1:50\n",
      "enter a num2:50\n",
      "enter a num3:50\n",
      "150 50.0\n"
     ]
    }
   ],
   "source": [
    "num1=eval(input('enter a num1:'))\n",
    "num2=eval(input('enter a num2:'))\n",
    "num3=eval(input('enter a num3:'))\n",
    "total=num1+num2+num3\n",
    "average=total/3\n",
    "print(total,average)"
   ]
  },
  {
   "cell_type": "markdown",
   "id": "ae0d5c55",
   "metadata": {},
   "source": [
    "5. A lot of cell phones have tip calculators. Write one. Ask the user for\n",
    "the price of the meal and the percent tip they want to leave. Then\n",
    "print both the tip amount and the total bill with the tip included."
   ]
  },
  {
   "cell_type": "code",
   "execution_count": 29,
   "id": "786ae36d",
   "metadata": {},
   "outputs": [
    {
     "name": "stdout",
     "output_type": "stream",
     "text": [
      "enter a price of meal :60\n",
      "enter a tip:10\n",
      "66.0\n"
     ]
    }
   ],
   "source": [
    "price_of_meal=eval(input('enter a price of meal :'))\n",
    "tip=eval(input('enter a tip:'))\n",
    "total_bill=(price_of_meal+price_of_meal*tip/100)\n",
    "print(total_bill)"
   ]
  },
  {
   "cell_type": "code",
   "execution_count": null,
   "id": "0c03fc8e",
   "metadata": {},
   "outputs": [],
   "source": []
  },
  {
   "cell_type": "markdown",
   "id": "7f4c4b7f",
   "metadata": {},
   "source": [
    "Ramesh’s basic salary is input through the keyboard. His dearness allowance is 40% of\n",
    "basic salary, and house rent allowance is 20% of basic salary. Write a program to\n",
    "calculate his gross salary."
   ]
  },
  {
   "cell_type": "code",
   "execution_count": 44,
   "id": "74c80c56",
   "metadata": {},
   "outputs": [
    {
     "name": "stdout",
     "output_type": "stream",
     "text": [
      "enter a basic salary:5000\n",
      "8000.0\n"
     ]
    }
   ],
   "source": [
    "basic_salary=eval(input('enter a basic salary:'))\n",
    "dearness=(basic_salary*40)/100\n",
    "house=(basic_salary*20)/100\n",
    "gross_salary=(basic_salary+dearness+house)\n",
    "print(gross_salary)"
   ]
  },
  {
   "cell_type": "markdown",
   "id": "ee1174bb",
   "metadata": {},
   "source": [
    "distance between two cities (in km.) is input through the keyboard. Write a program\n",
    "to convert and print this distance in meters, feet, inches and centimeters."
   ]
  },
  {
   "cell_type": "code",
   "execution_count": 48,
   "id": "96bfe7d0",
   "metadata": {},
   "outputs": [
    {
     "name": "stdout",
     "output_type": "stream",
     "text": [
      "enter a 1 km is equal to how many km :10\n",
      "this distance is km is= 10, meater is= 10000,feet= 32800 inches= 393700.79 cm= 100000\n"
     ]
    }
   ],
   "source": [
    "city=eval(input('enter a 1 km is equal to how many km :'))\n",
    "meter=city*1000\n",
    "feet=city*3280\n",
    "inches=city*39370.079\n",
    "cm=100000\n",
    "print('this distance is km is= {}, meater is= {},feet= {} inches= {} cm= {}'.format(city,meter,feet,inches,cm))"
   ]
  },
  {
   "cell_type": "markdown",
   "id": "07db76ec",
   "metadata": {},
   "source": [
    "If the marks obtained by a student in five different subjects are input through the\n",
    "keyboard, find out the aggregate marks and percentage marks obtained by the student.\n",
    "Assume that the maximum marks that can be obtained by a student in each subject is\n",
    "100."
   ]
  },
  {
   "cell_type": "code",
   "execution_count": 53,
   "id": "68025c18",
   "metadata": {},
   "outputs": [
    {
     "name": "stdout",
     "output_type": "stream",
     "text": [
      "enter a marks:95\n",
      "enter a marks:95\n",
      "enter a marks:90\n",
      "enter a marks:90\n",
      "enter a marks:85\n",
      "455 91.0\n"
     ]
    }
   ],
   "source": [
    "math=eval(input('enter a marks:'))\n",
    "science=eval(input('enter a marks:'))\n",
    "urdu=eval(input('enter a marks:'))\n",
    "hindi=eval(input('enter a marks:'))\n",
    "eng=eval(input('enter a marks:'))\n",
    "aggregate_marks=math+science+urdu+hindi+eng\n",
    "percentge=(aggregate_marks*100)/500\n",
    "print(aggregate_marks,percentge)"
   ]
  },
  {
   "cell_type": "markdown",
   "id": "cfd81641",
   "metadata": {},
   "source": [
    "Temperature of a city in Fahrenheit degrees is input through the keyboard. Write a\n",
    "program to convert this temperature into Centigrade degrees."
   ]
  },
  {
   "cell_type": "code",
   "execution_count": 56,
   "id": "22a495f2",
   "metadata": {},
   "outputs": [
    {
     "name": "stdout",
     "output_type": "stream",
     "text": [
      "enter a temp of in fahrenheit:65\n",
      "18.333333333333336\n"
     ]
    }
   ],
   "source": [
    "temp=eval(input('enter a temp of in fahrenheit:'))\n",
    "centigrade=5/9*(temp-32)\n",
    "print(centigrade)\n"
   ]
  },
  {
   "cell_type": "markdown",
   "id": "c5de9a4e",
   "metadata": {},
   "source": [
    "The length & breadth of a rectangle and radius of a circle are input through the\n",
    "keyboard. Write a program to calculate the area & perimeter of the rectangle, and the\n",
    "area & circumference of the circle."
   ]
  },
  {
   "cell_type": "code",
   "execution_count": null,
   "id": "ed7f6e2e",
   "metadata": {},
   "outputs": [],
   "source": [
    "import math\n",
    "math.pi\n",
    "length=eval(input('enter a length of a rectangle:'))\n",
    "breadth=eval(input('enter a breadth of a rectangle:'))\n",
    "radius=eval(input('enter a radius of a circle:'))\n",
    "area_rectangle="
   ]
  },
  {
   "cell_type": "markdown",
   "id": "a0a9c8e7",
   "metadata": {},
   "source": [
    "Two numbers are input through the keyboard into two locations C and D. Write a\n",
    "program to interchange the contents of C and D."
   ]
  },
  {
   "cell_type": "code",
   "execution_count": 58,
   "id": "67424eff",
   "metadata": {},
   "outputs": [
    {
     "name": "stdout",
     "output_type": "stream",
     "text": [
      "enter a number C:85\n",
      "enter a number D:45\n",
      "45\n",
      "85\n"
     ]
    }
   ],
   "source": [
    "c=input('enter a number C:')\n",
    "d=input(\"enter a number D:\")\n",
    "inter=c\n",
    "c=d\n",
    "d=inter\n",
    "print(c)\n",
    "print(d)"
   ]
  },
  {
   "cell_type": "markdown",
   "id": "0f48cf44",
   "metadata": {},
   "source": [
    "If a five-digit number is input through the keyboard, write a program to reverse the\n",
    "number."
   ]
  },
  {
   "cell_type": "code",
   "execution_count": 65,
   "id": "bfd8500d",
   "metadata": {},
   "outputs": [
    {
     "name": "stdout",
     "output_type": "stream",
     "text": [
      "enter a five digit number:31313\n",
      "3-1-3-1-3\n"
     ]
    }
   ],
   "source": [
    "number=eval(input('enter a five digit number:'))\n",
    "rev1=number%10\n",
    "n1=number//10\n",
    "rev2=n1%10\n",
    "n2=n1//10\n",
    "rev3=n2%10\n",
    "n3=n2//10\n",
    "rev4=n3%10\n",
    "n4=n3//10\n",
    "rev5=n4%10\n",
    "print(rev1,rev2,rev3,rev4,rev5,sep=\"-\")"
   ]
  },
  {
   "cell_type": "markdown",
   "id": "e19ae94f",
   "metadata": {},
   "source": [
    "If a four-digit number is input through the keyboard, write a program to obtain the sum of\n",
    "the first and last digit of this number."
   ]
  },
  {
   "cell_type": "code",
   "execution_count": 67,
   "id": "067e85f4",
   "metadata": {},
   "outputs": [
    {
     "name": "stdout",
     "output_type": "stream",
     "text": [
      "enter a four digit number:9879\n",
      "18\n"
     ]
    }
   ],
   "source": [
    "num=eval(input('enter a four digit number:'))\n",
    "sum1=num%10\n",
    "n1=num//1000\n",
    "sum2=n1%10\n",
    "add=sum1+sum2\n",
    "print(add)"
   ]
  },
  {
   "cell_type": "markdown",
   "id": "16bc728e",
   "metadata": {},
   "source": [
    "In a town, the percentage of men is 52. The percentage of total literacy is 48. If total\n",
    "percentage of literate men is 35 of the total population, write a program to find the total\n",
    "number of illiterate men and women if the population of the town is 80,000."
   ]
  },
  {
   "cell_type": "code",
   "execution_count": null,
   "id": "d518361a",
   "metadata": {},
   "outputs": [],
   "source": [
    "pop_of_town=80000\n",
    "per_men=52\n",
    "total_literacy=48\n",
    "literate_men=35\n"
   ]
  },
  {
   "cell_type": "markdown",
   "id": "44da383b",
   "metadata": {},
   "source": [
    "A cashier has currency notes of denominations 10, 50 and 100. If the amount to be\n",
    "withdrawn is input through the keyboard in hundreds, find the total number of currency\n",
    "notes of each denomination the cashier will have to give to the withdrawer."
   ]
  },
  {
   "cell_type": "code",
   "execution_count": null,
   "id": "75a18c47",
   "metadata": {},
   "outputs": [],
   "source": [
    "withdrawn=eval(input('amount to be withdrawn in hundreds:'))\n",
    "withdrawn_100_notes=100"
   ]
  },
  {
   "cell_type": "code",
   "execution_count": null,
   "id": "7e4718a4",
   "metadata": {},
   "outputs": [],
   "source": []
  },
  {
   "cell_type": "markdown",
   "id": "72265b45",
   "metadata": {},
   "source": [
    "#### Problem 1\n",
    "Suppose that a Firm pays its employee at the rate of $12 per hour. An employee has worked for 37\n",
    "hours. How much should the firm pay the employee? (Do normal way directly takes the input)"
   ]
  },
  {
   "cell_type": "code",
   "execution_count": 1,
   "id": "c2eea939",
   "metadata": {},
   "outputs": [
    {
     "name": "stdout",
     "output_type": "stream",
     "text": [
      "444\n"
     ]
    }
   ],
   "source": [
    "employee_rate=12 \n",
    "employee_work=37\n",
    "firm_pay=employee_rate*employee_work\n",
    "print(firm_pay)"
   ]
  },
  {
   "cell_type": "markdown",
   "id": "0ebe6ad1",
   "metadata": {},
   "source": [
    "#### Problem 2\n",
    "How about prompting the user for the number of hours and using the input value to compute the\n",
    "total pay? (Above problem use eval concept and sep concept)"
   ]
  },
  {
   "cell_type": "code",
   "execution_count": 6,
   "id": "6b18872f",
   "metadata": {},
   "outputs": [
    {
     "name": "stdout",
     "output_type": "stream",
     "text": [
      "enter of hours:12\n",
      "enter a rate in $:84\n",
      "1008$\n"
     ]
    }
   ],
   "source": [
    "hours=eval(input('enter of hours:'))\n",
    "rate=eval(input('enter a rate in $:'))\n",
    "total_pay=hours*rate\n",
    "print(total_pay,'$',sep='')"
   ]
  },
  {
   "cell_type": "markdown",
   "id": "f71d050c",
   "metadata": {},
   "source": [
    "#### Problem-3\n",
    "For a certain academic subject the students are evaluated based on \n",
    "five tests - \n",
    "* Quiz 1 (20 marks - 10% Weight),\n",
    "* Quiz 2 (20 marks - 10% Weight), \n",
    "* Class test (50 marks - 25% Weight), \n",
    "* Assignment (100 marks - 25% weight) and\n",
    "* Project (200 marks - 30% weight).\n",
    "\n",
    "Design a program that will prompt the user for marks for each of the\n",
    "tests and calculate the overall (marks out of-100)"
   ]
  },
  {
   "cell_type": "code",
   "execution_count": 12,
   "id": "3d5a6892",
   "metadata": {},
   "outputs": [
    {
     "name": "stdout",
     "output_type": "stream",
     "text": [
      "enter a marks out of 20:18\n",
      "enter a marks out of 20:18\n",
      "enter a marks out of 50:45\n",
      "enter a marks out of 100:95\n",
      "enter a marks out of 200:190\n",
      "95.6\n"
     ]
    }
   ],
   "source": [
    "quiz1=eval(input('enter a marks out of 20:'))\n",
    "quiz2=eval(input('enter a marks out of 20:'))\n",
    "class_test=eval(input('enter a marks out of 50:'))\n",
    "assignment=eval(input('enter a marks out of 100:'))\n",
    "project=eval(input('enter a marks out of 200:'))\n",
    "overall_marks=(quiz1*10/100)+(quiz2*10/100)+(class_test*25/100)+(assignment*25/100)+(project*30/100)\n",
    "#overall_marks=round(overall_marks)\n",
    "print(overall_marks)"
   ]
  },
  {
   "cell_type": "markdown",
   "id": "d401f5f2",
   "metadata": {},
   "source": [
    "#### Problem-4\n",
    "If a five-digit number is input through the keyboard, write a program to calculate the sum of its\n",
    "digits."
   ]
  },
  {
   "cell_type": "code",
   "execution_count": 27,
   "id": "587c0e96",
   "metadata": {},
   "outputs": [
    {
     "name": "stdout",
     "output_type": "stream",
     "text": [
      "enter a five-digit number:12345\n",
      "5\n"
     ]
    }
   ],
   "source": [
    "number=eval(input('enter a five-digit number:'))\n",
    "sum1=0\n",
    "if number>0:\n",
    "    sum2=number%10\n",
    "    sum1=sum1+sum2\n",
    "    number=number//10\n",
    "print(sum1)"
   ]
  },
  {
   "cell_type": "code",
   "execution_count": 34,
   "id": "2016d683",
   "metadata": {},
   "outputs": [
    {
     "name": "stdout",
     "output_type": "stream",
     "text": [
      "enter a five digit number:12345\n",
      "15\n"
     ]
    }
   ],
   "source": [
    "#5\n",
    "number=eval(input(\"enter a five digit number:\"))\n",
    "if 10000< number <99999:\n",
    "    digit1=(number//10000)%10\n",
    "    digit2=(number//1000)%10\n",
    "    digit3=(number//100)%10\n",
    "    digit4=(number//10)%10\n",
    "    digit5=(number%10)\n",
    "    add=(digit1+digit2+digit3+digit4+digit5)\n",
    "    print(add)\n",
    "else:\n",
    "    ('invalid number')"
   ]
  },
  {
   "cell_type": "markdown",
   "id": "173c6368",
   "metadata": {},
   "source": [
    "#### Problem-5\n",
    "If a five-digit number is input through the keyboard, write a program to print a new number by\n",
    "adding one to each of its digits. For example if the number that is input is 12371 then the output\n",
    "should be displayed as 23482."
   ]
  },
  {
   "cell_type": "code",
   "execution_count": 43,
   "id": "bacbf310",
   "metadata": {},
   "outputs": [
    {
     "name": "stdout",
     "output_type": "stream",
     "text": [
      "enter a five digit number:12371\n",
      "23482"
     ]
    }
   ],
   "source": [
    "number=eval(input(\"enter a five digit number:\"))\n",
    "sum1=number%10\n",
    "n1=number//10\n",
    "sum2=n1%10\n",
    "n2=n1//10\n",
    "sum3=n2%10\n",
    "n3=n2//10\n",
    "sum4=n3%10\n",
    "n4=n3//10\n",
    "n5=n4//10\n",
    "print(n4+1,end='')\n",
    "print(sum4+1,end='')\n",
    "print(sum3+1,end='')\n",
    "print(sum2+1,end='')\n",
    "print(sum1+1,end='')"
   ]
  },
  {
   "cell_type": "markdown",
   "id": "69cbd3e8",
   "metadata": {},
   "source": [
    "#### Problem-6: (Use conditional statements)\n",
    "\n",
    "**Recall the problem:**\n",
    "\n",
    "For a certain academic subject the students are evaluated based on five tests - * Quiz 1 (20 marks - 10% Weight), * Quiz 2 (20 marks - 10% Weight), * Class test (50 marks - 25% Weight), * Assignment (100 marks - 25% weight) and\n",
    "* Project (200 marks - 30% weight).\n",
    "\n",
    "Design a program that will prompt the user for marks for each of the tests and calculate the overall\n",
    "marks (out of 100).\n",
    "\n",
    "#### Add an extension to the problem to display grades:\n",
    "Display the grades of students using the following table:\n",
    "\n",
    "Score Grade\n",
    ">= 60 First Class\n",
    ">= 40 Second Class\n",
    "< 40 Fail"
   ]
  },
  {
   "cell_type": "code",
   "execution_count": 45,
   "id": "aa1dcf99",
   "metadata": {},
   "outputs": [
    {
     "name": "stdout",
     "output_type": "stream",
     "text": [
      "enter a marks out of 20:15\n",
      "enter a marks out of 20:15\n",
      "enter a marks out of 50:45\n",
      "enter a marks out of 100:85\n",
      "enter a marks out of 200:150\n",
      "80.5\n",
      "first class\n"
     ]
    }
   ],
   "source": [
    "quiz1=eval(input('enter a marks out of 20:'))\n",
    "quiz2=eval(input('enter a marks out of 20:'))\n",
    "class_test=eval(input('enter a marks out of 50:'))\n",
    "assignment=eval(input('enter a marks out of 100:'))\n",
    "project=eval(input('enter a marks out of 200:'))\n",
    "overall_marks=(quiz1*10/100)+(quiz2*10/100)+(class_test*25/100)+(assignment*25/100)+(project*30/100)\n",
    "#overall_marks=round(overall_marks)\n",
    "print(overall_marks)\n",
    "if overall_marks>=60:\n",
    "    print('first class')\n",
    "elif overall_marks>=40:\n",
    "    print('second class')\n",
    "else:\n",
    "    ('fail')"
   ]
  },
  {
   "cell_type": "markdown",
   "id": "01117d18",
   "metadata": {},
   "source": [
    "#### Problem-7: (Use conditional statements)\n",
    "\n",
    "** Recall the problem:**\n",
    "\n",
    "How about prompting the user for the number of hours and using the input value to compute the\n",
    "total pay?"
   ]
  },
  {
   "cell_type": "code",
   "execution_count": 50,
   "id": "bf987e80",
   "metadata": {},
   "outputs": [
    {
     "name": "stdout",
     "output_type": "stream",
     "text": [
      "enter of hours:15\n",
      "enter a rate in $:12\n",
      "180$\n"
     ]
    }
   ],
   "source": [
    "hours=eval(input('enter of hours:'))\n",
    "rate=eval(input('enter a rate in $:'))\n",
    "if hours>0:\n",
    "    total_pay=hours*rate\n",
    "    print(total_pay,'$',sep=\"\")\n",
    "else:\n",
    "    ('invalid')"
   ]
  },
  {
   "cell_type": "code",
   "execution_count": null,
   "id": "805a4dd3",
   "metadata": {},
   "outputs": [],
   "source": [
    "#### Problem-8\n",
    "** try & except **\n",
    "\n",
    "Rewrite the pay program (refer problem 2) using try and \n",
    "expect so that the program handles non-\n",
    "numeric input gracefully by printing a message and \n",
    "exiting the program. The following shows two\n",
    "\n",
    "executions of the program:\n",
    "\n",
    "Enter hours: 20\n",
    "Enter rate: nine\n",
    "Error, please enter numeric input"
   ]
  },
  {
   "cell_type": "code",
   "execution_count": 51,
   "id": "2644be9d",
   "metadata": {},
   "outputs": [
    {
     "name": "stdout",
     "output_type": "stream",
     "text": [
      "enter of hours:20\n",
      "enter a rate in $:nine\n",
      "Error, please enter numeric input\n"
     ]
    }
   ],
   "source": [
    "try:\n",
    "    hours=eval(input('enter of hours:'))\n",
    "    rate=eval(input('enter a rate in $:'))\n",
    "    total_pay=hours*rate\n",
    "    print(total_pay,'$',sep='')\n",
    "except Exception as e:\n",
    "    print('Error, please enter numeric input')"
   ]
  },
  {
   "cell_type": "markdown",
   "id": "39583564",
   "metadata": {},
   "source": [
    "#### Problem-9(Use conditional statements)\n",
    "\n",
    "Write a program that asks the user to enter a length in centimeters. If the user enters a negative\n",
    "length, the program should tell the user that the entry is invalid. Otherwise, the program should\n",
    "convert the length to inches and print out the result. There are 2.54 centimeters in an inch."
   ]
  },
  {
   "cell_type": "code",
   "execution_count": 66,
   "id": "d88979c6",
   "metadata": {},
   "outputs": [
    {
     "name": "stdout",
     "output_type": "stream",
     "text": [
      "enter a length in centimeter:54\n",
      "21.25984251968504\n"
     ]
    }
   ],
   "source": [
    "length=eval(input('enter a length in centimeter:'))\n",
    "#one_inch=2.54\n",
    "if length<0:\n",
    "    print('entry is invalid')\n",
    "else:\n",
    "    result=length/2.54\n",
    "    print(result)\n",
    "    #print('the length of {} is equal to {} inches:'.format(length,result))"
   ]
  },
  {
   "cell_type": "markdown",
   "id": "fa14b847",
   "metadata": {},
   "source": [
    "#### Problem-10(Use conditional statements)\n",
    "Ask the user for a temperature. Then ask them what units, Celsius or Fahrenheit, the temperature is\n",
    "in. Your program should convert the temperature to the other unit. The conversions are F = 9 5 C +\n",
    "32 and C = 5 9 (F − 32)."
   ]
  },
  {
   "cell_type": "code",
   "execution_count": null,
   "id": "0557b182",
   "metadata": {},
   "outputs": [],
   "source": []
  }
 ],
 "metadata": {
  "kernelspec": {
   "display_name": "Python 3 (ipykernel)",
   "language": "python",
   "name": "python3"
  },
  "language_info": {
   "codemirror_mode": {
    "name": "ipython",
    "version": 3
   },
   "file_extension": ".py",
   "mimetype": "text/x-python",
   "name": "python",
   "nbconvert_exporter": "python",
   "pygments_lexer": "ipython3",
   "version": "3.11.5"
  }
 },
 "nbformat": 4,
 "nbformat_minor": 5
}
