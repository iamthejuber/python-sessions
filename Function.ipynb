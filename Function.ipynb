{
 "cells": [
  {
   "cell_type": "code",
   "execution_count": 3,
   "id": "7b2e2f39",
   "metadata": {},
   "outputs": [
    {
     "name": "stdout",
     "output_type": "stream",
     "text": [
      "enter base salary5000\n",
      "enter DA Amount6000\n"
     ]
    },
    {
     "ename": "AttributeError",
     "evalue": "'str' object has no attribute 'total_salary'",
     "output_type": "error",
     "traceback": [
      "\u001b[1;31m---------------------------------------------------------------------------\u001b[0m",
      "\u001b[1;31mAttributeError\u001b[0m                            Traceback (most recent call last)",
      "Cell \u001b[1;32mIn[3], line 6\u001b[0m\n\u001b[0;32m      4\u001b[0m     total_salary\u001b[38;5;241m=\u001b[39mbase_salary\u001b[38;5;241m+\u001b[39mDA_amount\n\u001b[0;32m      5\u001b[0m     \u001b[38;5;28mprint\u001b[39m(\u001b[38;5;124m\"\u001b[39m\u001b[38;5;124mthe total salary is:\u001b[39m\u001b[38;5;124m\"\u001b[39m\u001b[38;5;241m.\u001b[39mtotal_salary)\n\u001b[1;32m----> 6\u001b[0m salary()\n",
      "Cell \u001b[1;32mIn[3], line 5\u001b[0m, in \u001b[0;36msalary\u001b[1;34m()\u001b[0m\n\u001b[0;32m      3\u001b[0m DA_amount\u001b[38;5;241m=\u001b[39m\u001b[38;5;28meval\u001b[39m(\u001b[38;5;28minput\u001b[39m(\u001b[38;5;124m\"\u001b[39m\u001b[38;5;124menter DA Amount\u001b[39m\u001b[38;5;124m\"\u001b[39m))\n\u001b[0;32m      4\u001b[0m total_salary\u001b[38;5;241m=\u001b[39mbase_salary\u001b[38;5;241m+\u001b[39mDA_amount\n\u001b[1;32m----> 5\u001b[0m \u001b[38;5;28mprint\u001b[39m(\u001b[38;5;124m\"\u001b[39m\u001b[38;5;124mthe total salary is:\u001b[39m\u001b[38;5;124m\"\u001b[39m\u001b[38;5;241m.\u001b[39mtotal_salary)\n",
      "\u001b[1;31mAttributeError\u001b[0m: 'str' object has no attribute 'total_salary'"
     ]
    }
   ],
   "source": [
    "def salary():\n",
    "    base_salary=eval(input(\"enter base salary:\"))\n",
    "    DA_amount=eval(input(\"enter DA Amount:\"))\n",
    "    total_salary=base_salary+DA_amountA\n",
    "    print(\"the total salary is:\".total_salary)"
   ]
  },
  {
   "cell_type": "code",
   "execution_count": 4,
   "id": "6f18c1ad",
   "metadata": {},
   "outputs": [
    {
     "name": "stdout",
     "output_type": "stream",
     "text": [
      "enter base salary5000\n",
      "enter DA Amount1000\n"
     ]
    },
    {
     "ename": "AttributeError",
     "evalue": "'str' object has no attribute 'total_salary'",
     "output_type": "error",
     "traceback": [
      "\u001b[1;31m---------------------------------------------------------------------------\u001b[0m",
      "\u001b[1;31mAttributeError\u001b[0m                            Traceback (most recent call last)",
      "Cell \u001b[1;32mIn[4], line 1\u001b[0m\n\u001b[1;32m----> 1\u001b[0m salary()\n",
      "Cell \u001b[1;32mIn[3], line 5\u001b[0m, in \u001b[0;36msalary\u001b[1;34m()\u001b[0m\n\u001b[0;32m      3\u001b[0m DA_amount\u001b[38;5;241m=\u001b[39m\u001b[38;5;28meval\u001b[39m(\u001b[38;5;28minput\u001b[39m(\u001b[38;5;124m\"\u001b[39m\u001b[38;5;124menter DA Amount\u001b[39m\u001b[38;5;124m\"\u001b[39m))\n\u001b[0;32m      4\u001b[0m total_salary\u001b[38;5;241m=\u001b[39mbase_salary\u001b[38;5;241m+\u001b[39mDA_amount\n\u001b[1;32m----> 5\u001b[0m \u001b[38;5;28mprint\u001b[39m(\u001b[38;5;124m\"\u001b[39m\u001b[38;5;124mthe total salary is:\u001b[39m\u001b[38;5;124m\"\u001b[39m\u001b[38;5;241m.\u001b[39mtotal_salary)\n",
      "\u001b[1;31mAttributeError\u001b[0m: 'str' object has no attribute 'total_salary'"
     ]
    }
   ],
   "source": [
    "salary()"
   ]
  },
  {
   "cell_type": "code",
   "execution_count": 3,
   "id": "e0886fc8",
   "metadata": {},
   "outputs": [
    {
     "name": "stdout",
     "output_type": "stream",
     "text": [
      "enter gender:male\n",
      "enter age:5\n",
      "he is man\n"
     ]
    }
   ],
   "source": [
    "gender=input(\"enter gender:\")\n",
    "if gender==\"male\":\n",
    "    age=eval(input(\"enter age:\"))\n",
    "    if age>=5:\n",
    "        print(\"he is man\")\n",
    "    else:\n",
    "        print(\"he is boy\")\n",
    "        \n",
    "if gender==\"female\":\n",
    "    age=eval(input(\"enter age:\"))\n",
    "    if age>=5:\n",
    "        print(\"she is women\")\n",
    "    else:\n",
    "        print(\"she is girl\")\n",
    "        "
   ]
  },
  {
   "cell_type": "code",
   "execution_count": 5,
   "id": "528a57d0",
   "metadata": {},
   "outputs": [
    {
     "name": "stdout",
     "output_type": "stream",
     "text": [
      "Enter the first number: 20\n",
      "Enter the Second number: 70\n",
      "Enter the third number: 50\n",
      "70 is greatest\n"
     ]
    }
   ],
   "source": [
    "n1 = eval(input(\"Enter the first number: \"))\n",
    "n2 = eval(input(\"Enter the Second number: \"))\n",
    "n3 = eval(input(\"Enter the third number: \"))\n",
    "if n1>n2 and n1>n3:\n",
    "    print(\"{} is greatest\".format(n1))\n",
    "elif n2>n3:\n",
    "    print(\"{} is greatest\".format(n2))\n",
    "else:\n",
    "    print(\"{} is greatest\".format(n3))"
   ]
  },
  {
   "cell_type": "code",
   "execution_count": 8,
   "id": "5b36c445",
   "metadata": {},
   "outputs": [
    {
     "name": "stdout",
     "output_type": "stream",
     "text": [
      "enter the distance in km:15\n",
      "100rs\n"
     ]
    }
   ],
   "source": [
    "distance=eval(input(\"enter the distance in km:\"))\n",
    "if distance>=6:\n",
    "    print(\"100rs\")\n",
    "elif distance>=4:\n",
    "    print(\"the fare between 4 to 6 is 6okm\")\n",
    "elif distance>=2:\n",
    "    print(\"the fare between 2 to 4km is 40rs\")\n",
    "else:\n",
    "    print(\"the fare less than 2km is 20rs\")"
   ]
  },
  {
   "cell_type": "code",
   "execution_count": 10,
   "id": "0b2b398d",
   "metadata": {},
   "outputs": [
    {
     "name": "stdout",
     "output_type": "stream",
     "text": [
      "enter the distance in km:100\n",
      "the fare between 0 to 2 km is 20rs\n"
     ]
    }
   ],
   "source": [
    "distance=eval(input(\"enter the distance in km:\"))\n",
    "if distance>=2:\n",
    "    print(\"the fare between 0 to 2 km is 20rs\")\n",
    "elif distance>=4:\n",
    "    print(\"the fare between 2 to 4 km is 4ors\")\n",
    "elif distance>6:\n",
    "    print(\"the fare between 4 to 6 km is 60rs\")\n",
    "else:\n",
    "     print(\"the fare is morethan 6 km is 100rs\")"
   ]
  },
  {
   "cell_type": "code",
   "execution_count": null,
   "id": "79d8bfc4",
   "metadata": {},
   "outputs": [],
   "source": [
    "try:\n",
    "    distance=eval(input(\"enter a nuber:\"))\n",
    "    if distance>=2:\n",
    "        print(\"the fare between 0 to 2km is 20rs:\")\n",
    "    elif distance>=4:\n",
    "        print(\"the fare between 2to 4 km is 40rs:\")\n",
    "    elif distance>"
   ]
  },
  {
   "cell_type": "code",
   "execution_count": null,
   "id": "30d11304",
   "metadata": {},
   "outputs": [],
   "source": [
    "def divide_numbers(a, b):\n",
    "    try:\n",
    "        result = a / b\n",
    "        return result\n",
    "    except ZeroDivisionError:\n",
    "        return \"Error: Division by zero is not allowed.\"\n",
    "\n",
    "# You can call this function like this:\n",
    "result = divide_numbers(10, 2)\n",
    "print(result)  # This will print 5\n",
    "\n",
    "result = divide_numbers(5, 0)\n",
    "print(result)  # This will print \"Error: Division by zero is not allowed.\"\n"
   ]
  }
 ],
 "metadata": {
  "kernelspec": {
   "display_name": "Python 3 (ipykernel)",
   "language": "python",
   "name": "python3"
  },
  "language_info": {
   "codemirror_mode": {
    "name": "ipython",
    "version": 3
   },
   "file_extension": ".py",
   "mimetype": "text/x-python",
   "name": "python",
   "nbconvert_exporter": "python",
   "pygments_lexer": "ipython3",
   "version": "3.11.5"
  }
 },
 "nbformat": 4,
 "nbformat_minor": 5
}
