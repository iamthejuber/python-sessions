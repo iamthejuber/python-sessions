{
 "cells": [
  {
   "cell_type": "code",
   "execution_count": 1,
   "id": "55f4985a",
   "metadata": {},
   "outputs": [],
   "source": [
    "def with_out_argument():\n",
    "    try:\n",
    "        number=eval(input(\"enter a number:\"))\n",
    "        square=number**2\n",
    "        print(\"the number of {} is {}\".format(number,square))\n",
    "    except Exception as e:\n",
    "        print(e)"
   ]
  },
  {
   "cell_type": "code",
   "execution_count": 4,
   "id": "2b652f65",
   "metadata": {},
   "outputs": [
    {
     "name": "stdout",
     "output_type": "stream",
     "text": [
      "enter a number:5\n",
      "the number of 5 is 25\n"
     ]
    }
   ],
   "source": [
    "with_out_argument()"
   ]
  },
  {
   "cell_type": "code",
   "execution_count": 5,
   "id": "48fedc02",
   "metadata": {},
   "outputs": [],
   "source": [
    "def with_argument(a,b):\n",
    "    try:\n",
    "        number=eval(input(\"enter a number:\"))\n",
    "        n2=2*number\n",
    "        n3=3*number\n",
    "        n4=4*number\n",
    "        n5=5*number\n",
    "        print(number,n2,n3,n4,n5)\n",
    "    except Exception as e:\n",
    "        print(e)"
   ]
  },
  {
   "cell_type": "code",
   "execution_count": 7,
   "id": "48b9b8b9",
   "metadata": {},
   "outputs": [
    {
     "name": "stdout",
     "output_type": "stream",
     "text": [
      "enter a number:7\n",
      "7 14 21 28 35\n"
     ]
    }
   ],
   "source": [
    "with_argument(10,20)"
   ]
  },
  {
   "cell_type": "code",
   "execution_count": 8,
   "id": "0847cc57",
   "metadata": {},
   "outputs": [],
   "source": [
    "def default(weight,pound=2.2):\n",
    "    try:\n",
    "        weight=eval(input(\"enter your weight:\"))\n",
    "        pounds=2.2\n",
    "        weight_in_pounds=weight*2.2\n",
    "        print('weight_in_pounds is:{}'.format(weight_in_pounds))\n",
    "    except Exception as e:\n",
    "        print(e)"
   ]
  },
  {
   "cell_type": "code",
   "execution_count": 9,
   "id": "f3d9c635",
   "metadata": {},
   "outputs": [
    {
     "name": "stdout",
     "output_type": "stream",
     "text": [
      "enter your weight:70\n",
      "weight_in_pounds is:154.0\n"
     ]
    }
   ],
   "source": [
    "default(70)"
   ]
  },
  {
   "cell_type": "code",
   "execution_count": 10,
   "id": "81cfd475",
   "metadata": {},
   "outputs": [],
   "source": [
    "def return_stetement():\n",
    "    try:\n",
    "        num1=eval(input('enter the first number:'))\n",
    "        num2=eval(input('enter the second number:'))\n",
    "        num3=eval(input('enter the third number:'))\n",
    "        total=num1+num2+num3\n",
    "        average=total/3\n",
    "        print('total:',total)\n",
    "        print('average:',average)\n",
    "        return(total,average)\n",
    "    except Exception as e:\n",
    "        print(e)"
   ]
  },
  {
   "cell_type": "code",
   "execution_count": 13,
   "id": "8b2865c5",
   "metadata": {},
   "outputs": [
    {
     "name": "stdout",
     "output_type": "stream",
     "text": [
      "enter the first number:50\n",
      "enter the second number:70\n",
      "enter the third number:90\n",
      "total: 210\n",
      "average: 70.0\n"
     ]
    }
   ],
   "source": [
    "total,average=return_stetement()"
   ]
  },
  {
   "cell_type": "code",
   "execution_count": 14,
   "id": "2497665e",
   "metadata": {},
   "outputs": [
    {
     "name": "stdout",
     "output_type": "stream",
     "text": [
      "210 70.0\n"
     ]
    }
   ],
   "source": [
    "print(total,average)"
   ]
  },
  {
   "cell_type": "code",
   "execution_count": 15,
   "id": "91f1d931",
   "metadata": {},
   "outputs": [],
   "source": [
    "def add(a,b):\n",
    "    try:\n",
    "        price_of_meal=eval(input('enter the price of meal:'))\n",
    "        tip=eval(input('enter the tip:'))\n",
    "        total_amount=(price_of_meal+price_of_meal*tip/100)\n",
    "        print(total_amount)\n",
    "        return(price_of_meal,tip,total_amount)\n",
    "    except Exception as e:\n",
    "        print(e)\n",
    "    "
   ]
  },
  {
   "cell_type": "code",
   "execution_count": 18,
   "id": "3b1f204b",
   "metadata": {},
   "outputs": [
    {
     "name": "stdout",
     "output_type": "stream",
     "text": [
      "enter the price of meal:2000\n",
      "enter the tip:100\n",
      "4000.0\n"
     ]
    }
   ],
   "source": [
    "price_of_meal,tip,total_amount=add(20,30)"
   ]
  },
  {
   "cell_type": "code",
   "execution_count": 19,
   "id": "9e03f86f",
   "metadata": {},
   "outputs": [
    {
     "name": "stdout",
     "output_type": "stream",
     "text": [
      "2000 100 4000.0\n"
     ]
    }
   ],
   "source": [
    "print(price_of_meal,tip,total_amount)"
   ]
  },
  {
   "cell_type": "code",
   "execution_count": null,
   "id": "a896b367",
   "metadata": {},
   "outputs": [],
   "source": []
  }
 ],
 "metadata": {
  "kernelspec": {
   "display_name": "Python 3 (ipykernel)",
   "language": "python",
   "name": "python3"
  },
  "language_info": {
   "codemirror_mode": {
    "name": "ipython",
    "version": 3
   },
   "file_extension": ".py",
   "mimetype": "text/x-python",
   "name": "python",
   "nbconvert_exporter": "python",
   "pygments_lexer": "ipython3",
   "version": "3.11.5"
  }
 },
 "nbformat": 4,
 "nbformat_minor": 5
}
