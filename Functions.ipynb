{
 "cells": [
  {
   "cell_type": "code",
   "execution_count": 8,
   "id": "4b2ff28a",
   "metadata": {},
   "outputs": [],
   "source": [
    "def salary():\n",
    "    base_salary=eval(input(\"enter base salary:\"))\n",
    "    DA_amount=eval(input(\"enter DA Amount:\"))\n",
    "    total_salary=base_salary+DA_amount\n",
    "    print(\"the total salary is:\",total_salary)"
   ]
  },
  {
   "cell_type": "code",
   "execution_count": 9,
   "id": "81863b40",
   "metadata": {},
   "outputs": [
    {
     "name": "stdout",
     "output_type": "stream",
     "text": [
      "enter base salary:5000\n",
      "enter DA Amount:500\n",
      "the total salary is: 5500\n"
     ]
    }
   ],
   "source": [
    "salary()"
   ]
  },
  {
   "cell_type": "code",
   "execution_count": null,
   "id": "ebdf3cd6",
   "metadata": {},
   "outputs": [],
   "source": [
    "def Number():\n",
    "    Num1=eval(input(\"enter first Num:\"))\n",
    "    Num2=eval(input(\"enter second Num:\"))\n",
    "    Num3=eval(input(\"enter third Num:\"))\n",
    "    Calculate_average=Num1+Num2+Num3\n",
    "    print(\"the Num Of calculate average is\",Calculate_average)"
   ]
  },
  {
   "cell_type": "markdown",
   "id": "3a95af60",
   "metadata": {},
   "source": [
    "def Number():\n",
    "    Num1=eval(input(\"enter first Num:\"))\n",
    "    Num2=eval(input(\"enter second Num:\"))\n",
    "    Num3=eval(input(\"enter third Num:\"))\n",
    "    Calculate_average=Num1+Num2+Num3\n",
    "    print(\"the Num Of calculate average is\",Calculate_average)"
   ]
  },
  {
   "cell_type": "raw",
   "id": "ca729955",
   "metadata": {},
   "source": []
  },
  {
   "cell_type": "code",
   "execution_count": null,
   "id": "81c63350",
   "metadata": {},
   "outputs": [],
   "source": []
  }
 ],
 "metadata": {
  "kernelspec": {
   "display_name": "Python 3 (ipykernel)",
   "language": "python",
   "name": "python3"
  },
  "language_info": {
   "codemirror_mode": {
    "name": "ipython",
    "version": 3
   },
   "file_extension": ".py",
   "mimetype": "text/x-python",
   "name": "python",
   "nbconvert_exporter": "python",
   "pygments_lexer": "ipython3",
   "version": "3.11.5"
  }
 },
 "nbformat": 4,
 "nbformat_minor": 5
}
