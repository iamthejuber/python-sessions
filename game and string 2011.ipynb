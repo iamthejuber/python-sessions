{
 "cells": [
  {
   "cell_type": "code",
   "execution_count": 1,
   "id": "57fbb20f",
   "metadata": {},
   "outputs": [],
   "source": [
    "import time\n",
    "start=time.time()\n",
    "def game():\n",
    "    i=0\n",
    "    account_balance=200\n",
    "    e_wallet=5000\n",
    "    start=1000\n",
    "    while True:\n",
    "        if account_balance>=start:\n",
    "            print(\" ready to play game\")\n",
    "            break\n",
    "        else:\n",
    "            print(\"you dont have money to play\",\"\")"
   ]
  },
  {
   "cell_type": "code",
   "execution_count": null,
   "id": "029175f5",
   "metadata": {},
   "outputs": [],
   "source": []
  },
  {
   "cell_type": "code",
   "execution_count": 9,
   "id": "f5581680",
   "metadata": {},
   "outputs": [
    {
     "name": "stdout",
     "output_type": "stream",
     "text": [
      "enter a hours:4\n",
      "enter a am(1) and pm(2):1\n",
      "enter a new hours:6\n"
     ]
    }
   ],
   "source": [
    "hours=eval(input(\"enter a hours:\"))\n",
    "choice_am_pm=eval(input(\"enter a am(1) and pm(2):\"))\n",
    "if choice_am_pm!=1 and choice_am_pm!=2:\n",
    "    print(\"invalid\")\n",
    "else:\n",
    "    ahead_hours=eval(input(\"enter a new hours:\"))\n",
    "    new_hours=ahead_hours+hours\n",
    "    if new_hours==1:\n",
    "        if choice_am_pm<12:\n",
    "            print(new_hours,\"am\")\n",
    "        else:\n",
    "            new_hours%12\n",
    "            print(new_hours,\"pm\")\n",
    "        if choice_am_pm==2:\n",
    "            if choice_am_pm<12:\n",
    "                print(new_hours,\"pm\")\n",
    "            else:\n",
    "                new_hours=new_hours%12\n",
    "                print(new_hours,\"am\")\n",
    "                "
   ]
  },
  {
   "cell_type": "code",
   "execution_count": 11,
   "id": "db93e7b2",
   "metadata": {},
   "outputs": [
    {
     "name": "stdout",
     "output_type": "stream",
     "text": [
      "Not Weird\n"
     ]
    }
   ],
   "source": [
    "n = 24\n",
    "if n%2!=0:\n",
    "    print(\"Weird\")\n",
    "else:\n",
    "    if n in range(2,5):\n",
    "        print(\"Not Weird\")\n",
    "    elif n in range(6,20):\n",
    "        print(\"Weird\")\n",
    "    else:\n",
    "        print(\"Not Weird\")"
   ]
  },
  {
   "cell_type": "code",
   "execution_count": null,
   "id": "c1459717",
   "metadata": {},
   "outputs": [],
   "source": [
    "1. Write a Python program to calculate the length of a string."
   ]
  },
  {
   "cell_type": "code",
   "execution_count": 8,
   "id": "b16e563d",
   "metadata": {},
   "outputs": [
    {
     "name": "stdout",
     "output_type": "stream",
     "text": [
      "9\n"
     ]
    }
   ],
   "source": [
    "string='hey anmol'\n",
    "print(len(string))"
   ]
  },
  {
   "cell_type": "code",
   "execution_count": null,
   "id": "b8948b46",
   "metadata": {},
   "outputs": [],
   "source": [
    "2. Write a Python program to count the number of characters\n",
    "(character frequency) in a string.\n",
    "Sample String : google.com'\n",
    "Expected Result : {'g': 2, 'o': 3, 'l': 1, 'e': 1, '.': 1, 'c': 1, 'm': 1}"
   ]
  },
  {
   "cell_type": "code",
   "execution_count": 14,
   "id": "b31e5592",
   "metadata": {},
   "outputs": [
    {
     "name": "stdout",
     "output_type": "stream",
     "text": [
      "{'g': 2, 'o': 3, 'l': 1, 'e': 1, '.': 1, 'c': 1, 'm': 1}\n"
     ]
    }
   ],
   "source": [
    "string1='google.com'\n",
    "count = {}\n",
    "for i in string1:\n",
    "    if i in count:\n",
    "        count[i]=count[i]+1\n",
    "    else:\n",
    "        count[i]= 1\n",
    "print(count)  "
   ]
  },
  {
   "cell_type": "code",
   "execution_count": null,
   "id": "21ee5e0b",
   "metadata": {},
   "outputs": [],
   "source": [
    "3. Write a Python program to get a string made of the \n",
    "first 2 and last 2 characters of a given string. \n",
    "If the string length is less than 2, return the empty string instead.\n",
    "Sample String : 'w3resource'\n",
    "Expected Result : 'w3ce'\n",
    "Sample String : 'w3'\n",
    "Expected Result : 'w3w3'\n",
    "Sample String : ' w'\n",
    "Expected Result : Empty String"
   ]
  },
  {
   "cell_type": "code",
   "execution_count": 43,
   "id": "dc61033e",
   "metadata": {},
   "outputs": [
    {
     "name": "stdout",
     "output_type": "stream",
     "text": [
      "w3ce\n"
     ]
    }
   ],
   "source": [
    "string2='w3resource'\n",
    "#for i in string2:\n",
    "    #if (len(i))<2:\n",
    "print(string2[:2]+string2[-2:])\n",
    "    #else:\n",
    "        #print('epmty string')"
   ]
  },
  {
   "cell_type": "code",
   "execution_count": 49,
   "id": "e414bf9c",
   "metadata": {},
   "outputs": [
    {
     "name": "stdout",
     "output_type": "stream",
     "text": [
      "w3w3\n"
     ]
    }
   ],
   "source": [
    "string3='w3'\n",
    "print(string3+string3)"
   ]
  },
  {
   "cell_type": "code",
   "execution_count": 54,
   "id": "e7bc8e59",
   "metadata": {},
   "outputs": [
    {
     "name": "stdout",
     "output_type": "stream",
     "text": [
      "empty string\n"
     ]
    }
   ],
   "source": [
    "string4='w'\n",
    "print('empty string')"
   ]
  },
  {
   "cell_type": "code",
   "execution_count": null,
   "id": "ac356839",
   "metadata": {},
   "outputs": [],
   "source": [
    "4. Write a Python program to get a string from\n",
    "a given string where all occurrences of its first char \n",
    "have been changed to '$', except the first char itself.\n",
    "Sample String : 'restart'\n",
    "Expected Result : 'resta$t'"
   ]
  },
  {
   "cell_type": "code",
   "execution_count": 65,
   "id": "58baf9c1",
   "metadata": {},
   "outputs": [
    {
     "data": {
      "text/plain": [
       "'$estart'"
      ]
     },
     "execution_count": 65,
     "metadata": {},
     "output_type": "execute_result"
    }
   ],
   "source": [
    "string5='restart'\n",
    "string5.replace('r','$',1)"
   ]
  },
  {
   "cell_type": "code",
   "execution_count": null,
   "id": "6a0fc5ba",
   "metadata": {},
   "outputs": [],
   "source": [
    "5. Write a Python program to get a single string \n",
    "from two given strings, separated by a space and \n",
    "swap the first two characters of each string.\n",
    "Sample String : 'abc', 'xyz'\n",
    "Expected Result : 'xyc abz'"
   ]
  },
  {
   "cell_type": "code",
   "execution_count": 74,
   "id": "c26ba27e",
   "metadata": {},
   "outputs": [
    {
     "name": "stdout",
     "output_type": "stream",
     "text": [
      "abz xyc\n"
     ]
    }
   ],
   "source": [
    "a ='abc'\n",
    "b ='xyz'\n",
    "c = a[:-1]+b[-1]\n",
    "b = \" \"+b[:-1]+a[-1]\n",
    "print(c+b)"
   ]
  },
  {
   "cell_type": "code",
   "execution_count": null,
   "id": "f03549fa",
   "metadata": {},
   "outputs": [],
   "source": [
    "6. Write a Python program to add 'ing' at \n",
    "the end of a given string (length should be at least 3).\n",
    "If the given string already ends with 'ing', add 'ly' instead.\n",
    "If the string length of the given string is less than 3, \n",
    "leave it unchanged.\n",
    "Sample String : 'abc'\n",
    "Expected Result : 'abcing'\n",
    "Sample String : 'string'\n",
    "Expected Result : 'stringly'"
   ]
  },
  {
   "cell_type": "code",
   "execution_count": 76,
   "id": "421c2b70",
   "metadata": {},
   "outputs": [
    {
     "name": "stdout",
     "output_type": "stream",
     "text": [
      "abcing\n",
      "stringly\n"
     ]
    }
   ],
   "source": [
    "str1='abc'\n",
    "print(str1+'ing')\n",
    "str2='string'\n",
    "print(str2+'ly')"
   ]
  },
  {
   "cell_type": "code",
   "execution_count": null,
   "id": "ab6963cd",
   "metadata": {},
   "outputs": [],
   "source": [
    "7. Write a Python program to find the first appearance \n",
    "of the substrings 'not' and 'poor' in a given string. \n",
    "If 'not' follows 'poor', replace the whole 'not'...'poor' \n",
    "substring with 'good'. Return the resulting string.\n",
    "Sample String : 'The lyrics is not that poor!'\n",
    "'The lyrics is poor!'\n",
    "Expected Result : 'The lyrics is good!'\n",
    "'The lyrics is poor!'"
   ]
  },
  {
   "cell_type": "code",
   "execution_count": 85,
   "id": "cde22250",
   "metadata": {},
   "outputs": [
    {
     "data": {
      "text/plain": [
       "'The lyrics is good!The lyrics is poor!'"
      ]
     },
     "execution_count": 85,
     "metadata": {},
     "output_type": "execute_result"
    }
   ],
   "source": [
    "a='The lyrics is not that poor!''The lyrics is poor!'\n",
    "a.replace('not that poor','good')"
   ]
  },
  {
   "cell_type": "code",
   "execution_count": null,
   "id": "a804c1e6",
   "metadata": {},
   "outputs": [],
   "source": [
    "8. Write a Python function that takes a list of \n",
    "words and return the longest word and the length of the longest one.\n",
    "Sample Output:\n",
    "Longest word: Exercises\n",
    "Length of the longest word: 9"
   ]
  },
  {
   "cell_type": "code",
   "execution_count": 130,
   "id": "b223b8b2",
   "metadata": {},
   "outputs": [
    {
     "name": "stdout",
     "output_type": "stream",
     "text": [
      "8\n"
     ]
    }
   ],
   "source": [
    "w=['juber','jakirr','pathannn']\n",
    "#print(len(w))\n",
    "l = []\n",
    "for i in w:\n",
    "    l.append(len(i))\n",
    "\n",
    "print(max(l))"
   ]
  },
  {
   "cell_type": "code",
   "execution_count": 205,
   "id": "98df97da",
   "metadata": {},
   "outputs": [
    {
     "name": "stdout",
     "output_type": "stream",
     "text": [
      "['juber', 'jakirr', 'pathannn']\n"
     ]
    },
    {
     "data": {
      "text/plain": [
       "'pathannn'"
      ]
     },
     "execution_count": 205,
     "metadata": {},
     "output_type": "execute_result"
    }
   ],
   "source": [
    "w=['juber','jakirr','pathannn']\n",
    "print(w)\n",
    "#print(len(w))\n",
    "max(w)"
   ]
  },
  {
   "cell_type": "code",
   "execution_count": null,
   "id": "355d7038",
   "metadata": {},
   "outputs": [],
   "source": [
    "9. Write a Python program to remove the nth \n",
    "index character from a nonempty string."
   ]
  },
  {
   "cell_type": "code",
   "execution_count": 117,
   "id": "8c90ecbf",
   "metadata": {},
   "outputs": [],
   "source": [
    "a='python'\n",
    "b = list(a)\n",
    "#print(list(a))"
   ]
  },
  {
   "cell_type": "code",
   "execution_count": 118,
   "id": "813a3e76",
   "metadata": {},
   "outputs": [
    {
     "data": {
      "text/plain": [
       "['p', 'y', 't', 'h', 'o', 'n']"
      ]
     },
     "execution_count": 118,
     "metadata": {},
     "output_type": "execute_result"
    }
   ],
   "source": [
    "b"
   ]
  },
  {
   "cell_type": "code",
   "execution_count": 119,
   "id": "414968ac",
   "metadata": {},
   "outputs": [],
   "source": [
    "del b[2]"
   ]
  },
  {
   "cell_type": "code",
   "execution_count": 120,
   "id": "21e0c094",
   "metadata": {},
   "outputs": [
    {
     "data": {
      "text/plain": [
       "['p', 'y', 'h', 'o', 'n']"
      ]
     },
     "execution_count": 120,
     "metadata": {},
     "output_type": "execute_result"
    }
   ],
   "source": [
    "b"
   ]
  },
  {
   "cell_type": "code",
   "execution_count": 121,
   "id": "0e85236b",
   "metadata": {
    "scrolled": true
   },
   "outputs": [
    {
     "data": {
      "text/plain": [
       "'pyhon'"
      ]
     },
     "execution_count": 121,
     "metadata": {},
     "output_type": "execute_result"
    }
   ],
   "source": [
    "''.join(b)"
   ]
  },
  {
   "cell_type": "code",
   "execution_count": null,
   "id": "eaaea543",
   "metadata": {},
   "outputs": [],
   "source": [
    "10. Write a Python program to change a given string \n",
    "to a newly string where the first and \n",
    "last chars have been exchanged."
   ]
  },
  {
   "cell_type": "code",
   "execution_count": 186,
   "id": "3508367b",
   "metadata": {},
   "outputs": [],
   "source": [
    "a='python'"
   ]
  },
  {
   "cell_type": "code",
   "execution_count": 187,
   "id": "0b61c2e2",
   "metadata": {},
   "outputs": [
    {
     "data": {
      "text/plain": [
       "'python'"
      ]
     },
     "execution_count": 187,
     "metadata": {},
     "output_type": "execute_result"
    }
   ],
   "source": [
    "a"
   ]
  },
  {
   "cell_type": "code",
   "execution_count": 188,
   "id": "ba3cb993",
   "metadata": {},
   "outputs": [
    {
     "data": {
      "text/plain": [
       "'pythoo'"
      ]
     },
     "execution_count": 188,
     "metadata": {},
     "output_type": "execute_result"
    }
   ],
   "source": [
    "a.replace('n','o')"
   ]
  },
  {
   "cell_type": "code",
   "execution_count": 192,
   "id": "b67a89b6",
   "metadata": {},
   "outputs": [
    {
     "name": "stdout",
     "output_type": "stream",
     "text": [
      "id 101\n",
      "roll 7736\n"
     ]
    }
   ],
   "source": [
    "def ashok(a):\n",
    "    for i in a:\n",
    "        print(i,a[i])\n",
    "        \n",
    "ashok({'id':101,'roll':7736})\n",
    "    "
   ]
  },
  {
   "cell_type": "code",
   "execution_count": null,
   "id": "e808476d",
   "metadata": {},
   "outputs": [],
   "source": [
    "11. Write a Python program to remove characters that have \n",
    "odd index values in a given string."
   ]
  },
  {
   "cell_type": "code",
   "execution_count": 215,
   "id": "ce2306fe",
   "metadata": {},
   "outputs": [
    {
     "name": "stdout",
     "output_type": "stream",
     "text": [
      "j\n",
      "b\n",
      "r\n"
     ]
    }
   ],
   "source": [
    "string='juber'\n",
    "for i in range (len(string)):\n",
    "    if i%2==0:\n",
    "        print(string[i])"
   ]
  },
  {
   "cell_type": "code",
   "execution_count": null,
   "id": "b2a45e7f",
   "metadata": {},
   "outputs": [],
   "source": []
  },
  {
   "cell_type": "code",
   "execution_count": null,
   "id": "190e4f31",
   "metadata": {},
   "outputs": [],
   "source": []
  },
  {
   "cell_type": "code",
   "execution_count": null,
   "id": "63b1887b",
   "metadata": {},
   "outputs": [],
   "source": []
  }
 ],
 "metadata": {
  "kernelspec": {
   "display_name": "Python 3 (ipykernel)",
   "language": "python",
   "name": "python3"
  },
  "language_info": {
   "codemirror_mode": {
    "name": "ipython",
    "version": 3
   },
   "file_extension": ".py",
   "mimetype": "text/x-python",
   "name": "python",
   "nbconvert_exporter": "python",
   "pygments_lexer": "ipython3",
   "version": "3.11.5"
  }
 },
 "nbformat": 4,
 "nbformat_minor": 5
}
