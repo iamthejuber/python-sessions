{
 "cells": [
  {
   "cell_type": "markdown",
   "id": "a0507da4",
   "metadata": {},
   "source": [
    "## Assignment: Strings"
   ]
  },
  {
   "cell_type": "markdown",
   "id": "b348d3f3",
   "metadata": {},
   "source": [
    "- 1. Write a program that asks the user to enter a string. The program should then print the following:\n",
    "- (a) The total number of characters in the string\n",
    "- (b) The string repeated 10 times\n",
    "- (c) The first character of the string (remember that string indices start at 0) \n",
    "- (d) The first three\n",
    " characters of the string\n",
    "- (e) The last three characters of the string\n",
    "- (f) The string backwards\n",
    "- (g) The seventh character of the string if the string is long enough and a message otherwise\n",
    "- (h) The string with its first and last characters removed\n",
    "- (i) The string in all caps\n",
    "- (j) The string with every a replaced with an e"
   ]
  },
  {
   "cell_type": "code",
   "execution_count": 23,
   "id": "03108b76",
   "metadata": {},
   "outputs": [
    {
     "name": "stdout",
     "output_type": "stream",
     "text": [
      "enter a string:AssalamuAlaikum AmmiJaan\n",
      "24\n"
     ]
    }
   ],
   "source": [
    "#A)\n",
    "string1=input('enter a string:')\n",
    "print(len(string1))"
   ]
  },
  {
   "cell_type": "code",
   "execution_count": 27,
   "id": "951c140c",
   "metadata": {},
   "outputs": [
    {
     "name": "stdout",
     "output_type": "stream",
     "text": [
      "AssalamuAlaikum AmmiJaanAssalamuAlaikum AmmiJaanAssalamuAlaikum AmmiJaanAssalamuAlaikum AmmiJaanAssalamuAlaikum AmmiJaanAssalamuAlaikum AmmiJaanAssalamuAlaikum AmmiJaanAssalamuAlaikum AmmiJaanAssalamuAlaikum AmmiJaanAssalamuAlaikum AmmiJaan\n"
     ]
    }
   ],
   "source": [
    "#B)\n",
    "print(string1*10)\n"
   ]
  },
  {
   "cell_type": "code",
   "execution_count": 28,
   "id": "9a3ee1d5",
   "metadata": {},
   "outputs": [
    {
     "name": "stdout",
     "output_type": "stream",
     "text": [
      "A\n"
     ]
    }
   ],
   "source": [
    "#C)\n",
    "print(string1[0])"
   ]
  },
  {
   "cell_type": "code",
   "execution_count": 29,
   "id": "5e61b477",
   "metadata": {},
   "outputs": [
    {
     "name": "stdout",
     "output_type": "stream",
     "text": [
      "Ass\n"
     ]
    }
   ],
   "source": [
    "#D)\n",
    "print(string1[0:3])"
   ]
  },
  {
   "cell_type": "code",
   "execution_count": 32,
   "id": "9f250125",
   "metadata": {},
   "outputs": [
    {
     "name": "stdout",
     "output_type": "stream",
     "text": [
      "aan\n"
     ]
    }
   ],
   "source": [
    "#E) \n",
    "print(string1[-3:])"
   ]
  },
  {
   "cell_type": "code",
   "execution_count": 164,
   "id": "dd8a9f69",
   "metadata": {},
   "outputs": [
    {
     "data": {
      "text/plain": [
       "'rebuJ'"
      ]
     },
     "execution_count": 164,
     "metadata": {},
     "output_type": "execute_result"
    }
   ],
   "source": [
    "#F)\n",
    "string1[::-1]"
   ]
  },
  {
   "cell_type": "code",
   "execution_count": 45,
   "id": "dab9d742",
   "metadata": {},
   "outputs": [
    {
     "name": "stdout",
     "output_type": "stream",
     "text": [
      "the index is not long enogh\n"
     ]
    }
   ],
   "source": [
    "#G)\n",
    "try:\n",
    "    string1[7]\n",
    "except Exception as e:\n",
    "    print('the index is not long enogh')"
   ]
  },
  {
   "cell_type": "code",
   "execution_count": 48,
   "id": "bc92ef81",
   "metadata": {},
   "outputs": [
    {
     "data": {
      "text/plain": [
       "'juber'"
      ]
     },
     "execution_count": 48,
     "metadata": {},
     "output_type": "execute_result"
    }
   ],
   "source": [
    "#H)\n",
    "string1"
   ]
  },
  {
   "cell_type": "code",
   "execution_count": 49,
   "id": "0a8c38b8",
   "metadata": {},
   "outputs": [
    {
     "data": {
      "text/plain": [
       "'JUBER'"
      ]
     },
     "execution_count": 49,
     "metadata": {},
     "output_type": "execute_result"
    }
   ],
   "source": [
    "#I)\n",
    "string1.upper()"
   ]
  },
  {
   "cell_type": "code",
   "execution_count": 53,
   "id": "73daf3c4",
   "metadata": {},
   "outputs": [
    {
     "data": {
      "text/plain": [
       "'Juber'"
      ]
     },
     "execution_count": 53,
     "metadata": {},
     "output_type": "execute_result"
    }
   ],
   "source": [
    "#J)\n",
    "string1.replace('j','J')"
   ]
  },
  {
   "cell_type": "markdown",
   "id": "afac18ea",
   "metadata": {},
   "source": [
    "- 2. A simple way to estimate the number of words in a string is to count the number of spaces in the\n",
    "- string. Write a program that asks the user for a string and returns an estimate of how many words\n",
    "are in the string.\n",
    "- Tip: You need to count the number of words using spaces"
   ]
  },
  {
   "cell_type": "code",
   "execution_count": 146,
   "id": "6b5e70a4",
   "metadata": {},
   "outputs": [
    {
     "name": "stdout",
     "output_type": "stream",
     "text": [
      "enter a word:Assalamu Alaikum Ammi Jaan\n",
      "3\n",
      "number of count: 4\n",
      "['Assalamu', 'Alaikum', 'Ammi', 'Jaan']\n"
     ]
    }
   ],
   "source": [
    "'''string=input('Enter a word:')\n",
    "count=0\n",
    "for i in string:\n",
    "    if i==\" \":\n",
    "        count+=1\n",
    "print(\"estimate number of spaces:\",count)\n",
    "print(\"word in string:\",count)'''\n",
    "\n",
    "word=input('enter a word:')\n",
    "print(word.count(' '))\n",
    "word_spaces=word.split()\n",
    "print('number of count:',len(word_spaces))\n",
    "print(word_spaces)"
   ]
  },
  {
   "cell_type": "markdown",
   "id": "68e800d8",
   "metadata": {},
   "source": [
    "- 3.Write a program that asks the user to enter a word and prints out whether that word contains any\n",
    "vowels."
   ]
  },
  {
   "cell_type": "code",
   "execution_count": 148,
   "id": "90d353b2",
   "metadata": {},
   "outputs": [
    {
     "name": "stdout",
     "output_type": "stream",
     "text": [
      "enter a word:juber\n",
      "number of vowels: 2\n"
     ]
    }
   ],
   "source": [
    "word=input(\"enter a word:\")\n",
    "count=0\n",
    "for i in word:\n",
    "    if i in 'aeiou':\n",
    "        count=count+1\n",
    "print(\"number of vowels:\",count)"
   ]
  },
  {
   "cell_type": "markdown",
   "id": "e075fc7a",
   "metadata": {},
   "source": [
    "- 4. Improvise above code by providing unique vowels"
   ]
  },
  {
   "cell_type": "code",
   "execution_count": 157,
   "id": "80d6e451",
   "metadata": {},
   "outputs": [
    {
     "name": "stdout",
     "output_type": "stream",
     "text": [
      "enter a word:Assalamu Alaikum Ammi Jaan And Abbu Jaan\n",
      "the unique vowels are: aui\n"
     ]
    }
   ],
   "source": [
    "string=\"\"\n",
    "word=input(\"enter a word:\")\n",
    "for i in range(len(word)):\n",
    "    if word[i] in 'aeiou':\n",
    "        if word[i] not in string:\n",
    "            string=string+word[i]\n",
    "print(\"the unique vowels are:\",string)"
   ]
  },
  {
   "cell_type": "markdown",
   "id": "1226d471",
   "metadata": {},
   "source": [
    "- 5. Write a program that asks the user to enter a string. The program should create a new string\n",
    "called new_string from the user’s string such that the second character is changed to an asterisk and\n",
    "three exclamation points are attached to the end of the string. Finally, print new_string.\n",
    "- Typical output is shown below:\n",
    "- Enter your string: Qbert\n",
    "- Output: Q*ert!!!"
   ]
  },
  {
   "cell_type": "code",
   "execution_count": 66,
   "id": "c6b20cc0",
   "metadata": {},
   "outputs": [
    {
     "name": "stdout",
     "output_type": "stream",
     "text": [
      "enter a string:Qbert\n"
     ]
    },
    {
     "data": {
      "text/plain": [
       "'Q*ert!!!'"
      ]
     },
     "execution_count": 66,
     "metadata": {},
     "output_type": "execute_result"
    }
   ],
   "source": [
    "string=input('enter a string:')\n",
    "new_string=[]\n",
    "new_string.extend(string[:1]+'*'+string[2:]+'!!!')\n",
    "new_string\n",
    "''.join(new_string)"
   ]
  },
  {
   "cell_type": "markdown",
   "id": "ef1cae0e",
   "metadata": {},
   "source": [
    "- 6. Write a program that asks the user to enter a word and determines whether the word is a\n",
    "palindrome or not. A palindrome is a word that reads the same backwards as forwards"
   ]
  },
  {
   "cell_type": "code",
   "execution_count": 111,
   "id": "c68c1c4f",
   "metadata": {},
   "outputs": [
    {
     "name": "stdout",
     "output_type": "stream",
     "text": [
      "enter a word and determines:palindrome\n"
     ]
    },
    {
     "data": {
      "text/plain": [
       "'emordnilap'"
      ]
     },
     "execution_count": 111,
     "metadata": {},
     "output_type": "execute_result"
    }
   ],
   "source": [
    "word=input('enter a word and determines:')\n",
    "word[::-1]"
   ]
  },
  {
   "cell_type": "markdown",
   "id": "9668fa71",
   "metadata": {},
   "source": [
    "- 7. At a certain school, student email addresses end with @student.college.edu, while professor\n",
    "email addresses end with @prof.college.edu. Write a program that first asks the user how many\n",
    "email addresses they will be entering, and then has the user enter those addresses. After all the\n",
    "email addresses are entered, the program should print out a message indicating either that all the\n",
    "addresses are student addresses or that there were some professor addresses entered."
   ]
  },
  {
   "cell_type": "code",
   "execution_count": 123,
   "id": "e4c8bb97",
   "metadata": {},
   "outputs": [
    {
     "name": "stdout",
     "output_type": "stream",
     "text": [
      "how many email enter:2\n",
      "email addresses:@student.college.edu\n",
      "email addresses:@prof.college.edu.\n",
      "1\n",
      "1\n"
     ]
    }
   ],
   "source": [
    "no_email=eval(input('how many email enter:'))\n",
    "std=0\n",
    "pro=0\n",
    "for i in range(no_email):\n",
    "    email=input('email addresses:'.format(i+1))\n",
    "    if email.endswith('@student.college.edu'):\n",
    "        std=std+1\n",
    "    elif email.endswith('@prof.college.edu.'):\n",
    "        pro=pro+1\n",
    "print(std)\n",
    "print(pro)\n",
    "if no_email==std:\n",
    "    print('all std emails:')\n",
    "elif no_email==pro:\n",
    "    print('all pro emails:')\n",
    "else:\n",
    "    ('some std emails and some pro emails')"
   ]
  },
  {
   "cell_type": "markdown",
   "id": "5b90bce2",
   "metadata": {},
   "source": [
    "8. Write a program that asks the user to enter a string, then prints out each letter of the string\n",
    "doubled and on a separate line. For instance,\n",
    "- if the user entered HEY,\n",
    "- the output would be\n",
    "- HH\n",
    "- EE\n",
    "- YY"
   ]
  },
  {
   "cell_type": "code",
   "execution_count": 67,
   "id": "ce8ba8e6",
   "metadata": {},
   "outputs": [
    {
     "name": "stdout",
     "output_type": "stream",
     "text": [
      "enter a string:HEY\n",
      "HEY\n",
      "HH\n",
      "EE\n",
      "YY\n"
     ]
    }
   ],
   "source": [
    "string=input('enter a string:')\n",
    "print(string)\n",
    "for i in string:\n",
    "    print(i*2)"
   ]
  },
  {
   "cell_type": "markdown",
   "id": "9fd4f318",
   "metadata": {},
   "source": [
    "9.Write a program that asks the user to enter a word that contains the letter a. The program should\n",
    "then print the following two lines: On the first line should be the part of the string up to and\n",
    "including the the first a, and on the second line should be the rest of the string.\n",
    "- Sample output is shown below:\n",
    "- Enter a word: buffalo\n",
    "- buffa\n",
    "- lo"
   ]
  },
  {
   "cell_type": "code",
   "execution_count": 134,
   "id": "02751946",
   "metadata": {},
   "outputs": [
    {
     "name": "stdout",
     "output_type": "stream",
     "text": [
      "enter a word:buffalo\n",
      "buffa\n",
      "lo\n"
     ]
    }
   ],
   "source": [
    "word=input('enter a word:')\n",
    "print(word[:word.index('a')+1])\n",
    "print(word[word.index('a')+1:])"
   ]
  },
  {
   "cell_type": "markdown",
   "id": "91128a94",
   "metadata": {},
   "source": [
    "10. Write a program that asks the user to enter a word and then capitalizes every other letter of that\n",
    "word.\n",
    "- So if the user enters rhinoceros,\n",
    "- the program should print rHiNoCeRoS."
   ]
  },
  {
   "cell_type": "code",
   "execution_count": 74,
   "id": "1fd8cfb3",
   "metadata": {},
   "outputs": [
    {
     "name": "stdout",
     "output_type": "stream",
     "text": [
      "enter a word:rhinoceros\n"
     ]
    },
    {
     "data": {
      "text/plain": [
       "'Rhinoceros'"
      ]
     },
     "execution_count": 74,
     "metadata": {},
     "output_type": "execute_result"
    }
   ],
   "source": [
    "word=input('enter a word:')\n",
    "word.capitalize()"
   ]
  },
  {
   "cell_type": "code",
   "execution_count": 170,
   "id": "3b862ffe",
   "metadata": {},
   "outputs": [
    {
     "name": "stdout",
     "output_type": "stream",
     "text": [
      "enter a word:rhinoceros\n",
      "rHiNoCeRoS\n"
     ]
    }
   ],
   "source": [
    "word=input('enter a word:')\n",
    "capitalize=\"\"\n",
    "for i in range(len(word)):\n",
    "    if i%2!=0:\n",
    "        capitalize=capitalize+(word[i].upper())\n",
    "    else:\n",
    "        capitalize=capitalize+word[i]\n",
    "print(capitalize)"
   ]
  },
  {
   "cell_type": "markdown",
   "id": "360d3181",
   "metadata": {},
   "source": [
    "11. Write a program that asks the user to enter two strings of the same length. The program should\n",
    "then check to see if the strings are of the same length. If they are not, the program should print an\n",
    "appropriate message and exit. If they are of the same length, the program should alternate the\n",
    "characters of the two strings. For example,\n",
    "- if the user enters abcde and ABCDE\n",
    "- the program should print out AaBbCcDdEe."
   ]
  },
  {
   "cell_type": "code",
   "execution_count": 176,
   "id": "2ef002cc",
   "metadata": {},
   "outputs": [
    {
     "name": "stdout",
     "output_type": "stream",
     "text": [
      "enter a first string:abcde\n",
      "enter a second string:ABCDE\n",
      "aAbBcCdDeE\n"
     ]
    }
   ],
   "source": [
    "str1=input('enter a first string:')\n",
    "str2=input('enter a second string:')\n",
    "if len(str1)!=len(str2):\n",
    "    print('str1 and str2 not matching')\n",
    "else:\n",
    "    print(''.join([i+j for i,j in zip(str1,str2)]))"
   ]
  },
  {
   "cell_type": "markdown",
   "id": "e5acf897",
   "metadata": {},
   "source": [
    "- 12. Write a program that asks the user to enter their name in lowercase and then capitalizes the first\n",
    "letter of each word of their name."
   ]
  },
  {
   "cell_type": "code",
   "execution_count": 77,
   "id": "88e37fa0",
   "metadata": {},
   "outputs": [
    {
     "name": "stdout",
     "output_type": "stream",
     "text": [
      "enter a name in lowercase:juber khan\n"
     ]
    },
    {
     "data": {
      "text/plain": [
       "'Juber Khan'"
      ]
     },
     "execution_count": 77,
     "metadata": {},
     "output_type": "execute_result"
    }
   ],
   "source": [
    "name=input('enter a name in lowercase:')\n",
    "name.title()"
   ]
  },
  {
   "cell_type": "markdown",
   "id": "aecbc7d8",
   "metadata": {},
   "source": [
    "13. The goal of this exercise is to see if you can mimic the behavior of the in operator and the count\n",
    "and index methods using only variables, for loops, and if statements.\n",
    "- (a) Without using the in operator, write a program that asks the user for a string and a letter\n",
    "and prints out whether or not the letter appears in the string.\n",
    "- (b) Without using the count method, write a program that asks the user for a string and a\n",
    "letter and counts how many occurrences there are of the letter in the string.\n",
    "- (c) Without using the index method, write a program that asks the user for a string and a\n",
    "letter and prints out the index of the first occurrence of the letter in the string. If the letter is\n",
    "not in the string, the program should say so."
   ]
  },
  {
   "cell_type": "code",
   "execution_count": 11,
   "id": "4895aec1",
   "metadata": {},
   "outputs": [
    {
     "name": "stdout",
     "output_type": "stream",
     "text": [
      "Enter a string: hey how are you\n",
      "Enter a letter: 14\n",
      "The letter does not appear in the string: 14\n"
     ]
    }
   ],
   "source": [
    "'''string=input('enter a user for string:')\n",
    "letter=input(\"enter a letter:\")\n",
    "print(string)   \n",
    "len(string)\n",
    "string[0]'''\n",
    "#a\n",
    "string = input(\"Enter a string: \")\n",
    "letter = input(\"Enter a letter: \")\n",
    "found = False\n",
    "for i in string:\n",
    "    if i == letter:\n",
    "        found = True\n",
    "        break\n",
    "if found:\n",
    "    print(\"The letter appears in the string:\",letter)\n",
    "else:\n",
    "    print(\"The letter does not appear in the string:\",letter)\n"
   ]
  },
  {
   "cell_type": "code",
   "execution_count": 12,
   "id": "a0ad4383",
   "metadata": {},
   "outputs": [
    {
     "name": "stdout",
     "output_type": "stream",
     "text": [
      "Enter a string: hey how are you\n",
      "Enter a letter: 7\n",
      "The letter appears times in the string: 0\n"
     ]
    }
   ],
   "source": [
    "#B)\n",
    "string = input(\"Enter a string: \")\n",
    "letter = input(\"Enter a letter: \")\n",
    "\n",
    "count = 0\n",
    "\n",
    "for i in string:\n",
    "    if i == letter:\n",
    "        count += 1\n",
    "\n",
    "print(\"The letter appears times in the string:\",count)\n"
   ]
  },
  {
   "cell_type": "code",
   "execution_count": 14,
   "id": "c7e8fb98",
   "metadata": {},
   "outputs": [
    {
     "name": "stdout",
     "output_type": "stream",
     "text": [
      "Enter a string: hey how are you\n",
      "Enter a letter: 14\n",
      "The letter is not in the string: 14\n"
     ]
    }
   ],
   "source": [
    "#C)\n",
    "string = input(\"Enter a string: \")\n",
    "letter = input(\"Enter a letter: \")\n",
    "\n",
    "found = False\n",
    "\n",
    "for i in range(len(string)):\n",
    "    if string[i] == letter:\n",
    "        found = True\n",
    "        index = i\n",
    "        break\n",
    "\n",
    "if found:\n",
    "    print(\"The letter first appears at index:\".format(letter,index))\n",
    "else:\n",
    "    print(\"The letter is not in the string:\",letter)\n"
   ]
  },
  {
   "cell_type": "markdown",
   "id": "f174000b",
   "metadata": {},
   "source": [
    "14. Finding a substring within a string\n",
    "- For example, if we were presented a series of lines formatted as follows:\n",
    " From stephen.marquard@uct.ac.za Sat Jan 5 09:14:16 2008\n",
    "- and we wanted to pull out only the second half of the address (i.e., uct.ac.za)"
   ]
  },
  {
   "cell_type": "code",
   "execution_count": 99,
   "id": "0b476fea",
   "metadata": {},
   "outputs": [
    {
     "data": {
      "text/plain": [
       "'uct.ac.za'"
      ]
     },
     "execution_count": 99,
     "metadata": {},
     "output_type": "execute_result"
    }
   ],
   "source": [
    "froms='stephen.marquard@uct.ac.za Sat Jan 5 09:14:16 2008'\n",
    "froms[froms.index('@')+1:froms.index(' S')]"
   ]
  },
  {
   "cell_type": "markdown",
   "id": "f32ff6c3",
   "metadata": {},
   "source": [
    "15. Write a Python program to add 'ing' at the end of a given string (length should be at least 3). If the\n",
    "given string already ends with 'ing' then add 'ly' instead.\n",
    "If the string length of the given string is less than 3, leave it unchanged.\n",
    "- Go to the editor\n",
    "- Sample String : 'abc'\n",
    "- Expected Result : 'abcing'\n",
    "- Sample String : 'string'\n",
    "- Expected Result : 'stringly'"
   ]
  },
  {
   "cell_type": "code",
   "execution_count": 86,
   "id": "080600ab",
   "metadata": {},
   "outputs": [
    {
     "name": "stdout",
     "output_type": "stream",
     "text": [
      "enter a string:abc\n",
      "abcing\n",
      "enter a string:string\n",
      "stringly\n"
     ]
    }
   ],
   "source": [
    "string=input(\"enter a string:\")\n",
    "if string.endswith('ing'):\n",
    "    print(string+'ly')\n",
    "else:\n",
    "    print(string+'ing')\n",
    "    \n",
    "    \n",
    "string=input(\"enter a string:\")\n",
    "if string.endswith('ly'):\n",
    "    print(string+'ing')\n",
    "else:\n",
    "    print(string+'ly')"
   ]
  },
  {
   "cell_type": "markdown",
   "id": "9321eb70",
   "metadata": {},
   "source": [
    "16. Take the following Python code that stores a string:‘\n",
    "- string = 'X-DSPAM-Confidence: 0.8475'\n",
    "- Extract the portion of the string after the colon character and then use the float function to convert\n",
    "the extracted string into a floating point number."
   ]
  },
  {
   "cell_type": "code",
   "execution_count": 108,
   "id": "6809b12f",
   "metadata": {},
   "outputs": [
    {
     "data": {
      "text/plain": [
       "0.8475"
      ]
     },
     "execution_count": 108,
     "metadata": {},
     "output_type": "execute_result"
    }
   ],
   "source": [
    "string = 'X-DSPAM-Confidence: 0.8475'\n",
    "float(string[string.index(':')+1:].lstrip(' ').rstrip(''))"
   ]
  },
  {
   "cell_type": "code",
   "execution_count": null,
   "id": "2806f256",
   "metadata": {},
   "outputs": [],
   "source": []
  },
  {
   "cell_type": "code",
   "execution_count": null,
   "id": "5d4e48b1",
   "metadata": {},
   "outputs": [],
   "source": []
  }
 ],
 "metadata": {
  "kernelspec": {
   "display_name": "Python 3 (ipykernel)",
   "language": "python",
   "name": "python3"
  },
  "language_info": {
   "codemirror_mode": {
    "name": "ipython",
    "version": 3
   },
   "file_extension": ".py",
   "mimetype": "text/x-python",
   "name": "python",
   "nbconvert_exporter": "python",
   "pygments_lexer": "ipython3",
   "version": "3.11.5"
  }
 },
 "nbformat": 4,
 "nbformat_minor": 5
}
